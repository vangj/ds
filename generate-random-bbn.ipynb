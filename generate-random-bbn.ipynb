{
 "cells": [
  {
   "cell_type": "markdown",
   "metadata": {},
   "source": [
    "# Random Bayesian Network generation, no tears\n",
    "\n",
    "This notebook shows how to generate singly- and multi-connected Bayesian Belief Networks (BBNs). The algorithms are taken directly from [here](https://pdfs.semanticscholar.org/5273/2fb57129443592024b0e7e46c2a1ec36639c.pdf). When generating a BBN, you have to generate\n",
    "\n",
    "* the structure, which is a directed acyclic graph (DAG), and\n",
    "* the parameters, which are local probability models.\n",
    "\n",
    "In this notebook, the parameters are assumed to take on the [Dirichlet-Multinomial](https://en.wikipedia.org/wiki/Dirichlet-multinomial_distribution) distribution. If you are wondering, a singly-connected BBN is one when, ignoring the directions of the edges in the DAG, there is at most one path between any two nodes. A multi-connected BBN is one that is not singly-connected (it is defined by the negation of a singly-connected BBN). The BBNs generated using this approach gaurantees the distribution of the BBNs are uniformly distributed (look at the paper for proofs, details, and benefits of having this property). "
   ]
  },
  {
   "cell_type": "markdown",
   "metadata": {},
   "source": [
    "# Generate the structure\n",
    "\n",
    "Here, we generate the DAGs of a singly- and multi-connected BBN. Note that when we visualize the DAGs, we do so by converting it to an undirected graph only because the layout algorithm is more aesthetically pleasing."
   ]
  },
  {
   "cell_type": "code",
   "execution_count": 1,
   "metadata": {
    "ExecuteTime": {
     "end_time": "2018-04-21T20:04:16.522000Z",
     "start_time": "2018-04-21T20:04:14.630000Z"
    }
   },
   "outputs": [],
   "source": [
    "import networkx as nx\n",
    "import numpy as np\n",
    "import json\n",
    "import matplotlib.pyplot as plt\n",
    "from networkx.algorithms.dag import is_directed_acyclic_graph\n",
    "from networkx.algorithms.shortest_paths.generic import shortest_path\n",
    "\n",
    "np.random.seed(37)\n",
    "\n",
    "def get_simple_ordered_tree(n):\n",
    "    \"\"\"\n",
    "    Generates a simple-ordered tree. The tree is just a \n",
    "    directed acyclic graph of n nodes with the structure\n",
    "    0 --> 1 --> .... --> n.\n",
    "    \"\"\"\n",
    "    g = nx.DiGraph()\n",
    "    \n",
    "    for i in range(n):\n",
    "        g.add_node(i)\n",
    "    \n",
    "    for i in range(n - 1):\n",
    "        g.add_edges_from([(i, i+1, {})])\n",
    "    return g\n",
    "\n",
    "def convert_to_undirected_graph(g):\n",
    "    \"\"\"\n",
    "    Converts a directed acyclic graph (DAG) to an undirected graph.\n",
    "    We need to convert a DAG to an undirected one to use\n",
    "    some API calls to operate over the undirected graph. For example,\n",
    "    in checking for connectedness of a graph, the API has a method\n",
    "    to check for connectedness of an undirected graph, but not a \n",
    "    DAG.\n",
    "    \"\"\"\n",
    "    u = nx.Graph()\n",
    "    for n in g.nodes:\n",
    "        u.add_node(n)\n",
    "    for e in g.edges:\n",
    "        u.add_edges_from([(e[0], e[1], {})])\n",
    "    return u\n",
    "\n",
    "def is_connected(g):\n",
    "    \"\"\"\n",
    "    Checks if a the directed acyclic graph is connected.\n",
    "    \"\"\"\n",
    "    u = convert_to_undirected_graph(g)\n",
    "    return nx.is_connected(u)\n",
    "\n",
    "def get_random_node_pair(n):\n",
    "    \"\"\"\n",
    "    Randomly generates a pair of nodes.\n",
    "    \"\"\"\n",
    "    i = np.random.randint(0, n)\n",
    "    j = i\n",
    "    while j == i:\n",
    "        j = np.random.randint(0, n)\n",
    "    return i, j\n",
    "\n",
    "def edge_exists(i, j, g):\n",
    "    \"\"\"\n",
    "    Checks if the edge i --> j exists in the graph, g.\n",
    "    \"\"\"\n",
    "    return j in list(g.successors(i))\n",
    "\n",
    "def del_edge(i, j, g):\n",
    "    \"\"\"\n",
    "    Deletes the edge i --> j in the graph, g. The edge is only\n",
    "    deleted if this removal does NOT cause the graph to be\n",
    "    disconnected.\n",
    "    \"\"\"\n",
    "    if g.has_edge(i, j) is True:\n",
    "        g.remove_edge(i, j)\n",
    "\n",
    "        if is_connected(g) is False:\n",
    "            g.add_edges_from([(i, j, {})])\n",
    "        \n",
    "def add_edge(i, j, g):\n",
    "    \"\"\"\n",
    "    Adds an edge i --> j to the graph, g. The edge is only\n",
    "    added if this addition does NOT cause the graph to have\n",
    "    cycles.\n",
    "    \"\"\"\n",
    "    g.add_edges_from([(i, j, {})])\n",
    "    if is_directed_acyclic_graph(g) is False:\n",
    "        g.remove_edge(i, j)\n",
    "        \n",
    "def find_predecessor(i, j, g):\n",
    "    \"\"\"\n",
    "    Finds a predecessor, k, in the path between two nodes, i and j,\n",
    "    in the graph, g. We assume g is connected, and there is a \n",
    "    path between i and j (ignoring the direction of the edges).\n",
    "    We want to find a k, that is a parent of j, that is in\n",
    "    the path between i and j. In some cases, we may not find\n",
    "    such a k.\n",
    "    \"\"\"\n",
    "    parents = list(g.predecessors(j))\n",
    "    u = convert_to_undirected_graph(g)\n",
    "    for pa in parents:\n",
    "        try:\n",
    "            path = shortest_path(u, pa, i)\n",
    "            return pa\n",
    "        except:\n",
    "            pass\n",
    "    return None\n",
    "        \n",
    "def generate_multi_connected_structure(n, max_iter=10):\n",
    "    \"\"\"\n",
    "    Generates a multi-connected directed acyclic graph.\n",
    "    \"\"\"\n",
    "    g = get_simple_ordered_tree(n)\n",
    "    for it in range(max_iter):\n",
    "        i, j = get_random_node_pair(n)\n",
    "        if g.has_edge(i, j) is True:\n",
    "            del_edge(i, j, g)\n",
    "        else:\n",
    "            add_edge(i, j, g)\n",
    "    return g\n",
    "    \n",
    "def generate_singly_structure(n, max_iter=10):\n",
    "    \"\"\"\n",
    "    Generates a singly-connected directed acyclic graph.\n",
    "    \"\"\"\n",
    "    g = get_simple_ordered_tree(n)\n",
    "    \n",
    "    counter = 0\n",
    "    for it in range(max_iter):\n",
    "        i, j = get_random_node_pair(n)\n",
    "        if g.has_edge(i, j) is True or g.has_edge(j, i) is True:\n",
    "            pass\n",
    "        else:\n",
    "            p = np.random.random()\n",
    "            k = find_predecessor(i, j, g)\n",
    "            if k is not None:\n",
    "                g.remove_edge(k, j)\n",
    "                if p < 0.5:\n",
    "                    g.add_edges_from([(j, i, {})])\n",
    "                else:\n",
    "                    g.add_edges_from([(i, j, {})])\n",
    "                \n",
    "                if is_connected(g) is False:\n",
    "                    g.add_edges_from([(k, j, {})])\n",
    "                \n",
    "                    if p < 0.5:\n",
    "                        g.remove_edge(j, i)\n",
    "                    else:\n",
    "                        g.remove_edge(i, j)\n",
    "    return g"
   ]
  },
  {
   "cell_type": "markdown",
   "metadata": {},
   "source": [
    "## Generate DAG for singly-connected BBN"
   ]
  },
  {
   "cell_type": "code",
   "execution_count": 2,
   "metadata": {
    "ExecuteTime": {
     "end_time": "2018-04-21T20:04:16.805000Z",
     "start_time": "2018-04-21T20:04:16.529000Z"
    },
    "scrolled": false
   },
   "outputs": [
    {
     "data": {
      "image/png": "[encoded data removed]",
      "text/plain": [
       "<Figure size 720x360 with 1 Axes>"
      ]
     },
     "metadata": {},
     "output_type": "display_data"
    }
   ],
   "source": [
    "s = generate_singly_structure(5, 1000)\n",
    "plt.figure(figsize=(10, 5))\n",
    "plt.subplot(111)\n",
    "nx.draw(convert_to_undirected_graph(s), with_labels=True, font_weight='bold')"
   ]
  },
  {
   "cell_type": "markdown",
   "metadata": {},
   "source": [
    "## Generate DAG for multi-connected BBN"
   ]
  },
  {
   "cell_type": "code",
   "execution_count": 3,
   "metadata": {
    "ExecuteTime": {
     "end_time": "2018-04-21T20:04:16.966000Z",
     "start_time": "2018-04-21T20:04:16.811000Z"
    }
   },
   "outputs": [
    {
     "data": {
      "image/png": "[encoded data removed]",
      "text/plain": [
       "<Figure size 720x360 with 1 Axes>"
      ]
     },
     "metadata": {},
     "output_type": "display_data"
    }
   ],
   "source": [
    "m = generate_multi_connected_structure(5, 10)\n",
    "plt.figure(figsize=(10, 5))\n",
    "plt.subplot(111)\n",
    "nx.draw(convert_to_undirected_graph(m), with_labels=True, font_weight='bold')"
   ]
  },
  {
   "cell_type": "markdown",
   "metadata": {},
   "source": [
    "# Generate the parameters\n",
    "\n",
    "Here, we generate parameters for the BBNs. "
   ]
  },
  {
   "cell_type": "code",
   "execution_count": 4,
   "metadata": {
    "ExecuteTime": {
     "end_time": "2018-04-21T20:04:17.255000Z",
     "start_time": "2018-04-21T20:04:16.973000Z"
    }
   },
   "outputs": [],
   "source": [
    "from scipy.stats import dirichlet, multinomial\n",
    "\n",
    "def generate_num_values(n, max_values=2):\n",
    "    \"\"\"\n",
    "    For each node, i, in the nodes, n, determine the number of values\n",
    "    the node (or equivalently, variable) has. Every node/variable in a\n",
    "    Bayesian Network should have 2 or more values. This generates\n",
    "    the number of values each variable will have. Each number will be\n",
    "    sampled uniformly.\n",
    "    \"\"\"\n",
    "    return np.array([max(np.random.randint(0, max_values) + 1, 2) for _ in range(n)])\n",
    "\n",
    "def generate_alphas(n, max_alpha=10):\n",
    "    \"\"\"\n",
    "    Generate random number for the alpha's (the hyperparameters).\n",
    "    Each number will be in the range [1, max_alpha]. Each number will\n",
    "    be sampled uniformly.\n",
    "    \"\"\"\n",
    "    return [np.random.randint(1, max_alpha + 1) for i in range(n)]\n",
    "\n",
    "def sample_dirichlet(n, max_alpha=10):\n",
    "    \"\"\"\n",
    "    Samples from the Dirichlet distribution to a produce\n",
    "    a probability vector of length n. The sum of each probability\n",
    "    in the probability vector should sum to 1.\n",
    "    \"\"\"\n",
    "    return np.array(dirichlet.rvs(generate_alphas(n, max_alpha))[0])\n",
    "\n",
    "def get_num_parent_instantiations(parents, num_values):\n",
    "    num_pa_instantiations = 1\n",
    "    for pa in parents:\n",
    "        num_pa_values = num_values[pa]\n",
    "        num_pa_instantiations *= num_pa_values\n",
    "    return num_pa_instantiations\n",
    "\n",
    "def generate_dirichlet_parameters(i, parents, num_values, max_alpha=10):\n",
    "    \"\"\"\n",
    "    Randomly and uniformly generate parameters for a node i. A matrix\n",
    "    of parameters will be returned. The matrix will represent the \n",
    "    condtional probability table of the node i. The matrix will have\n",
    "    the dimensions m (rows) by n (columns), m x n, where m is the\n",
    "    product of the domain sizes of the parents, and n is the domain\n",
    "    size of the node. The domain size is just the number of values\n",
    "    that a node (variable) has, which should always be greater than\n",
    "    or equal to 2.\n",
    "    \"\"\"\n",
    "    num_pa_instantiations = get_num_parent_instantiations(parents, num_values)\n",
    "    \n",
    "    n = num_values[i]\n",
    "    cpt = []\n",
    "    for pa_instantiation in range(num_pa_instantiations):\n",
    "        probs = sample_dirichlet(n, max_alpha)\n",
    "        cpt.append(probs)\n",
    "    return np.array(cpt)\n",
    "\n",
    "def generate_parameters(g, max_values=2, max_alpha=10):\n",
    "    \"\"\"\n",
    "    Generates parameters for each node in the graph, g.\n",
    "    A dictionary indexed by the node's id will give its\n",
    "    (sampled) parameters and its parents. \n",
    "    \"\"\"\n",
    "    num_nodes = len(list(g.nodes))\n",
    "    num_values = generate_num_values(num_nodes, max_values)\n",
    "    g_params = {}\n",
    "    for i in g.nodes:\n",
    "        parents = list(g.predecessors(i))\n",
    "        params = generate_dirichlet_parameters(i, parents, num_values, max_alpha)\n",
    "        g_params[i] = {\n",
    "            'parents': parents,\n",
    "            'params': params,\n",
    "            'shape': [get_num_parent_instantiations(parents, num_values), num_values[i]]\n",
    "        }\n",
    "    return g_params"
   ]
  },
  {
   "cell_type": "markdown",
   "metadata": {},
   "source": [
    "## Generate parameters for singly-connected BBN"
   ]
  },
  {
   "cell_type": "code",
   "execution_count": 5,
   "metadata": {
    "ExecuteTime": {
     "end_time": "2018-04-21T20:04:17.276000Z",
     "start_time": "2018-04-21T20:04:17.260000Z"
    }
   },
   "outputs": [
    {
     "name": "stdout",
     "output_type": "stream",
     "text": [
      "{0: {'params': array([[0.71181474, 0.28818526]]), 'shape': [1, 2], 'parents': []}, 1: {'params': array([[0.86794515, 0.13205485]]), 'shape': [1, 2], 'parents': []}, 2: {'params': array([[0.30951571, 0.69048429],\n",
      "       [0.62682516, 0.37317484],\n",
      "       [0.67460639, 0.32539361],\n",
      "       [0.69045561, 0.30954439]]), 'shape': [4, 2], 'parents': [1, 4]}, 3: {'params': array([[0.13664899, 0.86335101],\n",
      "       [0.67610286, 0.32389714],\n",
      "       [0.64495344, 0.35504656],\n",
      "       [0.01785642, 0.98214358]]), 'shape': [4, 2], 'parents': [0, 2]}, 4: {'params': array([[0.52939964, 0.47060036]]), 'shape': [1, 2], 'parents': []}}\n"
     ]
    }
   ],
   "source": [
    "s_params = generate_parameters(s)\n",
    "print(s_params)"
   ]
  },
  {
   "cell_type": "markdown",
   "metadata": {},
   "source": [
    "## Generate parameters for muti-connected BBN"
   ]
  },
  {
   "cell_type": "code",
   "execution_count": 6,
   "metadata": {
    "ExecuteTime": {
     "end_time": "2018-04-21T20:04:17.294000Z",
     "start_time": "2018-04-21T20:04:17.282000Z"
    }
   },
   "outputs": [
    {
     "name": "stdout",
     "output_type": "stream",
     "text": [
      "{0: {'params': array([[0.70820717, 0.29179283]]), 'shape': [1, 2], 'parents': []}, 1: {'params': array([[0.42431414, 0.57568586]]), 'shape': [1, 2], 'parents': []}, 2: {'params': array([[0.48808113, 0.51191887],\n",
      "       [0.3211454 , 0.6788546 ],\n",
      "       [0.78121849, 0.21878151],\n",
      "       [0.14532112, 0.85467888],\n",
      "       [0.59857619, 0.40142381],\n",
      "       [0.86211542, 0.13788458],\n",
      "       [0.14583872, 0.85416128],\n",
      "       [0.44173526, 0.55826474]]), 'shape': [8, 2], 'parents': [0, 1, 3]}, 3: {'params': array([[0.41767369, 0.58232631]]), 'shape': [1, 2], 'parents': []}, 4: {'params': array([[0.20613309, 0.79386691],\n",
      "       [0.43029624, 0.56970376],\n",
      "       [0.4609832 , 0.5390168 ],\n",
      "       [0.46319254, 0.53680746]]), 'shape': [4, 2], 'parents': [0, 3]}}\n"
     ]
    }
   ],
   "source": [
    "m_params = generate_parameters(m)\n",
    "print(m_params)"
   ]
  },
  {
   "cell_type": "markdown",
   "metadata": {},
   "source": [
    "# Persist (save) the Bayesian Belief Network\n",
    "\n",
    "Here, we show how to save the BBN (the DAG and parameters). Note that we save it to a JSON file format. There are simply too many formats for BBNs, but the JSON format here has all the information you need to convert it to any other format."
   ]
  },
  {
   "cell_type": "code",
   "execution_count": 7,
   "metadata": {
    "ExecuteTime": {
     "end_time": "2018-04-21T20:04:17.314000Z",
     "start_time": "2018-04-21T20:04:17.302000Z"
    }
   },
   "outputs": [],
   "source": [
    "def to_json(g, params, pretty=False):\n",
    "    j = {}\n",
    "    \n",
    "    j['nodes'] = list(g.nodes)\n",
    "    j['edges'] = [{'pa': e[0], 'ch': e[1]} for e in g.edges]\n",
    "    j['parameters'] = [{'node': k, 'params': list(v['params'].flatten()), 'shape': v['shape'] } for k, v in params.items()]\n",
    "    return json.dumps(j, indent=2, sort_keys=False) if pretty is True else json.dumps(j)"
   ]
  },
  {
   "cell_type": "markdown",
   "metadata": {},
   "source": [
    "## Persist singly-connected BBN"
   ]
  },
  {
   "cell_type": "code",
   "execution_count": 8,
   "metadata": {
    "ExecuteTime": {
     "end_time": "2018-04-21T20:04:17.336000Z",
     "start_time": "2018-04-21T20:04:17.319000Z"
    }
   },
   "outputs": [
    {
     "name": "stdout",
     "output_type": "stream",
     "text": [
      "{\"nodes\": [0, 1, 2, 3, 4], \"edges\": [{\"ch\": 3, \"pa\": 0}, {\"ch\": 2, \"pa\": 1}, {\"ch\": 3, \"pa\": 2}, {\"ch\": 2, \"pa\": 4}], \"parameters\": [{\"node\": 0, \"shape\": [1, 2], \"params\": [0.711814740302191, 0.28818525969780895]}, {\"node\": 1, \"shape\": [1, 2], \"params\": [0.8679451522459679, 0.13205484775403206]}, {\"node\": 2, \"shape\": [4, 2], \"params\": [0.30951571279178186, 0.6904842872082181, 0.6268251609478351, 0.37317483905216486, 0.6746063859505065, 0.3253936140494935, 0.6904556123600698, 0.3095443876399302]}, {\"node\": 3, \"shape\": [4, 2], \"params\": [0.1366489944259987, 0.8633510055740012, 0.6761028569976281, 0.32389714300237193, 0.6449534409078249, 0.3550465590921751, 0.01785642355198514, 0.982143576448015]}, {\"node\": 4, \"shape\": [1, 2], \"params\": [0.5293996424146508, 0.47060035758534935]}]}\n"
     ]
    }
   ],
   "source": [
    "s_json = to_json(s, s_params)\n",
    "print(s_json)\n",
    "with open('singly-connected.json', 'w') as fhandle:\n",
    "    fhandle.write(to_json(s, s_params, pretty=True))"
   ]
  },
  {
   "cell_type": "markdown",
   "metadata": {},
   "source": [
    "# Persist multi-connected BBN"
   ]
  },
  {
   "cell_type": "code",
   "execution_count": 9,
   "metadata": {
    "ExecuteTime": {
     "end_time": "2018-04-21T20:04:17.356000Z",
     "start_time": "2018-04-21T20:04:17.342000Z"
    },
    "scrolled": false
   },
   "outputs": [
    {
     "name": "stdout",
     "output_type": "stream",
     "text": [
      "{\"nodes\": [0, 1, 2, 3, 4], \"edges\": [{\"ch\": 2, \"pa\": 0}, {\"ch\": 4, \"pa\": 0}, {\"ch\": 2, \"pa\": 1}, {\"ch\": 2, \"pa\": 3}, {\"ch\": 4, \"pa\": 3}], \"parameters\": [{\"node\": 0, \"shape\": [1, 2], \"params\": [0.708207170258224, 0.29179282974177606]}, {\"node\": 1, \"shape\": [1, 2], \"params\": [0.4243141440938187, 0.5756858559061814]}, {\"node\": 2, \"shape\": [8, 2], \"params\": [0.48808112571102985, 0.5119188742889702, 0.3211453986705949, 0.6788546013294051, 0.7812184851465944, 0.21878151485340552, 0.14532112326194915, 0.8546788767380509, 0.5985761943499486, 0.4014238056500515, 0.8621154224909061, 0.1378845775090939, 0.14583871638409399, 0.8541612836159059, 0.44173525886699105, 0.5582647411330088]}, {\"node\": 3, \"shape\": [1, 2], \"params\": [0.41767369456638126, 0.5823263054336187]}, {\"node\": 4, \"shape\": [4, 2], \"params\": [0.20613308839993905, 0.7938669116000611, 0.43029624441485004, 0.56970375558515, 0.4609831964438165, 0.5390168035561835, 0.4631925375186775, 0.5368074624813227]}]}\n"
     ]
    }
   ],
   "source": [
    "m_json = to_json(m, m_params)\n",
    "print(m_json)\n",
    "with open('multi-connected.json', 'w') as fhandle:\n",
    "    fhandle.write(to_json(m, m_params, pretty=True))"
   ]
  },
  {
   "cell_type": "markdown",
   "metadata": {},
   "source": [
    "# All-in-one (AIO) example\n",
    "\n",
    "Here's a simple AIO example of generating a singly-connected BBN and its corresponding JSON."
   ]
  },
  {
   "cell_type": "code",
   "execution_count": 10,
   "metadata": {
    "ExecuteTime": {
     "end_time": "2018-04-21T20:04:17.447000Z",
     "start_time": "2018-04-21T20:04:17.361000Z"
    }
   },
   "outputs": [],
   "source": [
    "g = generate_singly_structure(5, 1000)\n",
    "p = generate_parameters(g)\n",
    "j = to_json(g, p)"
   ]
  },
  {
   "cell_type": "markdown",
   "metadata": {},
   "source": [
    "# References\n",
    "\n",
    "* [Random generation of Bayesian Networks](https://pdfs.semanticscholar.org/5273/2fb57129443592024b0e7e46c2a1ec36639c.pdf)\n",
    "* [SciPy Dirichlet](https://docs.scipy.org/doc/scipy/reference/generated/scipy.stats.dirichlet.html)\n",
    "* [SciPy Multinomial](https://docs.scipy.org/doc/scipy/reference/generated/scipy.stats.multinomial.html)\n",
    "* [The JSON Validator](https://jsonlint.com/)"
   ]
  },
  {
   "cell_type": "markdown",
   "metadata": {},
   "source": [
    "# Take a Look!\n",
    "\n",
    "Take a look at [Dr. Amos Tversky](https://en.wikipedia.org/wiki/Amos_Tversky)!"
   ]
  },
  {
   "cell_type": "code",
   "execution_count": null,
   "metadata": {},
   "outputs": [],
   "source": []
  }
 ],
 "metadata": {
  "kernelspec": {
   "display_name": "ds",
   "language": "python",
   "name": "ds"
  },
  "language_info": {
   "codemirror_mode": {
    "name": "ipython",
    "version": 2
   },
   "file_extension": ".py",
   "mimetype": "text/x-python",
   "name": "python",
   "nbconvert_exporter": "python",
   "pygments_lexer": "ipython2",
   "version": "2.7.14"
  },
  "toc": {
   "base_numbering": 1,
   "nav_menu": {},
   "number_sections": true,
   "sideBar": true,
   "skip_h1_title": false,
   "title_cell": "Table of Contents",
   "title_sidebar": "Contents",
   "toc_cell": false,
   "toc_position": {},
   "toc_section_display": true,
   "toc_window_display": false
  }
 },
 "nbformat": 4,
 "nbformat_minor": 2
}
