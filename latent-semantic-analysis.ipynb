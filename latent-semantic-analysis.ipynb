{
 "cells": [
  {
   "cell_type": "markdown",
   "metadata": {},
   "source": [
    "# Latent semantic analysis, no tears"
   ]
  },
  {
   "cell_type": "markdown",
   "metadata": {},
   "source": [
    "[Latent semantic analysis](https://en.wikipedia.org/wiki/Latent_semantic_analysis) (LSA) is a natural language processing (NLP) technique to bridge terms and documents through concepts. The idea is that there are hidden concepts (latent concepts) through which words and documents are related. The heart and soul of LSA is the application of [singular value decomposition](https://en.wikipedia.org/wiki/Singular-value_decomposition) (SVD) to a term-document matrix. In this tutorial, we will see how SVD is applied to documents and terms in those documents to flush out the latent concepts. "
   ]
  },
  {
   "cell_type": "code",
   "execution_count": 1,
   "metadata": {
    "ExecuteTime": {
     "end_time": "2018-04-14T07:32:27.028000Z",
     "start_time": "2018-04-14T07:32:26.335000Z"
    }
   },
   "outputs": [
    {
     "name": "stdout",
     "output_type": "stream",
     "text": [
      "data shape is (11L, 3L)\n",
      "q shape is (11L, 1L)\n"
     ]
    }
   ],
   "source": [
    "import pandas as pd\n",
    "import numpy as np\n",
    "\n",
    "df = pd.DataFrame(\n",
    "    data={\n",
    "        'd1': [1, 0, 1, 0, 1, 1, 1, 1, 1, 0, 0],\n",
    "        'd2': [1, 1, 0, 1, 0, 0, 1, 1, 0, 2, 1],\n",
    "        'd3': [1, 1, 0, 0, 0, 1, 1, 1, 1, 0, 1]\n",
    "    }, \n",
    "    index=['a', 'arrived', 'damaged', 'delivery', 'fire', 'gold', 'in', 'of', 'shipment', 'silver', 'truck'])\n",
    "\n",
    "A = df.as_matrix()\n",
    "q = np.array([0, 0, 0, 0, 0, 1, 0, 0, 0, 1, 1]).reshape(-1, 1)\n",
    "\n",
    "print('data shape is {}'.format(A.shape))\n",
    "print('q shape is {}'.format(q.shape))"
   ]
  },
  {
   "cell_type": "code",
   "execution_count": 2,
   "metadata": {
    "ExecuteTime": {
     "end_time": "2018-04-14T07:32:27.578000Z",
     "start_time": "2018-04-14T07:32:27.489000Z"
    }
   },
   "outputs": [
    {
     "name": "stdout",
     "output_type": "stream",
     "text": [
      "data shape is (11L, 9L)\n",
      "q shape is (11L, 1L)\n"
     ]
    }
   ],
   "source": [
    "df = pd.DataFrame(\n",
    "    data={\n",
    "        'd1': [0, 0, 0, 0, 1, 1, 1, 0, 0, 1, 0],\n",
    "        'd2': [0, 0, 1, 0, 0, 1, 0, 0, 0, 0, 0],\n",
    "        'd3': [1, 0, 0, 0, 0, 1, 1, 0, 0, 1, 0],\n",
    "        'd4': [1, 0, 0, 0, 0, 1, 0, 0, 0, 0, 1],\n",
    "        'd5': [0, 0, 0, 0, 0, 1, 0, 0, 0, 0, 1],\n",
    "        'd6': [0, 1, 0, 0, 1, 1, 0, 0, 2, 0, 0],\n",
    "        'd7': [0, 0, 0, 1, 0, 1, 0, 1, 0, 0, 0],\n",
    "        'd8': [0, 0, 1, 0, 0, 1, 0, 0, 0, 1, 0],\n",
    "        'd9': [0, 1, 0, 1, 0, 1, 0, 1, 1, 0, 0]\n",
    "    }, \n",
    "    index=['book', 'dads', 'dummies', 'estate', 'guide', 'investing', 'market', 'real', 'rich', 'stock', 'value'])\n",
    "\n",
    "A = df.as_matrix()\n",
    "q = np.array([0, 0, 0, 0, 1, 1, 1, 0, 0, 1, 0]).reshape(-1, 1)\n",
    "\n",
    "print('data shape is {}'.format(A.shape))\n",
    "print('q shape is {}'.format(q.shape))"
   ]
  },
  {
   "cell_type": "code",
   "execution_count": 3,
   "metadata": {
    "ExecuteTime": {
     "end_time": "2018-04-14T07:32:28.738000Z",
     "start_time": "2018-04-14T07:32:28.672000Z"
    }
   },
   "outputs": [],
   "source": [
    "from numpy.linalg import svd\n",
    "\n",
    "U, S, VT = svd(A, full_matrices=False)\n",
    "S = np.diag(S)\n",
    "V = VT.transpose()"
   ]
  },
  {
   "cell_type": "code",
   "execution_count": 4,
   "metadata": {
    "ExecuteTime": {
     "end_time": "2018-04-14T07:32:30.348000Z",
     "start_time": "2018-04-14T07:32:30.246000Z"
    }
   },
   "outputs": [
    {
     "data": {
      "text/plain": [
       "array([[-0.15283556,  0.26603445, -0.04450319,  0.358775  , -0.34803847,\n",
       "         0.63535811,  0.31922832, -0.32449103, -0.20773802],\n",
       "       [-0.23746367, -0.37826282,  0.08595889,  0.01499714, -0.02516682,\n",
       "         0.22127486, -0.29223307,  0.36798708, -0.60717185],\n",
       "       [-0.13026538,  0.17428415, -0.06901432, -0.18290664,  0.74967516,\n",
       "         0.22463392,  0.18161361,  0.04150121, -0.33676831],\n",
       "       [-0.18440432, -0.1939483 , -0.44568964, -0.32244773, -0.2327524 ,\n",
       "        -0.04718926,  0.00176424, -0.14417187, -0.10058143],\n",
       "       [-0.2161232 , -0.08727248,  0.46011902, -0.0203134 , -0.06163386,\n",
       "        -0.52298039,  0.33344464, -0.42676947, -0.40364266],\n",
       "       [-0.74009654,  0.21114703, -0.21075317,  0.09834346,  0.17016449,\n",
       "        -0.16705767,  0.17823168,  0.12803352,  0.30776   ],\n",
       "       [-0.17687585,  0.29791161,  0.28320277, -0.19824148, -0.41126217,\n",
       "        -0.0419337 ,  0.18342887,  0.63298255, -0.03749517],\n",
       "       [-0.18440432, -0.1939483 , -0.44568964, -0.32244773, -0.2327524 ,\n",
       "        -0.04718926,  0.00176424, -0.14417187, -0.10058143],\n",
       "       [-0.3630785 , -0.58854128,  0.34119818,  0.16040344,  0.05897686,\n",
       "         0.25011318, -0.07066526, -0.07164939,  0.3868326 ],\n",
       "       [-0.2501936 ,  0.41557716,  0.28435272, -0.35143569, -0.04604777,\n",
       "         0.12992729, -0.65566352, -0.33207942,  0.03409374],\n",
       "       [-0.12293617,  0.14317803, -0.23449128,  0.65653302, -0.01963978,\n",
       "        -0.33140695, -0.41014284,  0.0373581 , -0.21139955]])"
      ]
     },
     "execution_count": 4,
     "metadata": {},
     "output_type": "execute_result"
    }
   ],
   "source": [
    "U"
   ]
  },
  {
   "cell_type": "code",
   "execution_count": 5,
   "metadata": {
    "ExecuteTime": {
     "end_time": "2018-04-14T07:32:44.681000Z",
     "start_time": "2018-04-14T07:32:44.611000Z"
    }
   },
   "outputs": [
    {
     "data": {
      "text/plain": [
       "array([[3.90941804, 0.        , 0.        , 0.        , 0.        ,\n",
       "        0.        , 0.        , 0.        , 0.        ],\n",
       "       [0.        , 2.60911881, 0.        , 0.        , 0.        ,\n",
       "        0.        , 0.        , 0.        , 0.        ],\n",
       "       [0.        , 0.        , 1.99682784, 0.        , 0.        ,\n",
       "        0.        , 0.        , 0.        , 0.        ],\n",
       "       [0.        , 0.        , 0.        , 1.68702498, 0.        ,\n",
       "        0.        , 0.        , 0.        , 0.        ],\n",
       "       [0.        , 0.        , 0.        , 0.        , 1.54678536,\n",
       "        0.        , 0.        , 0.        , 0.        ],\n",
       "       [0.        , 0.        , 0.        , 0.        , 0.        ,\n",
       "        1.04451835, 0.        , 0.        , 0.        ],\n",
       "       [0.        , 0.        , 0.        , 0.        , 0.        ,\n",
       "        0.        , 0.59375541, 0.        , 0.        ],\n",
       "       [0.        , 0.        , 0.        , 0.        , 0.        ,\n",
       "        0.        , 0.        , 0.41040138, 0.        ],\n",
       "       [0.        , 0.        , 0.        , 0.        , 0.        ,\n",
       "        0.        , 0.        , 0.        , 0.26652691]])"
      ]
     },
     "execution_count": 5,
     "metadata": {},
     "output_type": "execute_result"
    }
   ],
   "source": [
    "S"
   ]
  },
  {
   "cell_type": "code",
   "execution_count": 6,
   "metadata": {
    "ExecuteTime": {
     "end_time": "2018-04-14T07:32:46.136000Z",
     "start_time": "2018-04-14T07:32:46.066000Z"
    }
   },
   "outputs": [
    {
     "data": {
      "text/plain": [
       "array([[-0.35383506,  0.32093722,  0.40910955, -0.27957328, -0.22548656,\n",
       "        -0.57638477,  0.06642748,  0.00528064, -0.37251056],\n",
       "       [-0.22263209,  0.14772466, -0.14010597, -0.05012563,  0.59467827,\n",
       "         0.05512229,  0.6060497 ,  0.41309491, -0.10883818],\n",
       "       [-0.33764656,  0.45634958,  0.15639762, -0.05486505, -0.41064775,\n",
       "         0.53258425,  0.04248441,  0.25449627,  0.36251709],\n",
       "       [-0.25985153,  0.23776591, -0.24526283,  0.66012743, -0.12769307,\n",
       "         0.13105895,  0.14705913, -0.38766784, -0.41788486],\n",
       "       [-0.22075733,  0.13580258, -0.22297589,  0.44746016,  0.09731454,\n",
       "        -0.4772196 , -0.39058366,  0.40299965,  0.36154119],\n",
       "       [-0.49108087, -0.54864149,  0.50966892,  0.24530407,  0.13015221,\n",
       "         0.03012216,  0.13155708, -0.18042741,  0.26492893],\n",
       "       [-0.28364968, -0.06774301, -0.55194165, -0.32397387, -0.19093813,\n",
       "        -0.25029354,  0.30611957, -0.39061815,  0.39994891],\n",
       "       [-0.28662975,  0.3070034 ,  0.00229626, -0.25844245,  0.5649083 ,\n",
       "         0.17951196, -0.49821564, -0.39606276,  0.01908037],\n",
       "       [-0.43726389, -0.43829115, -0.33802383, -0.22000351, -0.16907987,\n",
       "         0.20100349, -0.30507205,  0.33144981, -0.42675657]])"
      ]
     },
     "execution_count": 6,
     "metadata": {},
     "output_type": "execute_result"
    }
   ],
   "source": [
    "V"
   ]
  },
  {
   "cell_type": "code",
   "execution_count": 7,
   "metadata": {
    "ExecuteTime": {
     "end_time": "2018-04-14T07:32:46.950000Z",
     "start_time": "2018-04-14T07:32:46.882000Z"
    }
   },
   "outputs": [
    {
     "data": {
      "text/plain": [
       "array([[-0.35383506, -0.22263209, -0.33764656, -0.25985153, -0.22075733,\n",
       "        -0.49108087, -0.28364968, -0.28662975, -0.43726389],\n",
       "       [ 0.32093722,  0.14772466,  0.45634958,  0.23776591,  0.13580258,\n",
       "        -0.54864149, -0.06774301,  0.3070034 , -0.43829115],\n",
       "       [ 0.40910955, -0.14010597,  0.15639762, -0.24526283, -0.22297589,\n",
       "         0.50966892, -0.55194165,  0.00229626, -0.33802383],\n",
       "       [-0.27957328, -0.05012563, -0.05486505,  0.66012743,  0.44746016,\n",
       "         0.24530407, -0.32397387, -0.25844245, -0.22000351],\n",
       "       [-0.22548656,  0.59467827, -0.41064775, -0.12769307,  0.09731454,\n",
       "         0.13015221, -0.19093813,  0.5649083 , -0.16907987],\n",
       "       [-0.57638477,  0.05512229,  0.53258425,  0.13105895, -0.4772196 ,\n",
       "         0.03012216, -0.25029354,  0.17951196,  0.20100349],\n",
       "       [ 0.06642748,  0.6060497 ,  0.04248441,  0.14705913, -0.39058366,\n",
       "         0.13155708,  0.30611957, -0.49821564, -0.30507205],\n",
       "       [ 0.00528064,  0.41309491,  0.25449627, -0.38766784,  0.40299965,\n",
       "        -0.18042741, -0.39061815, -0.39606276,  0.33144981],\n",
       "       [-0.37251056, -0.10883818,  0.36251709, -0.41788486,  0.36154119,\n",
       "         0.26492893,  0.39994891,  0.01908037, -0.42675657]])"
      ]
     },
     "execution_count": 7,
     "metadata": {},
     "output_type": "execute_result"
    }
   ],
   "source": [
    "VT"
   ]
  },
  {
   "cell_type": "code",
   "execution_count": 8,
   "metadata": {
    "ExecuteTime": {
     "end_time": "2018-04-14T07:32:49.801000Z",
     "start_time": "2018-04-14T07:32:48.419000Z"
    }
   },
   "outputs": [
    {
     "data": {
      "image/png": "[encoded data removed]",
      "text/plain": [
       "<Figure size 720x720 with 2 Axes>"
      ]
     },
     "metadata": {},
     "output_type": "display_data"
    }
   ],
   "source": [
    "%matplotlib inline\n",
    "\n",
    "import matplotlib.pylab as plt\n",
    "import seaborn as sns\n",
    "\n",
    "fig, ax = plt.subplots(figsize=(10, 10))\n",
    "x_labels = ['doc{}'.format(i+1) for i in range(V.shape[0])]\n",
    "y_labels = ['dim{}'.format(i+1) for i in range(V.shape[1])]\n",
    "sns.heatmap(V, xticklabels=x_labels, yticklabels=y_labels, center=0.0, ax=ax)\n",
    "plt.show()"
   ]
  },
  {
   "cell_type": "code",
   "execution_count": 9,
   "metadata": {
    "ExecuteTime": {
     "end_time": "2018-04-14T07:33:01.209000Z",
     "start_time": "2018-04-14T07:33:00.893000Z"
    }
   },
   "outputs": [
    {
     "name": "stdout",
     "output_type": "stream",
     "text": [
      "[1 1 0 0 3 2 1 1 1]\n",
      "[[ 0.06476813 -0.0951158   0.05076629  0.2074323   0.11224214  0.3774865\n",
      "  -0.43795776 -0.1280731  -0.27901367]\n",
      " [-0.06674006  0.1670798   0.15564016 -0.13611584  0.05780049 -0.16473275\n",
      "  -0.00718847 -0.17096488 -0.25518677]\n",
      " [-0.57638477  0.05512229  0.53258425  0.13105895 -0.4772196   0.03012216\n",
      "  -0.25029354  0.17951196  0.20100349]\n",
      " [-0.22548656  0.59467827 -0.41064775 -0.12769307  0.09731454  0.13015221\n",
      "  -0.19093813  0.5649083  -0.16907987]]\n"
     ]
    }
   ],
   "source": [
    "from sklearn.cluster import KMeans\n",
    "\n",
    "kmeans = KMeans(n_clusters=min(4, VT.shape[0])).fit(VT)\n",
    "print(kmeans.labels_)\n",
    "print(kmeans.cluster_centers_)"
   ]
  },
  {
   "cell_type": "code",
   "execution_count": 10,
   "metadata": {
    "ExecuteTime": {
     "end_time": "2018-04-14T07:33:06.296000Z",
     "start_time": "2018-04-14T07:33:06.262000Z"
    }
   },
   "outputs": [],
   "source": [
    "from numpy.linalg import inv\n",
    "\n",
    "k = 3\n",
    "U_k = U[:, 0:k]\n",
    "S_k = inv(S[0:k, 0:k])\n",
    "V_k = V[:, 0:k]"
   ]
  },
  {
   "cell_type": "code",
   "execution_count": 11,
   "metadata": {
    "ExecuteTime": {
     "end_time": "2018-04-14T07:33:09.698000Z",
     "start_time": "2018-04-14T07:33:07.815000Z"
    }
   },
   "outputs": [
    {
     "name": "stdout",
     "output_type": "stream",
     "text": [
      "n = 3, k = 2, num_plots = 2\n"
     ]
    },
    {
     "data": {
      "image/png": "[encoded data removed]",
      "text/plain": [
       "<Figure size 720x720 with 4 Axes>"
      ]
     },
     "metadata": {},
     "output_type": "display_data"
    }
   ],
   "source": [
    "from scipy.special import binom\n",
    "\n",
    "def plot_terms_docs(x_index, y_index, U, VT, df, ax):\n",
    "    def get_jitter():\n",
    "        return np.random.choice(np.linspace(0.05, 0.2, 10), 1)\n",
    "    \n",
    "    for i in range(len(df.index)):\n",
    "        term = df.index[i]\n",
    "        x = U[i][x_index] + get_jitter()\n",
    "        y = U[i][y_index] + get_jitter()\n",
    "\n",
    "        ax.plot(x, y, color='red', marker='*', markersize=10.0)\n",
    "        ax.annotate(term, xy=(x, y), textcoords='data', horizontalalignment='left', verticalalignment='bottom')\n",
    "\n",
    "    for i in range(VT.shape[1]):\n",
    "        doc = 'd{}'.format(i + 1)\n",
    "        x = VT[i][x_index]\n",
    "        y = VT[i][y_index]\n",
    "\n",
    "        ax.plot(x, y, color='blue', marker='o', markersize=10.0)\n",
    "        ax.annotate(doc, xy=(x, y), textcoords='data', horizontalalignment='left', verticalalignment='bottom')\n",
    "        \n",
    "n = U_k.shape[1]\n",
    "k = 2\n",
    "num_plots = int(binom(n, k))\n",
    "if num_plots % k != 0:\n",
    "    num_plots = num_plots + 1\n",
    "num_plots = num_plots / k\n",
    "print('n = {}, k = {}, num_plots = {}'.format(n, k, num_plots))\n",
    "\n",
    "fig, axes = plt.subplots(k, num_plots, sharex=False, sharey=False, figsize=(10, 10))\n",
    "axes[-1, -1].axis('off')\n",
    "axes = axes.ravel()\n",
    "ax_counter = 0\n",
    "\n",
    "for i in range(n):\n",
    "    for j in range(n):\n",
    "        if j > i:\n",
    "            ax = axes[ax_counter]\n",
    "            plot_terms_docs(i, j, U_k, VT, df, ax)\n",
    "            ax.set_xlabel('dim{}'.format(i + 1))\n",
    "            ax.set_ylabel('dim{}'.format(j + 1))\n",
    "\n",
    "            ax_counter += 1"
   ]
  },
  {
   "cell_type": "code",
   "execution_count": 12,
   "metadata": {
    "ExecuteTime": {
     "end_time": "2018-04-14T07:33:15.920000Z",
     "start_time": "2018-04-14T07:33:15.853000Z"
    }
   },
   "outputs": [
    {
     "data": {
      "text/plain": [
       "array([[-0.35383506,  0.32093722,  0.40910955]])"
      ]
     },
     "execution_count": 12,
     "metadata": {},
     "output_type": "execute_result"
    }
   ],
   "source": [
    "q.transpose().dot(U_k).dot(S_k)"
   ]
  },
  {
   "cell_type": "code",
   "execution_count": 13,
   "metadata": {
    "ExecuteTime": {
     "end_time": "2018-04-14T07:33:16.761000Z",
     "start_time": "2018-04-14T07:33:16.680000Z"
    }
   },
   "outputs": [
    {
     "data": {
      "text/plain": [
       "array([[ 1.        ,  0.36294035,  0.89084012,  0.25158578,  0.14171761,\n",
       "         0.3660941 , -0.37487063,  0.76046024, -0.28002976]])"
      ]
     },
     "execution_count": 13,
     "metadata": {},
     "output_type": "execute_result"
    }
   ],
   "source": [
    "from sklearn.metrics.pairwise import cosine_similarity\n",
    "\n",
    "cosine_similarity(q.transpose().dot(U_k).dot(S_k), V_k)"
   ]
  },
  {
   "cell_type": "markdown",
   "metadata": {},
   "source": [
    "# References\n",
    "\n",
    "* [Latent Semantic Indexing (LSI) An Example](http://www1.se.cuhk.edu.hk/~seem5680/lecture/LSI-Eg.pdf)\n",
    "* [Latent Semantic Analysis (LSA) Tutorial](https://technowiki.wordpress.com/2011/08/27/latent-semantic-analysis-lsa-tutorial/)\n",
    "* [pyLDAvis](http://nbviewer.jupyter.org/github/bmabey/pyLDAvis/blob/master/notebooks/pyLDAvis_overview.ipynb)\n",
    "* [Using Gensim for LDA](http://christop.club/2014/05/06/using-gensim-for-lda/)\n",
    "* [LSA / PLSA / LDA](https://cs.stanford.edu/~ppasupat/a9online/1140.html)\n",
    "* [Cosine similarity](https://en.wikipedia.org/wiki/Cosine_similarity)\n",
    "* [Scikit-Learn Cosine Similarity](http://scikit-learn.org/stable/modules/generated/sklearn.metrics.pairwise.cosine_similarity.html)"
   ]
  },
  {
   "cell_type": "code",
   "execution_count": null,
   "metadata": {},
   "outputs": [],
   "source": []
  }
 ],
 "metadata": {
  "kernelspec": {
   "display_name": "ds",
   "language": "python",
   "name": "ds"
  },
  "language_info": {
   "codemirror_mode": {
    "name": "ipython",
    "version": 2
   },
   "file_extension": ".py",
   "mimetype": "text/x-python",
   "name": "python",
   "nbconvert_exporter": "python",
   "pygments_lexer": "ipython2",
   "version": "2.7.14"
  },
  "toc": {
   "base_numbering": 1,
   "nav_menu": {},
   "number_sections": true,
   "sideBar": true,
   "skip_h1_title": false,
   "title_cell": "Table of Contents",
   "title_sidebar": "Contents",
   "toc_cell": false,
   "toc_position": {},
   "toc_section_display": true,
   "toc_window_display": false
  },
  "varInspector": {
   "cols": {
    "lenName": 16,
    "lenType": 16,
    "lenVar": 40
   },
   "kernels_config": {
    "python": {
     "delete_cmd_postfix": "",
     "delete_cmd_prefix": "del ",
     "library": "var_list.py",
     "varRefreshCmd": "print(var_dic_list())"
    },
    "r": {
     "delete_cmd_postfix": ") ",
     "delete_cmd_prefix": "rm(",
     "library": "var_list.r",
     "varRefreshCmd": "cat(var_dic_list()) "
    }
   },
   "types_to_exclude": [
    "module",
    "function",
    "builtin_function_or_method",
    "instance",
    "_Feature"
   ],
   "window_display": false
  }
 },
 "nbformat": 4,
 "nbformat_minor": 2
}
