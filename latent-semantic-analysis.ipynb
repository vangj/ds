{
 "cells": [
  {
   "cell_type": "markdown",
   "metadata": {},
   "source": [
    "# Latent semantic analysis, no tears"
   ]
  },
  {
   "cell_type": "markdown",
   "metadata": {},
   "source": [
    "[Latent semantic analysis](https://en.wikipedia.org/wiki/Latent_semantic_analysis) (LSA) is a natural language processing (NLP) technique to bridge terms and documents through concepts. The idea is that there are hidden concepts (latent concepts) through which words and documents are related. The heart and soul of LSA is the application of [singular value decomposition](https://en.wikipedia.org/wiki/Singular-value_decomposition) (SVD) to a term-document matrix. In this tutorial, we will see how SVD is applied to documents and terms in those documents to flush out the latent concepts. "
   ]
  },
  {
   "cell_type": "code",
   "execution_count": 1,
   "metadata": {},
   "outputs": [
    {
     "name": "stdout",
     "output_type": "stream",
     "text": [
      "data shape is (11L, 3L)\n"
     ]
    }
   ],
   "source": [
    "import pandas as pd\n",
    "import numpy as np\n",
    "\n",
    "df = pd.DataFrame(\n",
    "    data={\n",
    "        'd1': [1, 0, 1, 0, 1, 1, 1, 1, 1, 0, 0],\n",
    "        'd2': [1, 1, 0, 1, 0, 0, 1, 1, 0, 2, 1],\n",
    "        'd3': [1, 1, 0, 0, 0, 1, 1, 1, 1, 0, 1]\n",
    "    }, \n",
    "    index=['a', 'arrived', 'damaged', 'delivery', 'fire', 'gold', 'in', 'of', 'shipment', 'silver', 'truck'])\n",
    "\n",
    "A = df.as_matrix()\n",
    "q = np.array([0, 0, 0, 0, 0, 1, 0, 0, 0, 1, 1]).reshape(-1, 1)\n",
    "\n",
    "print('data shape is {}'.format(A.shape))"
   ]
  },
  {
   "cell_type": "code",
   "execution_count": 2,
   "metadata": {},
   "outputs": [],
   "source": [
    "from numpy.linalg import svd\n",
    "\n",
    "U, S, VT = svd(df.as_matrix(), full_matrices=False)\n",
    "S = np.diag(S)\n",
    "V = VT.transpose()"
   ]
  },
  {
   "cell_type": "code",
   "execution_count": 3,
   "metadata": {},
   "outputs": [
    {
     "data": {
      "text/plain": [
       "array([[-0.42012157, -0.07479925, -0.04597244],\n",
       "       [-0.29948676,  0.20009226,  0.40782766],\n",
       "       [-0.12063481, -0.27489151, -0.4538001 ],\n",
       "       [-0.157561  ,  0.30464762, -0.2006467 ],\n",
       "       [-0.12063481, -0.27489151, -0.4538001 ],\n",
       "       [-0.26256057, -0.37944687,  0.15467426],\n",
       "       [-0.42012157, -0.07479925, -0.04597244],\n",
       "       [-0.42012157, -0.07479925, -0.04597244],\n",
       "       [-0.26256057, -0.37944687,  0.15467426],\n",
       "       [-0.315122  ,  0.60929523, -0.40129339],\n",
       "       [-0.29948676,  0.20009226,  0.40782766]])"
      ]
     },
     "execution_count": 3,
     "metadata": {},
     "output_type": "execute_result"
    }
   ],
   "source": [
    "U"
   ]
  },
  {
   "cell_type": "code",
   "execution_count": 4,
   "metadata": {},
   "outputs": [
    {
     "data": {
      "text/plain": [
       "array([[4.09887197, 0.        , 0.        ],\n",
       "       [0.        , 2.3615708 , 0.        ],\n",
       "       [0.        , 0.        , 1.27366868]])"
      ]
     },
     "execution_count": 4,
     "metadata": {},
     "output_type": "execute_result"
    }
   ],
   "source": [
    "S"
   ]
  },
  {
   "cell_type": "code",
   "execution_count": 5,
   "metadata": {},
   "outputs": [
    {
     "data": {
      "text/plain": [
       "array([[-0.49446664, -0.64917576, -0.57799098],\n",
       "       [-0.64582238,  0.71944692, -0.25555741],\n",
       "       [-0.58173551, -0.24691489,  0.77499473]])"
      ]
     },
     "execution_count": 5,
     "metadata": {},
     "output_type": "execute_result"
    }
   ],
   "source": [
    "V"
   ]
  },
  {
   "cell_type": "code",
   "execution_count": 6,
   "metadata": {},
   "outputs": [
    {
     "data": {
      "text/plain": [
       "array([[-0.49446664, -0.64582238, -0.58173551],\n",
       "       [-0.64917576,  0.71944692, -0.24691489],\n",
       "       [-0.57799098, -0.25555741,  0.77499473]])"
      ]
     },
     "execution_count": 6,
     "metadata": {},
     "output_type": "execute_result"
    }
   ],
   "source": [
    "VT"
   ]
  },
  {
   "cell_type": "code",
   "execution_count": 18,
   "metadata": {},
   "outputs": [],
   "source": [
    "from numpy.linalg import inv\n",
    "\n",
    "k = 2\n",
    "U_k = U[:, 0:k]\n",
    "S_k = inv(S[0:k, 0:k])\n",
    "V_k = V[:, 0:k]"
   ]
  },
  {
   "cell_type": "code",
   "execution_count": 19,
   "metadata": {},
   "outputs": [
    {
     "data": {
      "text/plain": [
       "array([[-0.49446664, -0.64917576],\n",
       "       [-0.64582238,  0.71944692],\n",
       "       [-0.58173551, -0.24691489]])"
      ]
     },
     "execution_count": 19,
     "metadata": {},
     "output_type": "execute_result"
    }
   ],
   "source": [
    "V_k"
   ]
  },
  {
   "cell_type": "code",
   "execution_count": 17,
   "metadata": {},
   "outputs": [
    {
     "data": {
      "text/plain": [
       "array([[-0.21400262,  0.18205705]])"
      ]
     },
     "execution_count": 17,
     "metadata": {},
     "output_type": "execute_result"
    }
   ],
   "source": [
    "q.transpose().dot(U_k).dot(S_k)"
   ]
  },
  {
   "cell_type": "code",
   "execution_count": 23,
   "metadata": {},
   "outputs": [
    {
     "data": {
      "text/plain": [
       "array([[ 0.10581716, -0.11818703],\n",
       "       [ 0.13820768,  0.13098038],\n",
       "       [ 0.12449292, -0.0449526 ]])"
      ]
     },
     "execution_count": 23,
     "metadata": {},
     "output_type": "execute_result"
    }
   ],
   "source": [
    "q.transpose().dot(U_k).dot(S_k) * V_k"
   ]
  },
  {
   "cell_type": "markdown",
   "metadata": {},
   "source": [
    "# References\n",
    "\n",
    "* [Latent Semantic Indexing (LSI) An Example](http://www1.se.cuhk.edu.hk/~seem5680/lecture/LSI-Eg.pdf)\n",
    "* [Latent Semantic Analysis (LSA) Tutorial](https://technowiki.wordpress.com/2011/08/27/latent-semantic-analysis-lsa-tutorial/)\n",
    "* [pyLDAvis](http://nbviewer.jupyter.org/github/bmabey/pyLDAvis/blob/master/notebooks/pyLDAvis_overview.ipynb)\n",
    "* [Using Gensim for LDA](http://christop.club/2014/05/06/using-gensim-for-lda/)\n",
    "* [LSA / PLSA / LDA](https://cs.stanford.edu/~ppasupat/a9online/1140.html)"
   ]
  },
  {
   "cell_type": "code",
   "execution_count": null,
   "metadata": {},
   "outputs": [],
   "source": []
  }
 ],
 "metadata": {
  "kernelspec": {
   "display_name": "ds",
   "language": "python",
   "name": "ds"
  },
  "language_info": {
   "codemirror_mode": {
    "name": "ipython",
    "version": 2
   },
   "file_extension": ".py",
   "mimetype": "text/x-python",
   "name": "python",
   "nbconvert_exporter": "python",
   "pygments_lexer": "ipython2",
   "version": "2.7.14"
  }
 },
 "nbformat": 4,
 "nbformat_minor": 2
}
