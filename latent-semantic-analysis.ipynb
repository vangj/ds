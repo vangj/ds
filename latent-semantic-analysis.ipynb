{
 "cells": [
  {
   "cell_type": "markdown",
   "metadata": {},
   "source": [
    "# Latent semantic analysis, no tears"
   ]
  },
  {
   "cell_type": "markdown",
   "metadata": {},
   "source": [
    "[Latent semantic analysis](https://en.wikipedia.org/wiki/Latent_semantic_analysis) (LSA) is a natural language processing (NLP) technique to bridge terms and documents through concepts. The idea is that there are hidden concepts (latent concepts) through which words and documents are related. The heart and soul of LSA is the application of [singular value decomposition](https://en.wikipedia.org/wiki/Singular-value_decomposition) (SVD) to a term-document matrix. In this tutorial, we will see how SVD is applied to documents and terms in those documents to flush out the latent concepts. "
   ]
  },
  {
   "cell_type": "code",
   "execution_count": 1,
   "metadata": {
    "ExecuteTime": {
     "end_time": "2018-04-14T01:42:42.252471Z",
     "start_time": "2018-04-14T01:42:42.052348Z"
    }
   },
   "outputs": [
    {
     "name": "stdout",
     "output_type": "stream",
     "text": [
      "data shape is (11, 3)\n"
     ]
    }
   ],
   "source": [
    "import pandas as pd\n",
    "import numpy as np\n",
    "\n",
    "df = pd.DataFrame(\n",
    "    data={\n",
    "        'd1': [1, 0, 1, 0, 1, 1, 1, 1, 1, 0, 0],\n",
    "        'd2': [1, 1, 0, 1, 0, 0, 1, 1, 0, 2, 1],\n",
    "        'd3': [1, 1, 0, 0, 0, 1, 1, 1, 1, 0, 1]\n",
    "    }, \n",
    "    index=['a', 'arrived', 'damaged', 'delivery', 'fire', 'gold', 'in', 'of', 'shipment', 'silver', 'truck'])\n",
    "\n",
    "A = df.as_matrix()\n",
    "q = np.array([0, 0, 0, 0, 0, 1, 0, 0, 0, 1, 1]).reshape(-1, 1)\n",
    "\n",
    "print('data shape is {}'.format(A.shape))"
   ]
  },
  {
   "cell_type": "code",
   "execution_count": 2,
   "metadata": {
    "ExecuteTime": {
     "end_time": "2018-04-14T01:42:42.292347Z",
     "start_time": "2018-04-14T01:42:42.255671Z"
    }
   },
   "outputs": [],
   "source": [
    "from numpy.linalg import svd\n",
    "\n",
    "U, S, VT = svd(df.as_matrix(), full_matrices=False)\n",
    "S = np.diag(S)\n",
    "V = VT.transpose()"
   ]
  },
  {
   "cell_type": "code",
   "execution_count": 3,
   "metadata": {
    "ExecuteTime": {
     "end_time": "2018-04-14T01:42:42.315404Z",
     "start_time": "2018-04-14T01:42:42.297394Z"
    }
   },
   "outputs": [
    {
     "data": {
      "text/plain": [
       "array([[-0.42012157, -0.07479925, -0.04597244],\n",
       "       [-0.29948676,  0.20009226,  0.40782766],\n",
       "       [-0.12063481, -0.27489151, -0.4538001 ],\n",
       "       [-0.157561  ,  0.30464762, -0.2006467 ],\n",
       "       [-0.12063481, -0.27489151, -0.4538001 ],\n",
       "       [-0.26256057, -0.37944687,  0.15467426],\n",
       "       [-0.42012157, -0.07479925, -0.04597244],\n",
       "       [-0.42012157, -0.07479925, -0.04597244],\n",
       "       [-0.26256057, -0.37944687,  0.15467426],\n",
       "       [-0.315122  ,  0.60929523, -0.40129339],\n",
       "       [-0.29948676,  0.20009226,  0.40782766]])"
      ]
     },
     "execution_count": 3,
     "metadata": {},
     "output_type": "execute_result"
    }
   ],
   "source": [
    "U"
   ]
  },
  {
   "cell_type": "code",
   "execution_count": 4,
   "metadata": {
    "ExecuteTime": {
     "end_time": "2018-04-14T01:42:42.326032Z",
     "start_time": "2018-04-14T01:42:42.319054Z"
    }
   },
   "outputs": [
    {
     "data": {
      "text/plain": [
       "array([[4.09887197, 0.        , 0.        ],\n",
       "       [0.        , 2.3615708 , 0.        ],\n",
       "       [0.        , 0.        , 1.27366868]])"
      ]
     },
     "execution_count": 4,
     "metadata": {},
     "output_type": "execute_result"
    }
   ],
   "source": [
    "S"
   ]
  },
  {
   "cell_type": "code",
   "execution_count": 5,
   "metadata": {
    "ExecuteTime": {
     "end_time": "2018-04-14T01:42:42.340402Z",
     "start_time": "2018-04-14T01:42:42.331492Z"
    }
   },
   "outputs": [
    {
     "data": {
      "text/plain": [
       "array([[-0.49446664, -0.64917576, -0.57799098],\n",
       "       [-0.64582238,  0.71944692, -0.25555741],\n",
       "       [-0.58173551, -0.24691489,  0.77499473]])"
      ]
     },
     "execution_count": 5,
     "metadata": {},
     "output_type": "execute_result"
    }
   ],
   "source": [
    "V"
   ]
  },
  {
   "cell_type": "code",
   "execution_count": 20,
   "metadata": {
    "ExecuteTime": {
     "end_time": "2018-04-14T01:57:00.440539Z",
     "start_time": "2018-04-14T01:57:00.428745Z"
    }
   },
   "outputs": [
    {
     "data": {
      "text/plain": [
       "array([[-0.49446664, -0.64582238, -0.58173551],\n",
       "       [-0.64917576,  0.71944692, -0.24691489],\n",
       "       [-0.57799098, -0.25555741,  0.77499473]])"
      ]
     },
     "execution_count": 20,
     "metadata": {},
     "output_type": "execute_result"
    }
   ],
   "source": [
    "VT"
   ]
  },
  {
   "cell_type": "code",
   "execution_count": 16,
   "metadata": {
    "ExecuteTime": {
     "end_time": "2018-04-14T01:47:35.605492Z",
     "start_time": "2018-04-14T01:47:35.452430Z"
    }
   },
   "outputs": [
    {
     "data": {
      "image/png": "[encoded data removed]",
      "text/plain": [
       "<Figure size 720x720 with 2 Axes>"
      ]
     },
     "metadata": {},
     "output_type": "display_data"
    }
   ],
   "source": [
    "import matplotlib.pylab as plt\n",
    "import seaborn as sns\n",
    "\n",
    "fig, ax = plt.subplots(figsize=(10,10))\n",
    "sns.heatmap(V, xticklabels=['d1', 'd2', 'd3'], yticklabels=['dim1', 'dim2', 'dim3'], center=0.0, ax=ax)\n",
    "plt.show()"
   ]
  },
  {
   "cell_type": "code",
   "execution_count": 19,
   "metadata": {
    "ExecuteTime": {
     "end_time": "2018-04-14T01:55:21.114522Z",
     "start_time": "2018-04-14T01:55:21.091836Z"
    }
   },
   "outputs": [
    {
     "name": "stdout",
     "output_type": "stream",
     "text": [
      "[1 1 0]\n",
      "[[-0.57799098 -0.25555741  0.77499473]\n",
      " [-0.5718212   0.03681227 -0.4143252 ]]\n"
     ]
    }
   ],
   "source": [
    "from sklearn.cluster import KMeans\n",
    "\n",
    "kmeans = KMeans(n_clusters=2).fit(VT)\n",
    "print(kmeans.labels_)\n",
    "print(kmeans.cluster_centers_)"
   ]
  },
  {
   "cell_type": "code",
   "execution_count": 52,
   "metadata": {
    "ExecuteTime": {
     "end_time": "2018-04-14T02:21:30.233531Z",
     "start_time": "2018-04-14T02:21:30.005241Z"
    },
    "scrolled": false
   },
   "outputs": [
    {
     "name": "stdout",
     "output_type": "stream",
     "text": [
      "a (-0.420121568982, -0.0747992542407, -0.0459724391058)\n",
      "arrived (-0.299486758805, 0.200092255061, 0.407827662554)\n",
      "damaged (-0.120634810177, -0.274891509302, -0.45380010166)\n",
      "delivery (-0.157561002294, 0.304647617207, -0.200646696281)\n",
      "fire (-0.120634810177, -0.274891509302, -0.45380010166)\n",
      "gold (-0.262560566687, -0.379446871447, 0.154674257175)\n",
      "in (-0.420121568982, -0.0747992542407, -0.0459724391058)\n",
      "of (-0.420121568982, -0.0747992542407, -0.0459724391058)\n",
      "shipment (-0.262560566687, -0.379446871447, 0.154674257175)\n",
      "silver (-0.315122004588, 0.609295234414, -0.401293392562)\n",
      "truck (-0.299486758805, 0.200092255061, 0.407827662554)\n",
      "d1 (-0.494466642225, -0.64582237611, -0.5817355054)\n",
      "d2 (-0.649175761898, 0.719446917487, -0.246914890364)\n",
      "d3 (-0.577990977344, -0.255557413187, 0.77499473461)\n"
     ]
    },
    {
     "data": {
      "image/png": "[encoded data removed]",
      "text/plain": [
       "<Figure size 720x720 with 1 Axes>"
      ]
     },
     "metadata": {},
     "output_type": "display_data"
    }
   ],
   "source": [
    "fig = plt.figure(figsize=(10, 10))\n",
    "ax = fig.add_subplot(111)\n",
    "\n",
    "for i in range(len(df.index)):\n",
    "    term = df.index[i]\n",
    "    x = U[i][0]\n",
    "    y = U[i][1]\n",
    "    z = U[i][2]\n",
    "    print('{} ({}, {}, {})'.format(term, x, y, z))\n",
    "    \n",
    "    plt.plot(y, z, color='red', marker='*', markersize=10.0)\n",
    "    ax.annotate(term, xy=(y, z), textcoords='data', horizontalalignment='left', verticalalignment='bottom')\n",
    "    \n",
    "for i in range(VT.shape[1]):\n",
    "    doc = 'd{}'.format(i + 1)\n",
    "    x = VT[i][0]\n",
    "    y = VT[i][1]\n",
    "    z = VT[i][2]\n",
    "    print('{} ({}, {}, {})'.format(doc, x, y, z))\n",
    "    \n",
    "    plt.plot(y, z, color='blue', marker='o', markersize=10.0)\n",
    "    ax.annotate(doc, xy=(y, z), textcoords='data', horizontalalignment='left', verticalalignment='bottom')"
   ]
  },
  {
   "cell_type": "code",
   "execution_count": 8,
   "metadata": {
    "ExecuteTime": {
     "end_time": "2018-04-14T01:42:42.731169Z",
     "start_time": "2018-04-14T01:42:42.725311Z"
    }
   },
   "outputs": [],
   "source": [
    "from numpy.linalg import inv\n",
    "\n",
    "k = 2\n",
    "U_k = U[:, 0:k]\n",
    "S_k = inv(S[0:k, 0:k])\n",
    "V_k = V[:, 0:k]"
   ]
  },
  {
   "cell_type": "code",
   "execution_count": 9,
   "metadata": {
    "ExecuteTime": {
     "end_time": "2018-04-14T01:42:42.747631Z",
     "start_time": "2018-04-14T01:42:42.737083Z"
    }
   },
   "outputs": [
    {
     "data": {
      "text/plain": [
       "array([[-0.49446664, -0.64917576],\n",
       "       [-0.64582238,  0.71944692],\n",
       "       [-0.58173551, -0.24691489]])"
      ]
     },
     "execution_count": 9,
     "metadata": {},
     "output_type": "execute_result"
    }
   ],
   "source": [
    "V_k"
   ]
  },
  {
   "cell_type": "code",
   "execution_count": 10,
   "metadata": {
    "ExecuteTime": {
     "end_time": "2018-04-14T01:42:42.762727Z",
     "start_time": "2018-04-14T01:42:42.753395Z"
    }
   },
   "outputs": [
    {
     "data": {
      "text/plain": [
       "array([[-0.21400262,  0.18205705]])"
      ]
     },
     "execution_count": 10,
     "metadata": {},
     "output_type": "execute_result"
    }
   ],
   "source": [
    "q.transpose().dot(U_k).dot(S_k)"
   ]
  },
  {
   "cell_type": "code",
   "execution_count": 11,
   "metadata": {
    "ExecuteTime": {
     "end_time": "2018-04-14T01:42:42.797815Z",
     "start_time": "2018-04-14T01:42:42.768193Z"
    }
   },
   "outputs": [
    {
     "data": {
      "text/plain": [
       "array([[-0.05395084,  0.99098743,  0.44795947]])"
      ]
     },
     "execution_count": 11,
     "metadata": {},
     "output_type": "execute_result"
    }
   ],
   "source": [
    "from sklearn.metrics.pairwise import cosine_similarity\n",
    "\n",
    "cosine_similarity(q.transpose().dot(U_k).dot(S_k), V_k)"
   ]
  },
  {
   "cell_type": "markdown",
   "metadata": {},
   "source": [
    "# References\n",
    "\n",
    "* [Latent Semantic Indexing (LSI) An Example](http://www1.se.cuhk.edu.hk/~seem5680/lecture/LSI-Eg.pdf)\n",
    "* [Latent Semantic Analysis (LSA) Tutorial](https://technowiki.wordpress.com/2011/08/27/latent-semantic-analysis-lsa-tutorial/)\n",
    "* [pyLDAvis](http://nbviewer.jupyter.org/github/bmabey/pyLDAvis/blob/master/notebooks/pyLDAvis_overview.ipynb)\n",
    "* [Using Gensim for LDA](http://christop.club/2014/05/06/using-gensim-for-lda/)\n",
    "* [LSA / PLSA / LDA](https://cs.stanford.edu/~ppasupat/a9online/1140.html)\n",
    "* [Cosine similarity](https://en.wikipedia.org/wiki/Cosine_similarity)\n",
    "* [Scikit-Learn Cosine Similarity](http://scikit-learn.org/stable/modules/generated/sklearn.metrics.pairwise.cosine_similarity.html)"
   ]
  },
  {
   "cell_type": "code",
   "execution_count": null,
   "metadata": {},
   "outputs": [],
   "source": []
  }
 ],
 "metadata": {
  "kernelspec": {
   "display_name": "ds",
   "language": "python",
   "name": "ds"
  },
  "language_info": {
   "codemirror_mode": {
    "name": "ipython",
    "version": 2
   },
   "file_extension": ".py",
   "mimetype": "text/x-python",
   "name": "python",
   "nbconvert_exporter": "python",
   "pygments_lexer": "ipython2",
   "version": "2.7.14"
  },
  "toc": {
   "base_numbering": 1,
   "nav_menu": {},
   "number_sections": true,
   "sideBar": true,
   "skip_h1_title": false,
   "title_cell": "Table of Contents",
   "title_sidebar": "Contents",
   "toc_cell": false,
   "toc_position": {},
   "toc_section_display": true,
   "toc_window_display": false
  },
  "varInspector": {
   "cols": {
    "lenName": 16,
    "lenType": 16,
    "lenVar": 40
   },
   "kernels_config": {
    "python": {
     "delete_cmd_postfix": "",
     "delete_cmd_prefix": "del ",
     "library": "var_list.py",
     "varRefreshCmd": "print(var_dic_list())"
    },
    "r": {
     "delete_cmd_postfix": ") ",
     "delete_cmd_prefix": "rm(",
     "library": "var_list.r",
     "varRefreshCmd": "cat(var_dic_list()) "
    }
   },
   "types_to_exclude": [
    "module",
    "function",
    "builtin_function_or_method",
    "instance",
    "_Feature"
   ],
   "window_display": false
  }
 },
 "nbformat": 4,
 "nbformat_minor": 2
}
