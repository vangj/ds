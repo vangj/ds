{
 "cells": [
  {
   "cell_type": "code",
   "execution_count": 1,
   "metadata": {},
   "outputs": [
    {
     "data": {
      "text/html": [
       "<svg height=\"300\" width=\"600\">\n",
       "    <!-- arcs from hidden unit 1 to visible units -->\n",
       "    <line x1=\"160\" y1=\"50\" x2=\"40\" y2=\"200\" style=\"stroke:rgb(0,0,0);stroke-width:1\" />\n",
       "    <line x1=\"160\" y1=\"50\" x2=\"120\" y2=\"200\" style=\"stroke:rgb(0,0,0);stroke-width:1\" />\n",
       "    <line x1=\"160\" y1=\"50\" x2=\"200\" y2=\"200\" style=\"stroke:rgb(0,0,0);stroke-width:1\" />\n",
       "    <line x1=\"160\" y1=\"50\" x2=\"280\" y2=\"200\" style=\"stroke:rgb(0,0,0);stroke-width:1\" />\n",
       "    <line x1=\"160\" y1=\"50\" x2=\"360\" y2=\"200\" style=\"stroke:rgb(0,0,0);stroke-width:1\" />\n",
       "    <line x1=\"160\" y1=\"50\" x2=\"440\" y2=\"200\" style=\"stroke:rgb(0,0,0);stroke-width:1\" />\n",
       "    \n",
       "    <!-- arcs from hidden unit 2 to visible units -->\n",
       "    <line x1=\"320\" y1=\"50\" x2=\"40\" y2=\"200\" style=\"stroke:rgb(180,180,180);stroke-width:1\" />\n",
       "    <line x1=\"320\" y1=\"50\" x2=\"120\" y2=\"200\" style=\"stroke:rgb(180,180,180);stroke-width:1\" />\n",
       "    <line x1=\"320\" y1=\"50\" x2=\"200\" y2=\"200\" style=\"stroke:rgb(180,180,180);stroke-width:1\" />\n",
       "    <line x1=\"320\" y1=\"50\" x2=\"280\" y2=\"200\" style=\"stroke:rgb(180,180,180);stroke-width:1\" />\n",
       "    <line x1=\"320\" y1=\"50\" x2=\"360\" y2=\"200\" style=\"stroke:rgb(180,180,180);stroke-width:1\" />\n",
       "    <line x1=\"320\" y1=\"50\" x2=\"440\" y2=\"200\" style=\"stroke:rgb(180,180,180);stroke-width:1\" />\n",
       "    \n",
       "    <line x1=\"540\" y1=\"120\" x2=\"160\" y2=\"50\" style=\"stroke:rgba(0,100,0, 0.5);stroke-width:0.5\" />\n",
       "    <line x1=\"540\" y1=\"120\" x2=\"320\" y2=\"50\" style=\"stroke:rgba(0,100,0, 0.5);stroke-width:0.5\" />\n",
       "    <line x1=\"540\" y1=\"120\" x2=\"40\" y2=\"200\" style=\"stroke:rgba(0,100,0, 0.5);stroke-width:0.5\" />\n",
       "    <line x1=\"540\" y1=\"120\" x2=\"120\" y2=\"200\" style=\"stroke:rgba(0,100,0, 0.5);stroke-width:0.5\" />\n",
       "    <line x1=\"540\" y1=\"120\" x2=\"200\" y2=\"200\" style=\"stroke:rgba(0,100,0, 0.5);stroke-width:0.5\" />\n",
       "    <line x1=\"540\" y1=\"120\" x2=\"280\" y2=\"200\" style=\"stroke:rgba(0,100,0, 0.5);stroke-width:0.5\" />\n",
       "    <line x1=\"540\" y1=\"120\" x2=\"360\" y2=\"200\" style=\"stroke:rgba(0,100,0, 0.5);stroke-width:0.5\" />\n",
       "    <line x1=\"540\" y1=\"120\" x2=\"440\" y2=\"200\" style=\"stroke:rgba(0,100,0, 0.5);stroke-width:0.5\" />\n",
       "    \n",
       "    <!-- hidden units -->\n",
       "    <circle cx=\"160\" cy=\"50\" r=\"20\" stroke=\"red\" stroke-width=\"2\" fill=\"white\" />\n",
       "    <circle cx=\"320\" cy=\"50\" r=\"20\" stroke=\"red\" stroke-width=\"2\" fill=\"white\" />\n",
       "    \n",
       "    <text x=\"154\" y=\"55\"><tspan>h<tspan dy=\"5\">1</tspan></tspan></text>\n",
       "    <text x=\"314\" y=\"55\"><tspan>h<tspan dy=\"5\">2</tspan></tspan></text>\n",
       "    \n",
       "    <!-- visible units-->\n",
       "    <circle cx=\"40\" cy=\"200\" r=\"20\" stroke=\"blue\" stroke-width=\"2\" fill=\"white\" />\n",
       "    <circle cx=\"120\" cy=\"200\" r=\"20\" stroke=\"blue\" stroke-width=\"2\" fill=\"white\" />\n",
       "    <circle cx=\"200\" cy=\"200\" r=\"20\" stroke=\"blue\" stroke-width=\"2\" fill=\"white\" />\n",
       "    <circle cx=\"280\" cy=\"200\" r=\"20\" stroke=\"blue\" stroke-width=\"2\" fill=\"white\" />\n",
       "    <circle cx=\"360\" cy=\"200\" r=\"20\" stroke=\"blue\" stroke-width=\"2\" fill=\"white\" />\n",
       "    <circle cx=\"440\" cy=\"200\" r=\"20\" stroke=\"blue\" stroke-width=\"2\" fill=\"white\" />\n",
       "    \n",
       "    <text x=\"34\" y=\"200\"><tspan>v<tspan dy=\"5\">1</tspan></tspan></text>\n",
       "    <text x=\"114\" y=\"200\"><tspan>v<tspan dy=\"5\">2</tspan></tspan></text>\n",
       "    <text x=\"194\" y=\"200\"><tspan>v<tspan dy=\"5\">3</tspan></tspan></text>\n",
       "    <text x=\"274\" y=\"200\"><tspan>v<tspan dy=\"5\">4</tspan></tspan></text>\n",
       "    <text x=\"354\" y=\"200\"><tspan>v<tspan dy=\"5\">5</tspan></tspan></text>\n",
       "    <text x=\"434\" y=\"200\"><tspan>v<tspan dy=\"5\">6</tspan></tspan></text>\n",
       "    \n",
       "    <!-- bias unit -->\n",
       "    <circle cx=\"540\" cy=\"120\" r=\"20\" stroke=\"black\" stroke-width=\"2\" fill=\"white\" />\n",
       "    <text x=\"535\" y=\"123\"><tspan>b</tspan></text>\n",
       "</svg> "
      ],
      "text/plain": [
       "<IPython.core.display.HTML object>"
      ]
     },
     "metadata": {},
     "output_type": "display_data"
    }
   ],
   "source": [
    "%%html\n",
    "<svg height=\"300\" width=\"600\">\n",
    "    <!-- arcs from hidden unit 1 to visible units -->\n",
    "    <line x1=\"160\" y1=\"50\" x2=\"40\" y2=\"200\" style=\"stroke:rgb(0,0,0);stroke-width:1\" />\n",
    "    <line x1=\"160\" y1=\"50\" x2=\"120\" y2=\"200\" style=\"stroke:rgb(0,0,0);stroke-width:1\" />\n",
    "    <line x1=\"160\" y1=\"50\" x2=\"200\" y2=\"200\" style=\"stroke:rgb(0,0,0);stroke-width:1\" />\n",
    "    <line x1=\"160\" y1=\"50\" x2=\"280\" y2=\"200\" style=\"stroke:rgb(0,0,0);stroke-width:1\" />\n",
    "    <line x1=\"160\" y1=\"50\" x2=\"360\" y2=\"200\" style=\"stroke:rgb(0,0,0);stroke-width:1\" />\n",
    "    <line x1=\"160\" y1=\"50\" x2=\"440\" y2=\"200\" style=\"stroke:rgb(0,0,0);stroke-width:1\" />\n",
    "    \n",
    "    <!-- arcs from hidden unit 2 to visible units -->\n",
    "    <line x1=\"320\" y1=\"50\" x2=\"40\" y2=\"200\" style=\"stroke:rgb(180,180,180);stroke-width:1\" />\n",
    "    <line x1=\"320\" y1=\"50\" x2=\"120\" y2=\"200\" style=\"stroke:rgb(180,180,180);stroke-width:1\" />\n",
    "    <line x1=\"320\" y1=\"50\" x2=\"200\" y2=\"200\" style=\"stroke:rgb(180,180,180);stroke-width:1\" />\n",
    "    <line x1=\"320\" y1=\"50\" x2=\"280\" y2=\"200\" style=\"stroke:rgb(180,180,180);stroke-width:1\" />\n",
    "    <line x1=\"320\" y1=\"50\" x2=\"360\" y2=\"200\" style=\"stroke:rgb(180,180,180);stroke-width:1\" />\n",
    "    <line x1=\"320\" y1=\"50\" x2=\"440\" y2=\"200\" style=\"stroke:rgb(180,180,180);stroke-width:1\" />\n",
    "    \n",
    "    <line x1=\"540\" y1=\"120\" x2=\"160\" y2=\"50\" style=\"stroke:rgba(0,100,0, 0.5);stroke-width:0.5\" />\n",
    "    <line x1=\"540\" y1=\"120\" x2=\"320\" y2=\"50\" style=\"stroke:rgba(0,100,0, 0.5);stroke-width:0.5\" />\n",
    "    <line x1=\"540\" y1=\"120\" x2=\"40\" y2=\"200\" style=\"stroke:rgba(0,100,0, 0.5);stroke-width:0.5\" />\n",
    "    <line x1=\"540\" y1=\"120\" x2=\"120\" y2=\"200\" style=\"stroke:rgba(0,100,0, 0.5);stroke-width:0.5\" />\n",
    "    <line x1=\"540\" y1=\"120\" x2=\"200\" y2=\"200\" style=\"stroke:rgba(0,100,0, 0.5);stroke-width:0.5\" />\n",
    "    <line x1=\"540\" y1=\"120\" x2=\"280\" y2=\"200\" style=\"stroke:rgba(0,100,0, 0.5);stroke-width:0.5\" />\n",
    "    <line x1=\"540\" y1=\"120\" x2=\"360\" y2=\"200\" style=\"stroke:rgba(0,100,0, 0.5);stroke-width:0.5\" />\n",
    "    <line x1=\"540\" y1=\"120\" x2=\"440\" y2=\"200\" style=\"stroke:rgba(0,100,0, 0.5);stroke-width:0.5\" />\n",
    "    \n",
    "    <!-- hidden units -->\n",
    "    <circle cx=\"160\" cy=\"50\" r=\"20\" stroke=\"red\" stroke-width=\"2\" fill=\"white\" />\n",
    "    <circle cx=\"320\" cy=\"50\" r=\"20\" stroke=\"red\" stroke-width=\"2\" fill=\"white\" />\n",
    "    \n",
    "    <text x=\"154\" y=\"55\"><tspan>h<tspan dy=\"5\">1</tspan></tspan></text>\n",
    "    <text x=\"314\" y=\"55\"><tspan>h<tspan dy=\"5\">2</tspan></tspan></text>\n",
    "    \n",
    "    <!-- visible units-->\n",
    "    <circle cx=\"40\" cy=\"200\" r=\"20\" stroke=\"blue\" stroke-width=\"2\" fill=\"white\" />\n",
    "    <circle cx=\"120\" cy=\"200\" r=\"20\" stroke=\"blue\" stroke-width=\"2\" fill=\"white\" />\n",
    "    <circle cx=\"200\" cy=\"200\" r=\"20\" stroke=\"blue\" stroke-width=\"2\" fill=\"white\" />\n",
    "    <circle cx=\"280\" cy=\"200\" r=\"20\" stroke=\"blue\" stroke-width=\"2\" fill=\"white\" />\n",
    "    <circle cx=\"360\" cy=\"200\" r=\"20\" stroke=\"blue\" stroke-width=\"2\" fill=\"white\" />\n",
    "    <circle cx=\"440\" cy=\"200\" r=\"20\" stroke=\"blue\" stroke-width=\"2\" fill=\"white\" />\n",
    "    \n",
    "    <text x=\"34\" y=\"200\"><tspan>v<tspan dy=\"5\">1</tspan></tspan></text>\n",
    "    <text x=\"114\" y=\"200\"><tspan>v<tspan dy=\"5\">2</tspan></tspan></text>\n",
    "    <text x=\"194\" y=\"200\"><tspan>v<tspan dy=\"5\">3</tspan></tspan></text>\n",
    "    <text x=\"274\" y=\"200\"><tspan>v<tspan dy=\"5\">4</tspan></tspan></text>\n",
    "    <text x=\"354\" y=\"200\"><tspan>v<tspan dy=\"5\">5</tspan></tspan></text>\n",
    "    <text x=\"434\" y=\"200\"><tspan>v<tspan dy=\"5\">6</tspan></tspan></text>\n",
    "    \n",
    "    <!-- bias unit -->\n",
    "    <circle cx=\"540\" cy=\"120\" r=\"20\" stroke=\"black\" stroke-width=\"2\" fill=\"white\" />\n",
    "    <text x=\"535\" y=\"123\"><tspan>b</tspan></text>\n",
    "</svg> "
   ]
  },
  {
   "cell_type": "code",
   "execution_count": 2,
   "metadata": {},
   "outputs": [],
   "source": [
    "import numpy as np\n",
    "from scipy.special import expit\n",
    "\n",
    "np.random.seed(37)    "
   ]
  },
  {
   "cell_type": "code",
   "execution_count": 3,
   "metadata": {},
   "outputs": [],
   "source": [
    "def get_weight_matrix(n_visible, n_hidden, mean=0.0, stdev=0.1):\n",
    "    w = np.random.normal(loc=mean, scale=stdev, size=n_visible * n_hidden).reshape(n_visible, n_hidden)\n",
    "    c = np.zeros((n_visible, 1))\n",
    "    r = np.zeros((1, n_hidden + 1))\n",
    "    m = np.hstack([c, w])\n",
    "    m = np.vstack([r, m])\n",
    "    return m\n",
    "\n",
    "def get_data_matrix(data):\n",
    "    c = np.ones((data.shape[0], 1))\n",
    "    m = np.hstack([c, data])\n",
    "    return m\n",
    "\n",
    "def positive_contrastive_divergence(X, W):\n",
    "    ph_activations = X.dot(W)\n",
    "    ph_probs = expit(ph_activations)\n",
    "    ph_probs[:, 0] = 1.0\n",
    "    ph_states = ph_probs > np.random.rand(ph_probs.shape[1])\n",
    "    p_associations = X.T.dot(ph_probs)\n",
    "    return ph_states, p_associations\n",
    "\n",
    "def negative_contrastive_divergence(ph_states, W):\n",
    "    nv_activations = ph_states.dot(W.T)\n",
    "    nv_probs = expit(nv_activations)\n",
    "    nv_probs[:, 0] = 1.0\n",
    "    nh_activations = nv_probs.dot(W)\n",
    "    nh_probs = expit(nh_activations)\n",
    "    n_associations = nv_probs.T.dot(nh_probs)\n",
    "    return nv_probs, n_associations\n",
    "\n",
    "def update_weights(n, p_associations, n_associations, W, lr=0.1):\n",
    "    M = W + lr * ((p_associations - n_associations) / float(n))\n",
    "    return M\n",
    "\n",
    "def query_hidden(v, n_hidden, W):\n",
    "    n = v.shape[0]\n",
    "    h_states = np.ones((n, n_hidden + 1))\n",
    "    d = np.hstack([np.ones((n, 1)), v])\n",
    "    h_activations = d.dot(W)\n",
    "    h_probs = expit(h_activations)\n",
    "    h_states[:,:] = h_probs > np.random.rand(n, n_hidden + 1)\n",
    "    return h_states[:,1:]\n",
    "\n",
    "def query_visible(h, n_visible, W):\n",
    "    n = h.shape[0]\n",
    "    v_states = np.ones((n, n_visible + 1))\n",
    "    d = np.hstack([np.ones((n, 1)), h])\n",
    "    v_activations = d.dot(W.T)\n",
    "    v_probs = expit(v_activations)\n",
    "    v_states[:,:] = v_probs > np.random.rand(n, n_visible + 1)\n",
    "    return v_states[:,1:]\n",
    "\n",
    "def daydream(n_samples, n_visible, n_hidden, W):\n",
    "    samples = np.ones((n_samples, n_visible + 1))\n",
    "    samples[0,1:] = np.random.rand(n_visible)\n",
    "    \n",
    "    for i in range(1, n_samples):\n",
    "        visible = samples[i-1,:]\n",
    "        h_activations = visible.dot(W)\n",
    "        h_probs = expit(h_activations)\n",
    "        h_states = h_probs > np.random.rand(n_hidden + 1)\n",
    "        h_states[0] = 1\n",
    "        \n",
    "        v_activations = h_states.dot(W.T)\n",
    "        v_probs = expit(v_activations)\n",
    "        v_states = v_probs > np.random.rand(n_visible + 1)\n",
    "        \n",
    "        samples[i, :] = v_states\n",
    "    \n",
    "    return samples[-1, :]"
   ]
  },
  {
   "cell_type": "markdown",
   "metadata": {},
   "source": [
    "# Fake movies"
   ]
  },
  {
   "cell_type": "code",
   "execution_count": 4,
   "metadata": {},
   "outputs": [],
   "source": [
    "X = get_data_matrix(np.array([\n",
    "    [1,1,1,0,0,0],\n",
    "    [1,0,1,0,0,0],\n",
    "    [1,1,1,0,0,0],\n",
    "    [0,0,1,1,1,0],\n",
    "    [0,0,1,1,0,0],\n",
    "    [0,0,1,1,1,0]]))"
   ]
  },
  {
   "cell_type": "code",
   "execution_count": 5,
   "metadata": {},
   "outputs": [],
   "source": [
    "n_visible = 6\n",
    "n_hidden = 2\n",
    "W = get_weight_matrix(n_visible, n_hidden)"
   ]
  },
  {
   "cell_type": "code",
   "execution_count": 87,
   "metadata": {},
   "outputs": [],
   "source": [
    "from tqdm import tqdm\n",
    "import pandas as pd\n",
    "\n",
    "def train(X, W, max_iters=5000):\n",
    "    loss_trace = []\n",
    "    for epoch in tqdm(range(max_iters)):\n",
    "        ph_states, p_associations = positive_contrastive_divergence(X, W)\n",
    "        nv_probs, n_associations = negative_contrastive_divergence(ph_states, W)\n",
    "        W = update_weights(X.shape[0], p_associations, n_associations, W)\n",
    "\n",
    "        error = np.sum((X - nv_probs) ** 2)\n",
    "        t = (epoch, error)\n",
    "        loss_trace.append(t)\n",
    "    loss_df = pd.DataFrame(data=loss_trace, columns=['epoch', 'loss'])\n",
    "    return W, loss_df"
   ]
  },
  {
   "cell_type": "code",
   "execution_count": 7,
   "metadata": {},
   "outputs": [
    {
     "name": "stderr",
     "output_type": "stream",
     "text": [
      "100%|███████████████████████████████████████████████████████████████████████████| 5000/5000 [00:00<00:00, 22123.89it/s]\n"
     ]
    },
    {
     "name": "stdout",
     "output_type": "stream",
     "text": [
      "[[ 2.53037996  2.45858985  0.0810972 ]\n",
      " [-0.22471573 -3.92533273  7.42939654]\n",
      " [ 0.35109567 -6.92624773  3.05664351]\n",
      " [ 4.93552312  4.06165019  1.75982293]\n",
      " [ 0.16666718  4.31462577 -7.89124389]\n",
      " [-0.91730461  1.5951622  -5.34173176]\n",
      " [-4.06156083 -2.54953871 -2.38364613]]\n"
     ]
    }
   ],
   "source": [
    "W, loss = train(X, W)\n",
    "print(W)"
   ]
  },
  {
   "cell_type": "code",
   "execution_count": 8,
   "metadata": {},
   "outputs": [
    {
     "data": {
      "text/plain": [
       "Text(0,0.5,'loss')"
      ]
     },
     "execution_count": 8,
     "metadata": {},
     "output_type": "execute_result"
    },
    {
     "data": {
      "image/png": "[encoded data removed]",
      "text/plain": [
       "<Figure size 720x360 with 1 Axes>"
      ]
     },
     "metadata": {},
     "output_type": "display_data"
    }
   ],
   "source": [
    "%matplotlib inline\n",
    "import matplotlib.pyplot as plt\n",
    "\n",
    "fig, ax = plt.subplots(figsize=(10, 5))\n",
    "plt.plot(loss['epoch'], loss['loss'])\n",
    "ax.set_title('Loss over time')\n",
    "ax.set_xlabel(r'epoch')\n",
    "ax.set_ylabel(r'loss')"
   ]
  },
  {
   "cell_type": "code",
   "execution_count": 9,
   "metadata": {},
   "outputs": [
    {
     "data": {
      "text/plain": [
       "array([[1., 0.]])"
      ]
     },
     "execution_count": 9,
     "metadata": {},
     "output_type": "execute_result"
    }
   ],
   "source": [
    "query_hidden(np.array([[0,0,0,1,1,0]]), n_hidden, W)"
   ]
  },
  {
   "cell_type": "code",
   "execution_count": 10,
   "metadata": {},
   "outputs": [
    {
     "data": {
      "text/plain": [
       "array([[0., 1.]])"
      ]
     },
     "execution_count": 10,
     "metadata": {},
     "output_type": "execute_result"
    }
   ],
   "source": [
    "query_hidden(np.array([[1,1,0,0,0,0]]), n_hidden, W)"
   ]
  },
  {
   "cell_type": "code",
   "execution_count": 11,
   "metadata": {},
   "outputs": [
    {
     "data": {
      "text/plain": [
       "array([[0., 0., 1., 1., 1., 0.]])"
      ]
     },
     "execution_count": 11,
     "metadata": {},
     "output_type": "execute_result"
    }
   ],
   "source": [
    "query_visible(np.array([[1,0]]), n_visible, W)"
   ]
  },
  {
   "cell_type": "code",
   "execution_count": 12,
   "metadata": {},
   "outputs": [
    {
     "data": {
      "text/plain": [
       "array([[1., 1., 1., 0., 0., 0.]])"
      ]
     },
     "execution_count": 12,
     "metadata": {},
     "output_type": "execute_result"
    }
   ],
   "source": [
    "query_visible(np.array([[0,1]]), n_visible, W)"
   ]
  },
  {
   "cell_type": "code",
   "execution_count": 16,
   "metadata": {},
   "outputs": [
    {
     "name": "stdout",
     "output_type": "stream",
     "text": [
      "[1. 0. 0. 1. 1. 1. 0.]\n",
      "[1. 1. 1. 1. 0. 0. 0.]\n",
      "[1. 1. 1. 1. 0. 0. 0.]\n",
      "[1. 0. 0. 1. 1. 0. 0.]\n",
      "[1. 1. 0. 1. 0. 0. 0.]\n",
      "[1. 0. 0. 1. 1. 1. 0.]\n",
      "[1. 1. 1. 1. 0. 0. 0.]\n",
      "[1. 0. 0. 1. 1. 1. 0.]\n",
      "[1. 1. 0. 1. 0. 0. 0.]\n",
      "[1. 1. 1. 1. 0. 0. 0.]\n"
     ]
    }
   ],
   "source": [
    "for i in range(10):\n",
    "    print(daydream(500, n_visible, n_hidden, W))"
   ]
  },
  {
   "cell_type": "markdown",
   "metadata": {},
   "source": [
    "# Names"
   ]
  },
  {
   "cell_type": "code",
   "execution_count": 130,
   "metadata": {},
   "outputs": [
    {
     "name": "stdout",
     "output_type": "stream",
     "text": [
      "(30L, 243L)\n"
     ]
    }
   ],
   "source": [
    "def get_max_length(names):\n",
    "    max_length = 0\n",
    "    for k, v in names.iteritems():\n",
    "        length = max([len(name) for name in v])\n",
    "        if length > max_length:\n",
    "            max_length = length\n",
    "    return max_length\n",
    "\n",
    "def get_encoding():\n",
    "    letters = 'abcdefghijklmnopqrstuvwxyz#'\n",
    "    d = {}\n",
    "    for i in range(len(letters)):\n",
    "        d[letters[i]] = i\n",
    "    return d\n",
    "\n",
    "def get_reverse_encoding():\n",
    "    letters = 'abcdefghijklmnopqrstuvwxyz#'\n",
    "    d = {}\n",
    "    for i in range(len(letters)):\n",
    "        d[i] = letters[i]\n",
    "    return d\n",
    "\n",
    "def encode_letter(letter, encoding=get_encoding()):\n",
    "    n = len(encoding)\n",
    "    ohe = np.zeros(n)\n",
    "    idx = encoding[letter]\n",
    "    ohe[idx] = 1\n",
    "    return ohe\n",
    "\n",
    "def encode_name(name, max_letters, encoding=get_encoding()):\n",
    "    name_length = len(name)\n",
    "    name_ohe = [encode_letter(name[i], encoding) for i in range(name_length)]\n",
    "    padd_ohe = [encode_letter('#', encoding) for _ in range(name_length, max_letters)]\n",
    "    \n",
    "    ohe = []\n",
    "    ohe.extend(name_ohe)\n",
    "    ohe.extend(padd_ohe)\n",
    "    ohe = np.hstack(ohe)\n",
    "    \n",
    "    return ohe\n",
    "\n",
    "def encode_names(names, max_letters, encoding=get_encoding()):\n",
    "    data = []\n",
    "    for k, names in names.iteritems():\n",
    "        for name in names:\n",
    "            ohe = encode_name(name, max_letters, encoding)\n",
    "            data.append(ohe)\n",
    "    return np.array(data)\n",
    "\n",
    "def flatten_names(names):\n",
    "    data = []\n",
    "    for k, names in names.iteritems():\n",
    "        data.extend(names)\n",
    "    return data\n",
    "    \n",
    "names = {\n",
    "    'english': [\n",
    "        'jack', 'thomas', 'joshua', 'william', 'daniel',\n",
    "        'matthew', 'james', 'joseph', 'harry', 'samuel'\n",
    "    ],\n",
    "    'chinese': [\n",
    "        'wei', 'qiang', 'lei', 'jun', 'yong',\n",
    "        'jie', 'jin', 'taio', 'de', 'tao'\n",
    "    ],\n",
    "    'indian': [\n",
    "        'mohammed', 'reyansh', 'aarav', 'atharv', 'vivaan',\n",
    "        'advik', 'ansh', 'ishann', 'dhruv', 'siddharth'\n",
    "    ]\n",
    "}\n",
    "\n",
    "max_letters = get_max_length(names)\n",
    "encoding = get_encoding()\n",
    "raw = encode_names(names, max_letters, encoding)\n",
    "print(raw.shape)"
   ]
  },
  {
   "cell_type": "code",
   "execution_count": 131,
   "metadata": {},
   "outputs": [
    {
     "name": "stdout",
     "output_type": "stream",
     "text": [
      "(30L, 244L) X shape\n",
      "(244L, 4L) W shape\n",
      "243 n_visible\n",
      "3 n_hidden\n"
     ]
    },
    {
     "name": "stderr",
     "output_type": "stream",
     "text": [
      "100%|██████████████████████████████████████████████████████████████████████████| 20000/20000 [00:05<00:00, 3948.67it/s]\n"
     ]
    },
    {
     "data": {
      "text/plain": [
       "Text(0,0.5,'loss')"
      ]
     },
     "execution_count": 131,
     "metadata": {},
     "output_type": "execute_result"
    },
    {
     "data": {
      "image/png": "[encoded data removed]",
      "text/plain": [
       "<Figure size 720x360 with 1 Axes>"
      ]
     },
     "metadata": {},
     "output_type": "display_data"
    }
   ],
   "source": [
    "X = get_data_matrix(raw)\n",
    "print('{} X shape'.format(X.shape))\n",
    "\n",
    "n_visible = raw.shape[1]\n",
    "n_hidden = 3\n",
    "W = get_weight_matrix(n_visible, n_hidden)\n",
    "print('{} W shape'.format(W.shape))\n",
    "print('{} n_visible'.format(n_visible))\n",
    "print('{} n_hidden'.format(n_hidden))\n",
    "\n",
    "W, loss = train(X, W, max_iters=20000)\n",
    "\n",
    "fig, ax = plt.subplots(figsize=(10, 5))\n",
    "plt.plot(loss['epoch'], loss['loss'])\n",
    "ax.set_title('Loss over time')\n",
    "ax.set_xlabel(r'epoch')\n",
    "ax.set_ylabel(r'loss')"
   ]
  },
  {
   "cell_type": "code",
   "execution_count": 132,
   "metadata": {},
   "outputs": [
    {
     "name": "stdout",
     "output_type": "stream",
     "text": [
      "0: [[0. 1. 1.]] mohammed\n",
      "1: [[1. 1. 1.]] reyansh\n",
      "2: [[1. 1. 1.]] aarav\n",
      "3: [[1. 1. 1.]] atharv\n",
      "4: [[1. 1. 1.]] vivaan\n",
      "5: [[1. 1. 1.]] advik\n",
      "6: [[1. 1. 1.]] ansh\n",
      "7: [[1. 1. 1.]] ishann\n",
      "8: [[1. 1. 1.]] dhruv\n",
      "9: [[0. 0. 0.]] siddharth\n",
      "10: [[1. 1. 0.]] wei\n",
      "11: [[1. 1. 1.]] qiang\n",
      "12: [[1. 1. 0.]] lei\n",
      "13: [[1. 1. 0.]] jun\n",
      "14: [[1. 1. 0.]] yong\n",
      "15: [[1. 1. 0.]] jie\n",
      "16: [[1. 1. 0.]] jin\n",
      "17: [[1. 1. 0.]] taio\n",
      "18: [[1. 1. 0.]] de\n",
      "19: [[1. 1. 0.]] tao\n",
      "20: [[1. 1. 0.]] jack\n",
      "21: [[1. 1. 1.]] thomas\n",
      "22: [[1. 1. 1.]] joshua\n",
      "23: [[1. 0. 1.]] william\n",
      "24: [[1. 1. 1.]] daniel\n",
      "25: [[0. 1. 1.]] matthew\n",
      "26: [[1. 1. 1.]] james\n",
      "27: [[1. 1. 1.]] joseph\n",
      "28: [[1. 1. 1.]] harry\n",
      "29: [[1. 1. 1.]] samuel\n"
     ]
    }
   ],
   "source": [
    "flattened_names = flatten_names(names)\n",
    "\n",
    "for r in range(len(raw)):\n",
    "    h = query_hidden(raw[r,:].reshape(1, n_visible), n_hidden, W)\n",
    "    n = flattened_names[r]\n",
    "    print('{}: {} {}'.format(r, h, n))"
   ]
  },
  {
   "cell_type": "code",
   "execution_count": 139,
   "metadata": {},
   "outputs": [
    {
     "name": "stdout",
     "output_type": "stream",
     "text": [
      "<type 'numpy.ndarray'>\n",
      "(1L, 243L)\n",
      "(9L, 27L)\n",
      "[[0. 0. 0. 0. 0. 0. 0. 0. 1. 0. 0. 0. 1. 0. 0. 0. 0. 0. 0. 0. 0. 0. 0. 0.\n",
      "  0. 0. 0.]\n",
      " [0. 0. 0. 0. 0. 0. 0. 0. 0. 0. 0. 0. 0. 0. 1. 0. 0. 0. 1. 0. 0. 0. 0. 0.\n",
      "  0. 0. 0.]\n",
      " [0. 0. 0. 0. 0. 0. 0. 1. 0. 0. 0. 0. 1. 0. 0. 0. 0. 0. 0. 0. 0. 0. 0. 0.\n",
      "  0. 0. 0.]\n",
      " [1. 0. 0. 0. 0. 0. 0. 0. 0. 0. 0. 0. 0. 0. 0. 0. 0. 0. 0. 1. 0. 0. 0. 0.\n",
      "  0. 0. 0.]\n",
      " [0. 0. 0. 0. 0. 0. 0. 0. 0. 0. 0. 0. 0. 0. 0. 0. 0. 0. 0. 0. 0. 0. 0. 0.\n",
      "  0. 0. 0.]\n",
      " [0. 0. 0. 0. 1. 0. 0. 0. 0. 0. 0. 0. 0. 0. 0. 0. 0. 0. 0. 0. 0. 0. 0. 0.\n",
      "  0. 0. 0.]\n",
      " [0. 0. 0. 0. 0. 0. 0. 0. 0. 0. 0. 0. 0. 0. 0. 0. 0. 0. 0. 0. 0. 0. 0. 0.\n",
      "  0. 0. 0.]\n",
      " [0. 0. 0. 0. 0. 0. 0. 0. 0. 0. 0. 0. 0. 0. 0. 0. 0. 0. 0. 0. 0. 0. 0. 0.\n",
      "  0. 0. 1.]\n",
      " [0. 0. 0. 0. 0. 0. 0. 0. 0. 0. 0. 0. 0. 0. 0. 0. 0. 0. 0. 0. 0. 0. 0. 0.\n",
      "  0. 0. 1.]]\n",
      "i\n",
      "o\n",
      "h\n",
      "a\n",
      "a\n",
      "e\n",
      "a\n",
      "#\n",
      "#\n"
     ]
    }
   ],
   "source": [
    "def decode_ohe(v, max_letters, encoding=get_reverse_encoding()):\n",
    "    print(type(v))\n",
    "    print(v.shape)\n",
    "    vector = v[0,:]\n",
    "    cols = v.shape[1] / max_letters\n",
    "    rows = max_letters\n",
    "    vector = vector.reshape(rows, cols)\n",
    "    print(vector.shape)\n",
    "    print(vector)\n",
    "    for row in range(rows):\n",
    "        idx = np.argmax(vector[row, :])\n",
    "        print(encoding[idx])\n",
    "    \n",
    "rencoding = get_reverse_encoding()\n",
    "decode_ohe(query_visible(np.array([[0, 1, 1]]), n_visible, W), max_letters, rencoding)"
   ]
  },
  {
   "cell_type": "code",
   "execution_count": 140,
   "metadata": {},
   "outputs": [
    {
     "name": "stdout",
     "output_type": "stream",
     "text": [
      "[1. 0. 0. 0. 0. 0. 0. 0. 0. 0. 0. 0. 0. 0. 0. 0. 0. 0. 0. 1. 0. 0. 0. 0.\n",
      " 0. 0. 0. 0. 0. 0. 0. 0. 0. 0. 0. 0. 1. 0. 0. 0. 0. 0. 0. 0. 0. 0. 0. 0.\n",
      " 0. 0. 0. 0. 0. 0. 0. 0. 0. 0. 1. 0. 0. 0. 0. 0. 0. 0. 0. 0. 0. 0. 0. 0.\n",
      " 0. 0. 0. 0. 0. 0. 0. 0. 0. 0. 0. 0. 0. 1. 0. 0. 0. 0. 0. 0. 0. 0. 0. 0.\n",
      " 0. 0. 0. 0. 0. 0. 0. 0. 0. 0. 0. 0. 0. 0. 0. 0. 0. 0. 0. 0. 1. 0. 0. 0.\n",
      " 0. 0. 0. 0. 0. 0. 0. 0. 0. 0. 0. 0. 0. 0. 0. 0. 1. 0. 0. 0. 1. 0. 0. 0.\n",
      " 0. 0. 0. 0. 0. 0. 0. 0. 0. 0. 0. 0. 0. 0. 0. 0. 0. 0. 0. 0. 0. 0. 0. 0.\n",
      " 0. 0. 0. 0. 0. 0. 0. 0. 0. 0. 0. 0. 1. 0. 0. 0. 0. 0. 0. 0. 0. 0. 0. 0.\n",
      " 0. 0. 0. 0. 0. 0. 0. 0. 0. 0. 0. 0. 0. 0. 0. 0. 0. 1. 0. 0. 0. 0. 0. 0.\n",
      " 0. 0. 0. 0. 0. 0. 0. 0. 1. 0. 0. 0. 0. 0. 0. 0. 0. 0. 0. 0. 0. 0. 0. 0.\n",
      " 0. 0. 0. 0.]\n",
      "[1. 0. 0. 0. 0. 0. 0. 0. 0. 1. 0. 0. 0. 0. 0. 0. 0. 0. 0. 0. 0. 0. 0. 0.\n",
      " 0. 0. 0. 0. 0. 0. 0. 0. 0. 0. 0. 0. 1. 0. 0. 0. 0. 0. 0. 0. 0. 0. 0. 0.\n",
      " 0. 0. 0. 0. 0. 0. 0. 0. 0. 0. 1. 0. 0. 0. 0. 0. 0. 0. 0. 0. 0. 0. 0. 0.\n",
      " 0. 0. 0. 0. 0. 0. 0. 0. 0. 0. 0. 0. 0. 1. 0. 0. 0. 0. 0. 0. 0. 0. 0. 0.\n",
      " 0. 0. 0. 0. 0. 0. 0. 0. 0. 0. 0. 0. 0. 0. 0. 0. 0. 0. 0. 0. 1. 0. 0. 0.\n",
      " 0. 0. 0. 0. 0. 0. 0. 0. 0. 0. 0. 0. 0. 0. 0. 0. 1. 0. 0. 0. 0. 0. 0. 0.\n",
      " 0. 0. 0. 0. 0. 0. 0. 0. 0. 0. 0. 0. 0. 0. 0. 0. 0. 0. 0. 0. 0. 0. 0. 0.\n",
      " 0. 0. 0. 0. 0. 0. 0. 0. 0. 0. 0. 0. 1. 0. 0. 0. 0. 0. 0. 0. 0. 0. 0. 0.\n",
      " 0. 0. 0. 0. 0. 0. 0. 0. 0. 0. 0. 0. 0. 0. 0. 0. 0. 1. 0. 0. 0. 0. 0. 0.\n",
      " 1. 0. 0. 0. 0. 0. 0. 0. 1. 0. 0. 0. 0. 0. 0. 0. 0. 0. 0. 0. 0. 0. 0. 0.\n",
      " 0. 0. 0. 0.]\n",
      "[1. 1. 0. 0. 0. 0. 0. 0. 0. 1. 0. 0. 0. 0. 0. 0. 0. 0. 0. 1. 0. 0. 0. 1.\n",
      " 0. 0. 0. 0. 0. 0. 0. 0. 0. 0. 0. 0. 1. 0. 0. 0. 0. 0. 0. 0. 0. 0. 0. 0.\n",
      " 0. 0. 0. 0. 0. 0. 0. 0. 0. 0. 0. 0. 0. 0. 0. 0. 0. 0. 1. 0. 0. 0. 0. 0.\n",
      " 0. 1. 0. 0. 0. 0. 0. 0. 0. 0. 0. 0. 0. 0. 0. 0. 0. 1. 0. 0. 0. 1. 0. 0.\n",
      " 0. 0. 0. 0. 0. 0. 0. 0. 0. 0. 0. 0. 0. 0. 0. 0. 0. 0. 0. 0. 0. 1. 0. 1.\n",
      " 0. 0. 0. 0. 1. 0. 0. 0. 0. 0. 0. 0. 0. 1. 0. 0. 1. 0. 0. 0. 0. 0. 0. 0.\n",
      " 0. 0. 0. 0. 0. 0. 0. 0. 0. 0. 0. 0. 0. 0. 0. 0. 0. 0. 0. 0. 0. 0. 0. 0.\n",
      " 0. 0. 0. 0. 0. 0. 0. 1. 0. 0. 0. 0. 0. 0. 0. 0. 0. 0. 0. 0. 0. 0. 0. 0.\n",
      " 0. 0. 0. 0. 0. 0. 0. 0. 0. 0. 0. 0. 0. 0. 0. 0. 0. 0. 0. 0. 0. 0. 0. 0.\n",
      " 1. 0. 0. 0. 0. 0. 0. 0. 0. 0. 0. 0. 0. 0. 0. 0. 0. 0. 0. 0. 0. 0. 0. 0.\n",
      " 0. 0. 0. 1.]\n",
      "[1. 0. 0. 0. 0. 0. 0. 0. 0. 0. 0. 0. 0. 1. 0. 0. 0. 0. 0. 0. 0. 0. 0. 0.\n",
      " 0. 0. 0. 0. 0. 0. 0. 0. 0. 0. 0. 0. 1. 0. 0. 0. 0. 0. 0. 0. 0. 0. 0. 0.\n",
      " 0. 0. 0. 0. 0. 0. 0. 0. 0. 0. 1. 0. 0. 0. 0. 0. 0. 0. 0. 0. 0. 0. 0. 0.\n",
      " 0. 0. 0. 0. 0. 0. 0. 0. 0. 0. 0. 0. 0. 1. 0. 0. 0. 0. 0. 0. 0. 0. 0. 0.\n",
      " 0. 0. 0. 0. 0. 0. 0. 0. 0. 0. 0. 0. 0. 0. 0. 0. 0. 0. 0. 0. 1. 0. 0. 0.\n",
      " 0. 1. 0. 0. 0. 0. 0. 0. 0. 0. 0. 0. 0. 0. 0. 0. 1. 0. 0. 0. 0. 0. 0. 0.\n",
      " 0. 0. 0. 0. 0. 0. 0. 0. 0. 0. 0. 0. 0. 0. 0. 0. 0. 0. 0. 0. 0. 1. 0. 0.\n",
      " 0. 0. 0. 0. 0. 0. 0. 0. 0. 0. 0. 0. 1. 0. 0. 0. 0. 0. 0. 0. 0. 0. 1. 0.\n",
      " 0. 0. 0. 0. 0. 0. 0. 0. 0. 0. 0. 0. 0. 0. 0. 0. 0. 1. 0. 0. 0. 0. 0. 0.\n",
      " 0. 0. 0. 0. 0. 0. 0. 0. 1. 0. 0. 0. 0. 0. 0. 0. 0. 0. 0. 0. 0. 0. 0. 0.\n",
      " 0. 0. 0. 0.]\n",
      "[1. 0. 0. 0. 0. 0. 0. 0. 0. 0. 1. 0. 0. 0. 0. 0. 0. 0. 0. 1. 0. 0. 0. 1.\n",
      " 0. 0. 0. 0. 0. 0. 0. 0. 0. 0. 0. 0. 1. 0. 0. 0. 0. 0. 0. 0. 0. 0. 0. 0.\n",
      " 0. 0. 0. 0. 0. 0. 0. 0. 0. 0. 0. 0. 0. 0. 0. 0. 0. 0. 1. 0. 0. 0. 0. 0.\n",
      " 0. 0. 0. 0. 0. 0. 0. 0. 0. 0. 1. 0. 0. 0. 0. 0. 0. 0. 0. 0. 0. 1. 0. 0.\n",
      " 0. 0. 0. 0. 0. 0. 0. 0. 0. 0. 0. 0. 0. 0. 0. 0. 0. 0. 0. 0. 0. 1. 0. 0.\n",
      " 0. 0. 0. 0. 0. 0. 0. 0. 0. 0. 0. 0. 0. 0. 0. 0. 1. 0. 0. 0. 0. 0. 0. 1.\n",
      " 0. 0. 0. 0. 0. 0. 0. 0. 0. 0. 0. 0. 0. 0. 0. 0. 0. 0. 0. 0. 0. 0. 0. 0.\n",
      " 0. 0. 0. 0. 0. 0. 0. 1. 0. 0. 0. 0. 0. 0. 0. 0. 0. 0. 0. 0. 0. 0. 0. 0.\n",
      " 0. 0. 0. 0. 0. 0. 0. 0. 0. 0. 0. 0. 0. 0. 0. 0. 0. 0. 0. 0. 0. 0. 0. 0.\n",
      " 1. 0. 0. 0. 0. 0. 0. 0. 0. 0. 0. 0. 0. 0. 0. 0. 0. 0. 0. 0. 0. 0. 0. 0.\n",
      " 0. 0. 0. 1.]\n",
      "[1. 0. 0. 0. 0. 0. 0. 0. 0. 0. 0. 0. 0. 0. 0. 0. 0. 0. 0. 1. 0. 0. 0. 0.\n",
      " 0. 0. 0. 0. 0. 0. 0. 0. 0. 0. 0. 0. 1. 0. 0. 0. 0. 0. 0. 0. 0. 0. 0. 0.\n",
      " 0. 0. 0. 0. 1. 0. 0. 0. 0. 0. 1. 0. 0. 0. 0. 0. 0. 0. 0. 0. 0. 0. 0. 0.\n",
      " 0. 0. 0. 0. 0. 0. 0. 0. 0. 0. 0. 0. 0. 1. 0. 0. 0. 0. 0. 0. 0. 0. 0. 0.\n",
      " 0. 0. 0. 0. 0. 0. 0. 0. 0. 0. 0. 0. 0. 0. 0. 0. 0. 0. 0. 0. 1. 0. 0. 0.\n",
      " 0. 0. 0. 0. 0. 0. 0. 0. 0. 0. 0. 0. 0. 0. 0. 0. 1. 0. 0. 0. 1. 0. 0. 0.\n",
      " 0. 0. 0. 0. 0. 0. 0. 0. 0. 0. 0. 0. 0. 0. 0. 0. 0. 0. 0. 0. 0. 0. 0. 0.\n",
      " 0. 0. 0. 0. 0. 0. 0. 0. 0. 0. 0. 0. 1. 0. 0. 0. 0. 0. 0. 0. 0. 0. 0. 0.\n",
      " 0. 0. 0. 0. 0. 0. 0. 0. 0. 0. 0. 0. 0. 0. 0. 0. 0. 1. 0. 0. 0. 0. 0. 0.\n",
      " 0. 0. 0. 0. 0. 0. 0. 0. 1. 0. 0. 0. 0. 0. 0. 0. 0. 0. 0. 0. 0. 0. 0. 0.\n",
      " 0. 0. 0. 1.]\n",
      "[1. 0. 0. 0. 0. 0. 0. 0. 0. 0. 0. 0. 0. 0. 0. 0. 0. 0. 0. 1. 0. 0. 0. 0.\n",
      " 0. 0. 0. 0. 0. 0. 0. 0. 0. 0. 0. 0. 1. 0. 0. 0. 0. 0. 0. 0. 0. 0. 0. 0.\n",
      " 0. 0. 0. 0. 0. 0. 0. 0. 0. 0. 1. 0. 0. 0. 0. 0. 0. 0. 0. 0. 0. 0. 0. 0.\n",
      " 0. 0. 1. 0. 0. 0. 0. 0. 0. 0. 0. 0. 0. 1. 0. 0. 0. 0. 0. 0. 0. 0. 0. 0.\n",
      " 0. 0. 0. 0. 0. 0. 0. 0. 0. 0. 0. 0. 0. 0. 0. 0. 0. 0. 0. 0. 1. 0. 0. 0.\n",
      " 0. 0. 0. 0. 0. 0. 0. 0. 0. 0. 0. 0. 0. 0. 0. 0. 1. 0. 0. 0. 0. 0. 0. 0.\n",
      " 0. 0. 0. 0. 0. 0. 0. 0. 0. 0. 0. 0. 0. 0. 0. 0. 0. 0. 1. 1. 0. 0. 0. 0.\n",
      " 0. 0. 0. 0. 0. 0. 0. 0. 0. 0. 0. 0. 1. 0. 0. 0. 0. 0. 0. 0. 0. 0. 0. 0.\n",
      " 0. 0. 0. 0. 0. 0. 0. 0. 0. 0. 0. 0. 0. 0. 0. 0. 0. 1. 0. 0. 0. 0. 0. 0.\n",
      " 0. 0. 0. 0. 0. 0. 0. 0. 1. 0. 0. 1. 0. 0. 0. 0. 0. 0. 0. 0. 0. 0. 0. 0.\n",
      " 0. 0. 0. 0.]\n",
      "[1. 0. 0. 0. 0. 0. 0. 0. 0. 0. 0. 0. 0. 0. 0. 0. 0. 0. 0. 0. 0. 0. 0. 0.\n",
      " 0. 0. 0. 1. 0. 0. 0. 0. 1. 0. 0. 0. 1. 0. 0. 0. 0. 0. 0. 0. 0. 0. 0. 0.\n",
      " 0. 0. 0. 0. 0. 0. 0. 0. 0. 0. 1. 0. 0. 0. 0. 0. 0. 0. 0. 0. 0. 0. 0. 1.\n",
      " 0. 0. 0. 0. 0. 0. 0. 0. 0. 0. 0. 0. 0. 1. 0. 0. 0. 0. 0. 0. 0. 0. 0. 0.\n",
      " 0. 0. 0. 0. 0. 0. 0. 0. 0. 0. 0. 0. 0. 0. 0. 0. 0. 0. 0. 0. 1. 0. 0. 0.\n",
      " 0. 0. 0. 0. 0. 0. 0. 0. 0. 0. 0. 0. 0. 0. 0. 0. 1. 0. 0. 0. 0. 0. 0. 0.\n",
      " 0. 0. 0. 0. 0. 0. 0. 0. 0. 0. 0. 0. 0. 0. 0. 0. 0. 0. 0. 0. 0. 0. 0. 0.\n",
      " 0. 0. 0. 0. 0. 0. 0. 0. 0. 0. 0. 0. 1. 0. 0. 0. 0. 1. 0. 0. 0. 0. 0. 0.\n",
      " 0. 1. 0. 0. 0. 0. 0. 0. 0. 0. 0. 0. 0. 0. 0. 0. 0. 1. 0. 0. 0. 0. 0. 0.\n",
      " 1. 0. 0. 0. 0. 0. 0. 0. 1. 0. 0. 0. 0. 0. 0. 0. 0. 0. 0. 0. 0. 0. 0. 0.\n",
      " 0. 0. 0. 0.]\n",
      "[1. 0. 0. 0. 0. 0. 0. 0. 0. 0. 0. 0. 0. 0. 0. 0. 0. 0. 0. 1. 0. 0. 0. 0.\n",
      " 0. 0. 0. 0. 0. 0. 0. 0. 0. 0. 0. 0. 1. 0. 0. 0. 0. 0. 0. 0. 0. 0. 0. 0.\n",
      " 0. 0. 0. 0. 0. 0. 0. 0. 0. 0. 1. 0. 0. 0. 0. 0. 0. 0. 0. 0. 0. 0. 0. 0.\n",
      " 0. 0. 0. 0. 0. 0. 0. 0. 0. 0. 0. 0. 0. 1. 0. 0. 0. 0. 0. 0. 0. 0. 0. 0.\n",
      " 0. 0. 0. 1. 0. 0. 0. 0. 0. 0. 0. 0. 0. 0. 0. 0. 0. 0. 0. 0. 1. 0. 0. 0.\n",
      " 0. 0. 0. 0. 0. 0. 0. 0. 0. 0. 0. 0. 0. 0. 0. 0. 1. 0. 0. 0. 1. 0. 0. 0.\n",
      " 0. 0. 0. 0. 0. 0. 0. 0. 0. 0. 0. 0. 0. 0. 0. 0. 0. 0. 0. 0. 0. 0. 0. 0.\n",
      " 0. 0. 0. 0. 0. 0. 0. 0. 0. 0. 0. 0. 1. 0. 0. 0. 0. 0. 0. 0. 0. 0. 0. 0.\n",
      " 0. 0. 0. 0. 0. 0. 0. 0. 0. 0. 0. 0. 0. 0. 0. 0. 0. 1. 0. 0. 0. 0. 0. 0.\n",
      " 0. 0. 0. 0. 0. 0. 0. 0. 1. 0. 0. 0. 0. 0. 0. 0. 0. 0. 0. 0. 0. 0. 0. 1.\n",
      " 0. 0. 0. 0.]\n",
      "[1. 0. 0. 0. 0. 0. 0. 0. 0. 0. 1. 0. 0. 0. 0. 0. 0. 0. 0. 0. 0. 0. 0. 0.\n",
      " 0. 1. 0. 0. 0. 0. 0. 0. 0. 0. 0. 0. 1. 0. 0. 0. 0. 0. 0. 0. 0. 0. 0. 0.\n",
      " 0. 0. 0. 0. 0. 0. 0. 0. 0. 0. 1. 0. 0. 0. 0. 0. 0. 1. 0. 0. 0. 0. 0. 0.\n",
      " 0. 0. 0. 0. 0. 0. 0. 0. 0. 0. 0. 0. 0. 1. 0. 0. 0. 0. 0. 0. 0. 0. 0. 0.\n",
      " 0. 0. 0. 0. 0. 0. 0. 0. 0. 0. 0. 0. 0. 0. 0. 0. 0. 0. 0. 0. 1. 0. 0. 0.\n",
      " 0. 0. 0. 0. 0. 0. 0. 0. 0. 0. 0. 0. 0. 0. 0. 0. 1. 0. 0. 0. 0. 0. 0. 0.\n",
      " 0. 0. 0. 0. 0. 0. 0. 0. 0. 0. 0. 0. 0. 0. 0. 0. 0. 0. 0. 0. 0. 0. 0. 0.\n",
      " 0. 0. 0. 0. 0. 0. 0. 0. 0. 0. 0. 0. 1. 0. 0. 0. 0. 0. 0. 0. 0. 1. 0. 0.\n",
      " 0. 0. 0. 0. 0. 0. 0. 0. 0. 0. 0. 0. 0. 0. 0. 0. 0. 1. 0. 0. 0. 0. 0. 0.\n",
      " 1. 0. 0. 0. 0. 0. 0. 0. 1. 0. 0. 0. 0. 0. 0. 0. 0. 0. 0. 0. 0. 0. 0. 0.\n",
      " 0. 0. 0. 1.]\n"
     ]
    }
   ],
   "source": [
    "for i in range(10):\n",
    "    print(daydream(500, n_visible, n_hidden, W))"
   ]
  },
  {
   "cell_type": "markdown",
   "metadata": {},
   "source": [
    "# References\n",
    "\n",
    "* [Introduction to Restricted Boltzmann Machines](http://blog.echen.me/2011/07/18/introduction-to-restricted-boltzmann-machines/)\n",
    "* [Dreaming of names with RBMs](http://colinmorris.github.io/blog/dreaming-rbms)\n",
    "* [A Practical guide to training restricted Boltzmann machines](http://www.cs.toronto.edu/~hinton/absps/guideTR.pdf)\n",
    "* [Geometry of the Restricted Boltzmann Machine](http://arxiv.org/abs/0908.4425)\n",
    "* [Top 100 boy names in India 2017](https://www.babycenter.in/a25024464/top-100-boy-names-in-india-in-2017)\n",
    "* [The most popular names in China](http://www.theworldofchinese.com/2014/07/the-most-popular-names-in-china-not-a-john-smith-in-sight/)\n",
    "* [Most Popular Chinese Baby Boy Names ](https://www.mom365.com/baby-names/chinese-boys-names)\n",
    "* [The 10 Most Popular Babies' Names from English Speaking Countries](http://www.world-english.org/boys_names.htm)"
   ]
  },
  {
   "cell_type": "code",
   "execution_count": null,
   "metadata": {},
   "outputs": [],
   "source": []
  }
 ],
 "metadata": {
  "kernelspec": {
   "display_name": "ds",
   "language": "python",
   "name": "ds"
  },
  "language_info": {
   "codemirror_mode": {
    "name": "ipython",
    "version": 2
   },
   "file_extension": ".py",
   "mimetype": "text/x-python",
   "name": "python",
   "nbconvert_exporter": "python",
   "pygments_lexer": "ipython2",
   "version": "2.7.14"
  }
 },
 "nbformat": 4,
 "nbformat_minor": 2
}
