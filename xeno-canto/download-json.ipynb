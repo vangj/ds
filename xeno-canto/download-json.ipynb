{
 "cells": [
  {
   "cell_type": "markdown",
   "metadata": {},
   "source": [
    "# Introduction\n",
    "\n",
    "This notebook will download all the JSON data for bird sounds in the US. The [REST API](https://www.xeno-canto.org/article/153) is documented. "
   ]
  },
  {
   "cell_type": "markdown",
   "metadata": {},
   "source": [
    "## Download the JSON"
   ]
  },
  {
   "cell_type": "code",
   "execution_count": 1,
   "metadata": {
    "ExecuteTime": {
     "end_time": "2018-05-25T11:27:42.668000Z",
     "start_time": "2018-05-25T11:27:42.606000Z"
    }
   },
   "outputs": [],
   "source": [
    "import httplib2\n",
    "import json\n",
    "import os.path"
   ]
  },
  {
   "cell_type": "code",
   "execution_count": 2,
   "metadata": {
    "ExecuteTime": {
     "end_time": "2018-05-25T11:27:43.368000Z",
     "start_time": "2018-05-25T11:27:43.337000Z"
    }
   },
   "outputs": [],
   "source": [
    "h = httplib2.Http()"
   ]
  },
  {
   "cell_type": "code",
   "execution_count": 3,
   "metadata": {
    "ExecuteTime": {
     "end_time": "2018-05-25T11:27:46.473000Z",
     "start_time": "2018-05-25T11:27:43.926000Z"
    }
   },
   "outputs": [],
   "source": [
    "url = 'https://www.xeno-canto.org/api/2/recordings?query=cnt:%22United+States%22'\n",
    "response, content = h.request(url, 'GET')\n",
    "data = json.loads(content)\n",
    "num_pages = data['numPages']"
   ]
  },
  {
   "cell_type": "code",
   "execution_count": 5,
   "metadata": {
    "ExecuteTime": {
     "end_time": "2018-05-25T11:28:40.675000Z",
     "start_time": "2018-05-25T11:28:39.669000Z"
    }
   },
   "outputs": [
    {
     "name": "stderr",
     "output_type": "stream",
     "text": [
      "100%|██████████████████████████████████████████████████████████████████████████████████| 83/83 [00:00<00:00, 89.15it/s]\n"
     ]
    },
    {
     "name": "stdout",
     "output_type": "stream",
     "text": [
      "83 pages of data\n"
     ]
    }
   ],
   "source": [
    "from tqdm import tqdm\n",
    "\n",
    "dataset = []\n",
    "\n",
    "for i in tqdm(range(1, num_pages + 1)):\n",
    "    fname = './json/{}.json'.format(i)\n",
    "    if os.path.exists(fname):\n",
    "        with open(fname, 'rb') as f:\n",
    "            dataset.append(json.load(f))\n",
    "    else:\n",
    "        url = 'https://www.xeno-canto.org/api/2/recordings?query=cnt:%22United+States%22&page={}'.format(i)\n",
    "        _, content = h.request(url, 'GET')\n",
    "        with open(fname, 'wb') as f:\n",
    "            f.write(json.dumps(d, f))\n",
    "        dataset.append(json.loads(content))\n",
    "        \n",
    "print('{} pages of data'.format(len(dataset)))"
   ]
  },
  {
   "cell_type": "markdown",
   "metadata": {},
   "source": [
    "# Get the download URLs and output file names of each recording"
   ]
  },
  {
   "cell_type": "code",
   "execution_count": 6,
   "metadata": {
    "ExecuteTime": {
     "end_time": "2018-05-25T11:28:47.111000Z",
     "start_time": "2018-05-25T11:28:47.096000Z"
    }
   },
   "outputs": [],
   "source": [
    "def get_recording_download_info(item):\n",
    "    url = 'https:{}'.format(item['file'])\n",
    "    mp3 = './mp3/{}.mp3'.format(item['id'])\n",
    "    return {\n",
    "        'url': url,\n",
    "        'mp3': mp3\n",
    "    }\n",
    "    \n",
    "def get_recording_download_infos(dataset):\n",
    "    recordings = []\n",
    "    for data in dataset:\n",
    "        download_infos = [get_recording_download_info(item) for item in data['recordings']]\n",
    "        recordings.extend(download_infos)\n",
    "    return recordings"
   ]
  },
  {
   "cell_type": "code",
   "execution_count": 7,
   "metadata": {
    "ExecuteTime": {
     "end_time": "2018-05-25T11:28:49.390000Z",
     "start_time": "2018-05-25T11:28:49.250000Z"
    }
   },
   "outputs": [],
   "source": [
    "download_info = get_recording_download_infos(dataset)"
   ]
  },
  {
   "cell_type": "markdown",
   "metadata": {},
   "source": [
    "Check to make sure we have 41,291 recording download informations. Also, check to make sure the output paths are unique."
   ]
  },
  {
   "cell_type": "code",
   "execution_count": 8,
   "metadata": {
    "ExecuteTime": {
     "end_time": "2018-05-25T11:28:51.104000Z",
     "start_time": "2018-05-25T11:28:51.045000Z"
    }
   },
   "outputs": [
    {
     "data": {
      "text/plain": [
       "41291"
      ]
     },
     "execution_count": 8,
     "metadata": {},
     "output_type": "execute_result"
    }
   ],
   "source": [
    "len(download_info)"
   ]
  },
  {
   "cell_type": "code",
   "execution_count": 9,
   "metadata": {
    "ExecuteTime": {
     "end_time": "2018-05-25T11:28:55.278000Z",
     "start_time": "2018-05-25T11:28:55.221000Z"
    }
   },
   "outputs": [
    {
     "data": {
      "text/plain": [
       "41291"
      ]
     },
     "execution_count": 9,
     "metadata": {},
     "output_type": "execute_result"
    }
   ],
   "source": [
    "len(set([info['mp3'] for info in download_info]))"
   ]
  },
  {
   "cell_type": "code",
   "execution_count": 10,
   "metadata": {
    "ExecuteTime": {
     "end_time": "2018-05-25T11:28:58.112000Z",
     "start_time": "2018-05-25T11:28:58.056000Z"
    }
   },
   "outputs": [
    {
     "data": {
      "text/plain": [
       "{'mp3': './mp3/316537.mp3',\n",
       " 'url': 'https://www.xeno-canto.org/316537/download'}"
      ]
     },
     "execution_count": 10,
     "metadata": {},
     "output_type": "execute_result"
    }
   ],
   "source": [
    "download_info[0]"
   ]
  },
  {
   "cell_type": "markdown",
   "metadata": {},
   "source": [
    "# Download the mp3 files"
   ]
  },
  {
   "cell_type": "code",
   "execution_count": 11,
   "metadata": {
    "ExecuteTime": {
     "end_time": "2018-05-25T11:29:13.636000Z",
     "start_time": "2018-05-25T11:29:13.589000Z"
    }
   },
   "outputs": [],
   "source": [
    "from httplib2 import RelativeURIError\n",
    "\n",
    "def download_save(item):\n",
    "    h = httplib2.Http()\n",
    "    url = item['url']\n",
    "    mp3 = item['mp3']\n",
    "    \n",
    "    if os.path.exists(mp3):\n",
    "        return 1\n",
    "    \n",
    "    try:\n",
    "        _, content = h.request(url, 'GET')\n",
    "        with open(mp3, 'wb') as f:\n",
    "            f.write(content)\n",
    "    except RelativeURIError as e:\n",
    "        s = str(e)\n",
    "        eq_index = s.find('=')\n",
    "        url = s[eq_index + 1: len(s)].strip()\n",
    "        url = 'https:{}'.format(url)\n",
    "        try:\n",
    "            _, content = h.request(url, 'GET')\n",
    "            with open(mp3, 'wb') as f:\n",
    "                f.write(content)\n",
    "            return 1\n",
    "        except RelativeURIError as e:\n",
    "            return 0"
   ]
  },
  {
   "cell_type": "code",
   "execution_count": 12,
   "metadata": {
    "ExecuteTime": {
     "end_time": "2018-05-25T11:29:19.304000Z",
     "start_time": "2018-05-25T11:29:19.248000Z"
    }
   },
   "outputs": [
    {
     "data": {
      "text/plain": [
       "1"
      ]
     },
     "execution_count": 12,
     "metadata": {},
     "output_type": "execute_result"
    }
   ],
   "source": [
    "download_save(download_info[0])"
   ]
  },
  {
   "cell_type": "code",
   "execution_count": 17,
   "metadata": {
    "ExecuteTime": {
     "end_time": "2018-05-25T15:08:04.217000Z",
     "start_time": "2018-05-25T14:48:06.139000Z"
    },
    "scrolled": false
   },
   "outputs": [
    {
     "name": "stderr",
     "output_type": "stream",
     "text": [
      "[Parallel(n_jobs=15)]: Done  20 tasks      | elapsed:    0.0s\n",
      "[Parallel(n_jobs=15)]: Done 170 tasks      | elapsed:    0.0s\n",
      "[Parallel(n_jobs=15)]: Done 420 tasks      | elapsed:    0.1s\n",
      "[Parallel(n_jobs=15)]: Done 770 tasks      | elapsed:    0.3s\n",
      "[Parallel(n_jobs=15)]: Done 1220 tasks      | elapsed:    0.4s\n",
      "[Parallel(n_jobs=15)]: Done 1770 tasks      | elapsed:    0.6s\n",
      "[Parallel(n_jobs=15)]: Done 2420 tasks      | elapsed:    0.9s\n",
      "[Parallel(n_jobs=15)]: Done 3170 tasks      | elapsed:    1.2s\n",
      "[Parallel(n_jobs=15)]: Done 4020 tasks      | elapsed:    1.6s\n",
      "[Parallel(n_jobs=15)]: Done 4970 tasks      | elapsed:    2.0s\n",
      "[Parallel(n_jobs=15)]: Done 6020 tasks      | elapsed:    2.4s\n",
      "[Parallel(n_jobs=15)]: Done 7170 tasks      | elapsed:    2.9s\n",
      "[Parallel(n_jobs=15)]: Done 8420 tasks      | elapsed:    3.3s\n",
      "[Parallel(n_jobs=15)]: Done 9770 tasks      | elapsed:    3.9s\n",
      "[Parallel(n_jobs=15)]: Done 11220 tasks      | elapsed:    4.4s\n",
      "[Parallel(n_jobs=15)]: Done 12770 tasks      | elapsed:    5.0s\n",
      "[Parallel(n_jobs=15)]: Done 14420 tasks      | elapsed:    5.7s\n",
      "[Parallel(n_jobs=15)]: Done 16170 tasks      | elapsed:    6.5s\n",
      "[Parallel(n_jobs=15)]: Done 18020 tasks      | elapsed:    7.2s\n",
      "[Parallel(n_jobs=15)]: Done 19970 tasks      | elapsed:    8.0s\n",
      "[Parallel(n_jobs=15)]: Done 22020 tasks      | elapsed:    8.8s\n",
      "[Parallel(n_jobs=15)]: Done 24170 tasks      | elapsed:    9.7s\n",
      "[Parallel(n_jobs=15)]: Done 26420 tasks      | elapsed:   10.6s\n",
      "[Parallel(n_jobs=15)]: Done 28770 tasks      | elapsed:   11.4s\n",
      "[Parallel(n_jobs=15)]: Done 31220 tasks      | elapsed:   12.4s\n",
      "[Parallel(n_jobs=15)]: Done 33770 tasks      | elapsed:   13.3s\n",
      "[Parallel(n_jobs=15)]: Done 36420 tasks      | elapsed:   14.3s\n",
      "[Parallel(n_jobs=15)]: Done 39170 tasks      | elapsed:  9.5min\n",
      "[Parallel(n_jobs=15)]: Done 41291 out of 41291 | elapsed: 20.0min finished\n"
     ]
    }
   ],
   "source": [
    "from joblib import Parallel, delayed\n",
    "\n",
    "results = Parallel(n_jobs=15, backend='threading', verbose=1)(delayed(download_save)(item) for item in download_info)"
   ]
  },
  {
   "cell_type": "markdown",
   "metadata": {},
   "source": [
    "# Take a Look!\n",
    "\n",
    "Take a look at [Sir Ronald Fisher](https://en.wikipedia.org/wiki/Ronald_Fisher)."
   ]
  },
  {
   "cell_type": "code",
   "execution_count": null,
   "metadata": {},
   "outputs": [],
   "source": []
  }
 ],
 "metadata": {
  "kernelspec": {
   "display_name": "ds",
   "language": "python",
   "name": "ds"
  },
  "language_info": {
   "codemirror_mode": {
    "name": "ipython",
    "version": 2
   },
   "file_extension": ".py",
   "mimetype": "text/x-python",
   "name": "python",
   "nbconvert_exporter": "python",
   "pygments_lexer": "ipython2",
   "version": "2.7.14"
  },
  "toc": {
   "nav_menu": {},
   "number_sections": true,
   "sideBar": true,
   "skip_h1_title": false,
   "title_cell": "Table of Contents",
   "title_sidebar": "Contents",
   "toc_cell": false,
   "toc_position": {},
   "toc_section_display": true,
   "toc_window_display": false
  },
  "varInspector": {
   "cols": {
    "lenName": 16,
    "lenType": 16,
    "lenVar": 40
   },
   "kernels_config": {
    "python": {
     "delete_cmd_postfix": "",
     "delete_cmd_prefix": "del ",
     "library": "var_list.py",
     "varRefreshCmd": "print(var_dic_list())"
    },
    "r": {
     "delete_cmd_postfix": ") ",
     "delete_cmd_prefix": "rm(",
     "library": "var_list.r",
     "varRefreshCmd": "cat(var_dic_list()) "
    }
   },
   "types_to_exclude": [
    "module",
    "function",
    "builtin_function_or_method",
    "instance",
    "_Feature"
   ],
   "window_display": false
  }
 },
 "nbformat": 4,
 "nbformat_minor": 2
}
