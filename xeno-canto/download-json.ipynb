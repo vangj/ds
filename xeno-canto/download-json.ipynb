{
 "cells": [
  {
   "cell_type": "markdown",
   "metadata": {},
   "source": [
    "# Introduction\n",
    "\n",
    "This notebook will download all the JSON data for bird sounds in the US. The [REST API](https://www.xeno-canto.org/article/153) is documented. "
   ]
  },
  {
   "cell_type": "markdown",
   "metadata": {},
   "source": [
    "## Download the JSON"
   ]
  },
  {
   "cell_type": "code",
   "execution_count": 8,
   "metadata": {
    "ExecuteTime": {
     "end_time": "2018-05-25T02:48:23.692000Z",
     "start_time": "2018-05-25T02:48:23.661000Z"
    }
   },
   "outputs": [],
   "source": [
    "import httplib2\n",
    "import json"
   ]
  },
  {
   "cell_type": "code",
   "execution_count": 45,
   "metadata": {
    "ExecuteTime": {
     "end_time": "2018-05-25T03:23:12.951000Z",
     "start_time": "2018-05-25T03:23:12.919000Z"
    }
   },
   "outputs": [],
   "source": [
    "h = httplib2.Http()\n",
    "h.follow_all_redirects = False"
   ]
  },
  {
   "cell_type": "code",
   "execution_count": 9,
   "metadata": {
    "ExecuteTime": {
     "end_time": "2018-05-25T02:48:27.346000Z",
     "start_time": "2018-05-25T02:48:25.096000Z"
    }
   },
   "outputs": [],
   "source": [
    "url = 'https://www.xeno-canto.org/api/2/recordings?query=cnt:%22United+States%22'\n",
    "response, content = h.request(url, 'GET')\n",
    "data = json.loads(content)"
   ]
  },
  {
   "cell_type": "code",
   "execution_count": 13,
   "metadata": {
    "ExecuteTime": {
     "end_time": "2018-05-25T02:49:15.775000Z",
     "start_time": "2018-05-25T02:49:15.744000Z"
    }
   },
   "outputs": [],
   "source": [
    "num_pages = data['numPages']"
   ]
  },
  {
   "cell_type": "code",
   "execution_count": 15,
   "metadata": {
    "ExecuteTime": {
     "end_time": "2018-05-25T02:50:40.657000Z",
     "start_time": "2018-05-25T02:50:40.610000Z"
    }
   },
   "outputs": [],
   "source": [
    "dataset = [data]"
   ]
  },
  {
   "cell_type": "code",
   "execution_count": 17,
   "metadata": {
    "ExecuteTime": {
     "end_time": "2018-05-25T02:55:18.720000Z",
     "start_time": "2018-05-25T02:53:10.519000Z"
    }
   },
   "outputs": [
    {
     "name": "stderr",
     "output_type": "stream",
     "text": [
      "100%|██████████████████████████████████████████████████████████████████████████████████| 82/82 [02:08<00:00,  1.56s/it]\n"
     ]
    }
   ],
   "source": [
    "from tqdm import tqdm\n",
    "\n",
    "for i in tqdm(range(2, num_pages + 1)):\n",
    "    url = 'https://www.xeno-canto.org/api/2/recordings?query=cnt:%22United+States%22&page={}'.format(i)\n",
    "    _, content = h.request(url, 'GET')\n",
    "    dataset.append(json.loads(content))"
   ]
  },
  {
   "cell_type": "markdown",
   "metadata": {},
   "source": [
    "## Save the JSON locally"
   ]
  },
  {
   "cell_type": "code",
   "execution_count": 24,
   "metadata": {
    "ExecuteTime": {
     "end_time": "2018-05-25T03:00:04.529000Z",
     "start_time": "2018-05-25T03:00:04.066000Z"
    }
   },
   "outputs": [
    {
     "name": "stderr",
     "output_type": "stream",
     "text": [
      "83it [00:00, 200.00it/s]\n"
     ]
    }
   ],
   "source": [
    "for i, d in tqdm(enumerate(dataset)):\n",
    "    fname = './json/{}.json'.format(i+1)\n",
    "    with open(fname, 'wb') as f:\n",
    "        f.write(json.dumps(d, f))"
   ]
  },
  {
   "cell_type": "markdown",
   "metadata": {},
   "source": [
    "# Get the download URLs and output file names of each recording"
   ]
  },
  {
   "cell_type": "code",
   "execution_count": 34,
   "metadata": {
    "ExecuteTime": {
     "end_time": "2018-05-25T03:17:04.445000Z",
     "start_time": "2018-05-25T03:17:04.398000Z"
    }
   },
   "outputs": [],
   "source": [
    "def get_recording_download_info(item):\n",
    "    url = 'https:{}'.format(item['file'])\n",
    "    mp3 = './mp3/{}.mp3'.format(item['id'])\n",
    "    return {\n",
    "        'url': url,\n",
    "        'mp3': mp3\n",
    "    }\n",
    "    \n",
    "def get_recording_download_infos(dataset):\n",
    "    recordings = []\n",
    "    for data in dataset:\n",
    "        download_infos = [get_recording_download_info(item) for item in data['recordings']]\n",
    "        recordings.extend(download_infos)\n",
    "    return recordings"
   ]
  },
  {
   "cell_type": "code",
   "execution_count": 35,
   "metadata": {
    "ExecuteTime": {
     "end_time": "2018-05-25T03:17:05.773000Z",
     "start_time": "2018-05-25T03:17:05.632000Z"
    }
   },
   "outputs": [],
   "source": [
    "download_info = get_recording_download_infos(dataset)"
   ]
  },
  {
   "cell_type": "markdown",
   "metadata": {},
   "source": [
    "Check to make sure we have 41,291 recording download informations. Also, check to make sure the output paths are unique."
   ]
  },
  {
   "cell_type": "code",
   "execution_count": 36,
   "metadata": {
    "ExecuteTime": {
     "end_time": "2018-05-25T03:17:07.046000Z",
     "start_time": "2018-05-25T03:17:06.988000Z"
    }
   },
   "outputs": [
    {
     "data": {
      "text/plain": [
       "41291"
      ]
     },
     "execution_count": 36,
     "metadata": {},
     "output_type": "execute_result"
    }
   ],
   "source": [
    "len(download_info)"
   ]
  },
  {
   "cell_type": "code",
   "execution_count": 37,
   "metadata": {
    "ExecuteTime": {
     "end_time": "2018-05-25T03:17:07.581000Z",
     "start_time": "2018-05-25T03:17:07.507000Z"
    }
   },
   "outputs": [
    {
     "data": {
      "text/plain": [
       "41291"
      ]
     },
     "execution_count": 37,
     "metadata": {},
     "output_type": "execute_result"
    }
   ],
   "source": [
    "len(set([info['mp3'] for info in download_info]))"
   ]
  },
  {
   "cell_type": "code",
   "execution_count": 38,
   "metadata": {
    "ExecuteTime": {
     "end_time": "2018-05-25T03:17:09.319000Z",
     "start_time": "2018-05-25T03:17:09.276000Z"
    }
   },
   "outputs": [
    {
     "data": {
      "text/plain": [
       "{'mp3': './mp3/316537.mp3',\n",
       " 'url': 'https://www.xeno-canto.org/316537/download'}"
      ]
     },
     "execution_count": 38,
     "metadata": {},
     "output_type": "execute_result"
    }
   ],
   "source": [
    "download_info[0]"
   ]
  },
  {
   "cell_type": "markdown",
   "metadata": {},
   "source": [
    "# Download the mp3 files"
   ]
  },
  {
   "cell_type": "code",
   "execution_count": 91,
   "metadata": {
    "ExecuteTime": {
     "end_time": "2018-05-25T03:54:28.302000Z",
     "start_time": "2018-05-25T03:54:28.255000Z"
    }
   },
   "outputs": [],
   "source": [
    "from httplib2 import RelativeURIError\n",
    "\n",
    "def download_save(item):\n",
    "    h = httplib2.Http()\n",
    "    url = item['url']\n",
    "    mp3 = item['mp3']\n",
    "    try:\n",
    "        _, content = h.request(url, 'GET')\n",
    "        with open(mp3, 'wb') as f:\n",
    "            f.write(content)\n",
    "    except RelativeURIError as e:\n",
    "        s = str(e)\n",
    "        eq_index = s.find('=')\n",
    "        url = s[eq_index + 1: len(s)].strip()\n",
    "        url = 'https:{}'.format(url)\n",
    "        try:\n",
    "            _, content = h.request(url, 'GET')\n",
    "            with open(mp3, 'wb') as f:\n",
    "                f.write(content)\n",
    "            return 1\n",
    "        except RelativeURIError as e:\n",
    "            return 0"
   ]
  },
  {
   "cell_type": "code",
   "execution_count": 94,
   "metadata": {
    "ExecuteTime": {
     "end_time": "2018-05-25T03:54:37.009000Z",
     "start_time": "2018-05-25T03:54:35.544000Z"
    }
   },
   "outputs": [
    {
     "data": {
      "text/plain": [
       "1"
      ]
     },
     "execution_count": 94,
     "metadata": {},
     "output_type": "execute_result"
    }
   ],
   "source": [
    "download_save(download_info[0])"
   ]
  },
  {
   "cell_type": "code",
   "execution_count": null,
   "metadata": {
    "ExecuteTime": {
     "start_time": "2018-05-25T03:54:38.890Z"
    },
    "scrolled": false
   },
   "outputs": [
    {
     "name": "stderr",
     "output_type": "stream",
     "text": [
      "[Parallel(n_jobs=5)]: Done   8 tasks      | elapsed:    3.5s\n",
      "[Parallel(n_jobs=5)]: Done  62 tasks      | elapsed:   24.7s\n",
      "[Parallel(n_jobs=5)]: Done 152 tasks      | elapsed:  1.3min\n"
     ]
    }
   ],
   "source": [
    "from joblib import Parallel, delayed\n",
    "\n",
    "results = Parallel(n_jobs=5, backend='threading', verbose=5)(delayed(download_save)(item) for item in download_info)"
   ]
  },
  {
   "cell_type": "code",
   "execution_count": null,
   "metadata": {},
   "outputs": [],
   "source": []
  }
 ],
 "metadata": {
  "kernelspec": {
   "display_name": "ds",
   "language": "python",
   "name": "ds"
  },
  "language_info": {
   "codemirror_mode": {
    "name": "ipython",
    "version": 2
   },
   "file_extension": ".py",
   "mimetype": "text/x-python",
   "name": "python",
   "nbconvert_exporter": "python",
   "pygments_lexer": "ipython2",
   "version": "2.7.14"
  }
 },
 "nbformat": 4,
 "nbformat_minor": 2
}
