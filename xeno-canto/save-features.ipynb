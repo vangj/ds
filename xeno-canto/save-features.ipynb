{
 "cells": [
  {
   "cell_type": "code",
   "execution_count": 1,
   "metadata": {
    "ExecuteTime": {
     "end_time": "2018-06-01T21:17:12.474818Z",
     "start_time": "2018-06-01T21:17:11.150840Z"
    }
   },
   "outputs": [],
   "source": [
    "%matplotlib inline\n",
    "import matplotlib.pylab as plt\n",
    "import IPython.display as ipd\n",
    "import numpy as np\n",
    "import pandas as pd\n",
    "import scipy\n",
    "import sklearn\n",
    "import librosa\n",
    "import librosa.display\n",
    "from ast import literal_eval\n",
    "from joblib import Parallel, delayed\n",
    "from tqdm import tqdm\n",
    "import seaborn as sns\n",
    "import pickle\n",
    "import os.path\n",
    "\n",
    "np.random.seed(37)"
   ]
  },
  {
   "cell_type": "code",
   "execution_count": 2,
   "metadata": {
    "ExecuteTime": {
     "end_time": "2018-06-01T21:17:12.976942Z",
     "start_time": "2018-06-01T21:17:12.479034Z"
    }
   },
   "outputs": [
    {
     "name": "stdout",
     "output_type": "stream",
     "text": [
      "(41291, 12)\n"
     ]
    }
   ],
   "source": [
    "recording_df = pd.read_csv('recording.csv', converters={'types': literal_eval})\n",
    "print(recording_df.shape)"
   ]
  },
  {
   "cell_type": "code",
   "execution_count": 3,
   "metadata": {
    "ExecuteTime": {
     "end_time": "2018-06-01T21:17:13.018739Z",
     "start_time": "2018-06-01T21:17:12.981925Z"
    }
   },
   "outputs": [
    {
     "data": {
      "text/html": [
       "<div>\n",
       "<style scoped>\n",
       "    .dataframe tbody tr th:only-of-type {\n",
       "        vertical-align: middle;\n",
       "    }\n",
       "\n",
       "    .dataframe tbody tr th {\n",
       "        vertical-align: top;\n",
       "    }\n",
       "\n",
       "    .dataframe thead th {\n",
       "        text-align: right;\n",
       "    }\n",
       "</style>\n",
       "<table border=\"1\" class=\"dataframe\">\n",
       "  <thead>\n",
       "    <tr style=\"text-align: right;\">\n",
       "      <th></th>\n",
       "      <th>id</th>\n",
       "      <th>state</th>\n",
       "      <th>en</th>\n",
       "      <th>sp</th>\n",
       "      <th>ssp</th>\n",
       "      <th>gen</th>\n",
       "      <th>lat</th>\n",
       "      <th>lng</th>\n",
       "      <th>types</th>\n",
       "      <th>mp3</th>\n",
       "      <th>mp3_size</th>\n",
       "      <th>duration</th>\n",
       "    </tr>\n",
       "  </thead>\n",
       "  <tbody>\n",
       "    <tr>\n",
       "      <th>0</th>\n",
       "      <td>408991</td>\n",
       "      <td>michigan</td>\n",
       "      <td>black-capped chickadee</td>\n",
       "      <td>atricapillus</td>\n",
       "      <td>atricapillus</td>\n",
       "      <td>poecile</td>\n",
       "      <td>42.1696</td>\n",
       "      <td>-84.2051</td>\n",
       "      <td>[call]</td>\n",
       "      <td>./mp3/408991.mp3</td>\n",
       "      <td>1056878</td>\n",
       "      <td>26.319550</td>\n",
       "    </tr>\n",
       "    <tr>\n",
       "      <th>1</th>\n",
       "      <td>408988</td>\n",
       "      <td>michigan</td>\n",
       "      <td>black-capped chickadee</td>\n",
       "      <td>atricapillus</td>\n",
       "      <td>atricapillus</td>\n",
       "      <td>poecile</td>\n",
       "      <td>42.1696</td>\n",
       "      <td>-84.2051</td>\n",
       "      <td>[call]</td>\n",
       "      <td>./mp3/408988.mp3</td>\n",
       "      <td>1718318</td>\n",
       "      <td>42.855550</td>\n",
       "    </tr>\n",
       "    <tr>\n",
       "      <th>2</th>\n",
       "      <td>407827</td>\n",
       "      <td>new york</td>\n",
       "      <td>black-capped chickadee</td>\n",
       "      <td>atricapillus</td>\n",
       "      <td>NaN</td>\n",
       "      <td>poecile</td>\n",
       "      <td>42.0330</td>\n",
       "      <td>-79.4222</td>\n",
       "      <td>[song]</td>\n",
       "      <td>./mp3/407827.mp3</td>\n",
       "      <td>281570</td>\n",
       "      <td>17.342125</td>\n",
       "    </tr>\n",
       "    <tr>\n",
       "      <th>3</th>\n",
       "      <td>406662</td>\n",
       "      <td>illinois</td>\n",
       "      <td>black-capped chickadee</td>\n",
       "      <td>atricapillus</td>\n",
       "      <td>NaN</td>\n",
       "      <td>poecile</td>\n",
       "      <td>41.3260</td>\n",
       "      <td>-89.8926</td>\n",
       "      <td>[song]</td>\n",
       "      <td>./mp3/406662.mp3</td>\n",
       "      <td>3878909</td>\n",
       "      <td>96.810275</td>\n",
       "    </tr>\n",
       "    <tr>\n",
       "      <th>4</th>\n",
       "      <td>394059</td>\n",
       "      <td>new jersey</td>\n",
       "      <td>black-capped chickadee</td>\n",
       "      <td>atricapillus</td>\n",
       "      <td>NaN</td>\n",
       "      <td>poecile</td>\n",
       "      <td>40.7958</td>\n",
       "      <td>-74.0492</td>\n",
       "      <td>[alarm call, call, flight call]</td>\n",
       "      <td>./mp3/394059.mp3</td>\n",
       "      <td>154378</td>\n",
       "      <td>7.272000</td>\n",
       "    </tr>\n",
       "  </tbody>\n",
       "</table>\n",
       "</div>"
      ],
      "text/plain": [
       "       id       state                      en            sp           ssp  \\\n",
       "0  408991    michigan  black-capped chickadee  atricapillus  atricapillus   \n",
       "1  408988    michigan  black-capped chickadee  atricapillus  atricapillus   \n",
       "2  407827    new york  black-capped chickadee  atricapillus           NaN   \n",
       "3  406662    illinois  black-capped chickadee  atricapillus           NaN   \n",
       "4  394059  new jersey  black-capped chickadee  atricapillus           NaN   \n",
       "\n",
       "       gen      lat      lng                            types  \\\n",
       "0  poecile  42.1696 -84.2051                           [call]   \n",
       "1  poecile  42.1696 -84.2051                           [call]   \n",
       "2  poecile  42.0330 -79.4222                           [song]   \n",
       "3  poecile  41.3260 -89.8926                           [song]   \n",
       "4  poecile  40.7958 -74.0492  [alarm call, call, flight call]   \n",
       "\n",
       "                mp3  mp3_size   duration  \n",
       "0  ./mp3/408991.mp3   1056878  26.319550  \n",
       "1  ./mp3/408988.mp3   1718318  42.855550  \n",
       "2  ./mp3/407827.mp3    281570  17.342125  \n",
       "3  ./mp3/406662.mp3   3878909  96.810275  \n",
       "4  ./mp3/394059.mp3    154378   7.272000  "
      ]
     },
     "execution_count": 3,
     "metadata": {},
     "output_type": "execute_result"
    }
   ],
   "source": [
    "recording_df.head(5)"
   ]
  },
  {
   "cell_type": "code",
   "execution_count": 4,
   "metadata": {
    "ExecuteTime": {
     "end_time": "2018-06-01T21:17:13.067478Z",
     "start_time": "2018-06-01T21:17:13.023550Z"
    }
   },
   "outputs": [],
   "source": [
    "def get_spectral_features(y, sr):\n",
    "    centroid = librosa.feature.spectral_centroid(y, sr=sr)\n",
    "    bandwidth = librosa.feature.spectral_bandwidth(y, sr=sr)\n",
    "    flatness = librosa.feature.spectral_flatness(y)\n",
    "    rolloff = librosa.feature.spectral_rolloff(y, sr=sr)\n",
    "    zcr = librosa.feature.zero_crossing_rate(y)\n",
    "    \n",
    "    return (centroid, bandwidth, flatness, rolloff, zcr)\n",
    "\n",
    "def get_chroma_features(y, sr, n_mfcc=12):\n",
    "    mfcc = librosa.feature.mfcc(y, sr=sr, n_mfcc=n_mfcc).T\n",
    "    stft = librosa.feature.chroma_stft(y, sr=sr).T\n",
    "    cqt = librosa.feature.chroma_cqt(y, sr=sr, n_chroma=n_mfcc).T\n",
    "    cens = librosa.feature.chroma_cens(y, sr=sr, n_chroma=n_mfcc).T\n",
    "    poly = librosa.feature.poly_features(y, sr=sr, order=n_mfcc - 1).T\n",
    "    \n",
    "    scaler = sklearn.preprocessing.StandardScaler()\n",
    "    mfcc = scaler.fit_transform(mfcc)\n",
    "    \n",
    "    return np.hstack((mfcc, stft, cqt, cens, poly))\n",
    "\n",
    "def pickle_data(fname, data):\n",
    "    pickle.dump(data, open(fname, 'wb'))\n",
    "    \n",
    "def save_features(idx, fname, duration=60.0):\n",
    "    result = 1\n",
    "    sname = './features/spectral/{}.p'.format(idx)\n",
    "    cname = './features/chroma/{}.p'.format(idx)\n",
    "    \n",
    "    if os.path.exists(sname) is True and os.path.exists(cname) is True:\n",
    "        return result\n",
    "    \n",
    "    try:\n",
    "        y, sr = librosa.load(fname, duration=duration)\n",
    "\n",
    "        if os.path.exists(sname) is False:\n",
    "            try:\n",
    "                spectral_features = get_spectral_features(y, sr)\n",
    "                pickle_data(sname, spectral_features)\n",
    "            except:\n",
    "                result = -1\n",
    "\n",
    "        if os.path.exists(cname) is False:\n",
    "            try:\n",
    "                chroma_features = get_chroma_features(y, sr)\n",
    "                pickle_data(cname, chroma_features)\n",
    "            except:\n",
    "                result = -2\n",
    "    except:\n",
    "        result = -3\n",
    "    \n",
    "    return result"
   ]
  },
  {
   "cell_type": "code",
   "execution_count": 5,
   "metadata": {
    "ExecuteTime": {
     "end_time": "2018-06-01T21:17:23.454592Z",
     "start_time": "2018-06-01T21:17:13.073495Z"
    }
   },
   "outputs": [
    {
     "name": "stderr",
     "output_type": "stream",
     "text": [
      "[Parallel(n_jobs=-1)]: Done 2008 tasks      | elapsed:    0.7s\n",
      "[Parallel(n_jobs=-1)]: Done 8848 tasks      | elapsed:    2.1s\n",
      "[Parallel(n_jobs=-1)]: Done 18424 tasks      | elapsed:    3.8s\n",
      "[Parallel(n_jobs=-1)]: Done 30736 tasks      | elapsed:    6.1s\n",
      "[Parallel(n_jobs=-1)]: Done 41291 out of 41291 | elapsed:   10.1s finished\n"
     ]
    }
   ],
   "source": [
    "results = Parallel(n_jobs=-1, verbose=5)(delayed(save_features)(r['id'], r['mp3']) for i, r in recording_df.iterrows())"
   ]
  },
  {
   "cell_type": "code",
   "execution_count": 6,
   "metadata": {
    "ExecuteTime": {
     "end_time": "2018-06-01T21:17:23.465965Z",
     "start_time": "2018-06-01T21:17:23.458619Z"
    }
   },
   "outputs": [
    {
     "name": "stdout",
     "output_type": "stream",
     "text": [
      "41162 files processed\n"
     ]
    }
   ],
   "source": [
    "print('{} files processed'.format(np.sum(results)))"
   ]
  }
 ],
 "metadata": {
  "kernelspec": {
   "display_name": "ds",
   "language": "python",
   "name": "ds"
  },
  "language_info": {
   "codemirror_mode": {
    "name": "ipython",
    "version": 2
   },
   "file_extension": ".py",
   "mimetype": "text/x-python",
   "name": "python",
   "nbconvert_exporter": "python",
   "pygments_lexer": "ipython2",
   "version": "2.7.14"
  },
  "toc": {
   "base_numbering": 1,
   "nav_menu": {},
   "number_sections": true,
   "sideBar": true,
   "skip_h1_title": false,
   "title_cell": "Table of Contents",
   "title_sidebar": "Contents",
   "toc_cell": false,
   "toc_position": {},
   "toc_section_display": true,
   "toc_window_display": false
  },
  "varInspector": {
   "cols": {
    "lenName": 16,
    "lenType": 16,
    "lenVar": 40
   },
   "kernels_config": {
    "python": {
     "delete_cmd_postfix": "",
     "delete_cmd_prefix": "del ",
     "library": "var_list.py",
     "varRefreshCmd": "print(var_dic_list())"
    },
    "r": {
     "delete_cmd_postfix": ") ",
     "delete_cmd_prefix": "rm(",
     "library": "var_list.r",
     "varRefreshCmd": "cat(var_dic_list()) "
    }
   },
   "types_to_exclude": [
    "module",
    "function",
    "builtin_function_or_method",
    "instance",
    "_Feature"
   ],
   "window_display": false
  }
 },
 "nbformat": 4,
 "nbformat_minor": 2
}
