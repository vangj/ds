{
 "cells": [
  {
   "cell_type": "markdown",
   "metadata": {},
   "source": [
    "# Purpose\n",
    "\n",
    "Let's try to do a one-versus-other classification based on the sound features. "
   ]
  },
  {
   "cell_type": "code",
   "execution_count": 1,
   "metadata": {
    "ExecuteTime": {
     "end_time": "2018-06-03T17:19:19.634329Z",
     "start_time": "2018-06-03T17:19:17.968021Z"
    }
   },
   "outputs": [],
   "source": [
    "%matplotlib inline\n",
    "import matplotlib.pylab as plt\n",
    "import IPython.display as ipd\n",
    "import numpy as np\n",
    "import pandas as pd\n",
    "import scipy\n",
    "import sklearn\n",
    "import librosa\n",
    "import librosa.display\n",
    "from ast import literal_eval\n",
    "from joblib import Parallel, delayed\n",
    "from tqdm import tqdm\n",
    "import seaborn as sns\n",
    "import pickle\n",
    "import os.path\n",
    "\n",
    "np.random.seed(37)"
   ]
  },
  {
   "cell_type": "code",
   "execution_count": 2,
   "metadata": {
    "ExecuteTime": {
     "end_time": "2018-06-03T17:19:20.723349Z",
     "start_time": "2018-06-03T17:19:20.259234Z"
    }
   },
   "outputs": [
    {
     "name": "stdout",
     "output_type": "stream",
     "text": [
      "(41291, 12)\n"
     ]
    }
   ],
   "source": [
    "recording_df = pd.read_csv('recording.csv', converters={'types': literal_eval})\n",
    "print(recording_df.shape)"
   ]
  },
  {
   "cell_type": "code",
   "execution_count": 3,
   "metadata": {
    "ExecuteTime": {
     "end_time": "2018-06-03T17:19:21.328393Z",
     "start_time": "2018-06-03T17:19:21.293443Z"
    }
   },
   "outputs": [
    {
     "data": {
      "text/html": [
       "<div>\n",
       "<style scoped>\n",
       "    .dataframe tbody tr th:only-of-type {\n",
       "        vertical-align: middle;\n",
       "    }\n",
       "\n",
       "    .dataframe tbody tr th {\n",
       "        vertical-align: top;\n",
       "    }\n",
       "\n",
       "    .dataframe thead th {\n",
       "        text-align: right;\n",
       "    }\n",
       "</style>\n",
       "<table border=\"1\" class=\"dataframe\">\n",
       "  <thead>\n",
       "    <tr style=\"text-align: right;\">\n",
       "      <th></th>\n",
       "      <th>id</th>\n",
       "      <th>state</th>\n",
       "      <th>en</th>\n",
       "      <th>sp</th>\n",
       "      <th>ssp</th>\n",
       "      <th>gen</th>\n",
       "      <th>lat</th>\n",
       "      <th>lng</th>\n",
       "      <th>types</th>\n",
       "      <th>mp3</th>\n",
       "      <th>mp3_size</th>\n",
       "      <th>duration</th>\n",
       "    </tr>\n",
       "  </thead>\n",
       "  <tbody>\n",
       "    <tr>\n",
       "      <th>0</th>\n",
       "      <td>408991</td>\n",
       "      <td>michigan</td>\n",
       "      <td>black-capped chickadee</td>\n",
       "      <td>atricapillus</td>\n",
       "      <td>atricapillus</td>\n",
       "      <td>poecile</td>\n",
       "      <td>42.1696</td>\n",
       "      <td>-84.2051</td>\n",
       "      <td>[call]</td>\n",
       "      <td>./mp3/408991.mp3</td>\n",
       "      <td>1056878</td>\n",
       "      <td>26.319550</td>\n",
       "    </tr>\n",
       "    <tr>\n",
       "      <th>1</th>\n",
       "      <td>408988</td>\n",
       "      <td>michigan</td>\n",
       "      <td>black-capped chickadee</td>\n",
       "      <td>atricapillus</td>\n",
       "      <td>atricapillus</td>\n",
       "      <td>poecile</td>\n",
       "      <td>42.1696</td>\n",
       "      <td>-84.2051</td>\n",
       "      <td>[call]</td>\n",
       "      <td>./mp3/408988.mp3</td>\n",
       "      <td>1718318</td>\n",
       "      <td>42.855550</td>\n",
       "    </tr>\n",
       "    <tr>\n",
       "      <th>2</th>\n",
       "      <td>407827</td>\n",
       "      <td>new york</td>\n",
       "      <td>black-capped chickadee</td>\n",
       "      <td>atricapillus</td>\n",
       "      <td>NaN</td>\n",
       "      <td>poecile</td>\n",
       "      <td>42.0330</td>\n",
       "      <td>-79.4222</td>\n",
       "      <td>[song]</td>\n",
       "      <td>./mp3/407827.mp3</td>\n",
       "      <td>281570</td>\n",
       "      <td>17.342125</td>\n",
       "    </tr>\n",
       "    <tr>\n",
       "      <th>3</th>\n",
       "      <td>406662</td>\n",
       "      <td>illinois</td>\n",
       "      <td>black-capped chickadee</td>\n",
       "      <td>atricapillus</td>\n",
       "      <td>NaN</td>\n",
       "      <td>poecile</td>\n",
       "      <td>41.3260</td>\n",
       "      <td>-89.8926</td>\n",
       "      <td>[song]</td>\n",
       "      <td>./mp3/406662.mp3</td>\n",
       "      <td>3878909</td>\n",
       "      <td>96.810275</td>\n",
       "    </tr>\n",
       "    <tr>\n",
       "      <th>4</th>\n",
       "      <td>394059</td>\n",
       "      <td>new jersey</td>\n",
       "      <td>black-capped chickadee</td>\n",
       "      <td>atricapillus</td>\n",
       "      <td>NaN</td>\n",
       "      <td>poecile</td>\n",
       "      <td>40.7958</td>\n",
       "      <td>-74.0492</td>\n",
       "      <td>[alarm call, call, flight call]</td>\n",
       "      <td>./mp3/394059.mp3</td>\n",
       "      <td>154378</td>\n",
       "      <td>7.272000</td>\n",
       "    </tr>\n",
       "  </tbody>\n",
       "</table>\n",
       "</div>"
      ],
      "text/plain": [
       "       id       state                      en            sp           ssp  \\\n",
       "0  408991    michigan  black-capped chickadee  atricapillus  atricapillus   \n",
       "1  408988    michigan  black-capped chickadee  atricapillus  atricapillus   \n",
       "2  407827    new york  black-capped chickadee  atricapillus           NaN   \n",
       "3  406662    illinois  black-capped chickadee  atricapillus           NaN   \n",
       "4  394059  new jersey  black-capped chickadee  atricapillus           NaN   \n",
       "\n",
       "       gen      lat      lng                            types  \\\n",
       "0  poecile  42.1696 -84.2051                           [call]   \n",
       "1  poecile  42.1696 -84.2051                           [call]   \n",
       "2  poecile  42.0330 -79.4222                           [song]   \n",
       "3  poecile  41.3260 -89.8926                           [song]   \n",
       "4  poecile  40.7958 -74.0492  [alarm call, call, flight call]   \n",
       "\n",
       "                mp3  mp3_size   duration  \n",
       "0  ./mp3/408991.mp3   1056878  26.319550  \n",
       "1  ./mp3/408988.mp3   1718318  42.855550  \n",
       "2  ./mp3/407827.mp3    281570  17.342125  \n",
       "3  ./mp3/406662.mp3   3878909  96.810275  \n",
       "4  ./mp3/394059.mp3    154378   7.272000  "
      ]
     },
     "execution_count": 3,
     "metadata": {},
     "output_type": "execute_result"
    }
   ],
   "source": [
    "recording_df.head(5)"
   ]
  },
  {
   "cell_type": "code",
   "execution_count": 25,
   "metadata": {
    "ExecuteTime": {
     "end_time": "2018-06-03T17:32:20.019339Z",
     "start_time": "2018-06-03T17:32:19.990270Z"
    }
   },
   "outputs": [],
   "source": [
    "def get_type_idx_map(s, min_samples=50):\n",
    "    m = {}\n",
    "    idx = 0\n",
    "    for i, v in zip(s.index, s.values):\n",
    "        if i not in m and v >= min_samples:\n",
    "            m[i] = idx\n",
    "            idx += 1\n",
    "    return m\n",
    "\n",
    "s = {\n",
    "    'sp': recording_df['sp'].value_counts(),\n",
    "    'gen': recording_df['gen'].value_counts()\n",
    "}\n",
    "\n",
    "idx_map = get_type_idx_map(s['sp'])"
   ]
  },
  {
   "cell_type": "code",
   "execution_count": 26,
   "metadata": {
    "ExecuteTime": {
     "end_time": "2018-06-03T17:36:58.637062Z",
     "start_time": "2018-06-03T17:36:58.630943Z"
    }
   },
   "outputs": [],
   "source": [
    "def unpickle_data(fname):\n",
    "    return pickle.load(open(fname, 'rb'))"
   ]
  },
  {
   "cell_type": "code",
   "execution_count": 28,
   "metadata": {
    "ExecuteTime": {
     "end_time": "2018-06-03T17:37:36.541733Z",
     "start_time": "2018-06-03T17:37:36.513809Z"
    }
   },
   "outputs": [
    {
     "data": {
      "text/plain": [
       "(1133, 60)"
      ]
     },
     "execution_count": 28,
     "metadata": {},
     "output_type": "execute_result"
    }
   ],
   "source": [
    "unpickle_data('./features/chroma/408991.p').shape"
   ]
  },
  {
   "cell_type": "code",
   "execution_count": 29,
   "metadata": {
    "ExecuteTime": {
     "end_time": "2018-06-03T17:37:52.820169Z",
     "start_time": "2018-06-03T17:37:52.779494Z"
    }
   },
   "outputs": [
    {
     "data": {
      "text/plain": [
       "(1845, 60)"
      ]
     },
     "execution_count": 29,
     "metadata": {},
     "output_type": "execute_result"
    }
   ],
   "source": [
    "unpickle_data('./features/chroma/408988.p').shape"
   ]
  },
  {
   "cell_type": "code",
   "execution_count": null,
   "metadata": {},
   "outputs": [],
   "source": []
  }
 ],
 "metadata": {
  "kernelspec": {
   "display_name": "ds",
   "language": "python",
   "name": "ds"
  },
  "language_info": {
   "codemirror_mode": {
    "name": "ipython",
    "version": 2
   },
   "file_extension": ".py",
   "mimetype": "text/x-python",
   "name": "python",
   "nbconvert_exporter": "python",
   "pygments_lexer": "ipython2",
   "version": "2.7.14"
  },
  "toc": {
   "base_numbering": 1,
   "nav_menu": {},
   "number_sections": true,
   "sideBar": true,
   "skip_h1_title": false,
   "title_cell": "Table of Contents",
   "title_sidebar": "Contents",
   "toc_cell": false,
   "toc_position": {},
   "toc_section_display": true,
   "toc_window_display": false
  },
  "varInspector": {
   "cols": {
    "lenName": 16,
    "lenType": 16,
    "lenVar": 40
   },
   "kernels_config": {
    "python": {
     "delete_cmd_postfix": "",
     "delete_cmd_prefix": "del ",
     "library": "var_list.py",
     "varRefreshCmd": "print(var_dic_list())"
    },
    "r": {
     "delete_cmd_postfix": ") ",
     "delete_cmd_prefix": "rm(",
     "library": "var_list.r",
     "varRefreshCmd": "cat(var_dic_list()) "
    }
   },
   "types_to_exclude": [
    "module",
    "function",
    "builtin_function_or_method",
    "instance",
    "_Feature"
   ],
   "window_display": false
  }
 },
 "nbformat": 4,
 "nbformat_minor": 2
}
