{
 "cells": [
  {
   "cell_type": "code",
   "execution_count": 1,
   "metadata": {
    "ExecuteTime": {
     "end_time": "2018-04-25T23:18:24.064000Z",
     "start_time": "2018-04-25T23:18:22.726000Z"
    }
   },
   "outputs": [],
   "source": [
    "import autograd.numpy as np\n",
    "from autograd.numpy.random import normal\n",
    "import pandas as pd\n",
    "import matplotlib.pyplot as plt\n",
    "from autograd import grad\n",
    "from scipy.stats import bernoulli\n",
    "from autograd.numpy import exp, log, sqrt\n",
    "\n",
    "np.random.seed(37)"
   ]
  },
  {
   "cell_type": "code",
   "execution_count": 13,
   "metadata": {
    "ExecuteTime": {
     "end_time": "2018-04-25T23:19:23.848000Z",
     "start_time": "2018-04-25T23:19:23.773000Z"
    }
   },
   "outputs": [
    {
     "data": {
      "text/plain": [
       "0.15811388300841897"
      ]
     },
     "execution_count": 13,
     "metadata": {},
     "output_type": "execute_result"
    }
   ],
   "source": [
    "def f(x):\n",
    "    return log(exp(sqrt(x)))\n",
    "g = grad(f)\n",
    "g(10.)"
   ]
  },
  {
   "cell_type": "code",
   "execution_count": 3,
   "metadata": {
    "ExecuteTime": {
     "end_time": "2018-04-25T23:18:24.347000Z",
     "start_time": "2018-04-25T23:18:24.293000Z"
    }
   },
   "outputs": [],
   "source": [
    "n = 1000\n",
    "X = np.vstack((\n",
    "        np.hstack((np.ones(n).reshape(n, 1), np.random.multivariate_normal([0, 0], [[1, .75],[.75, 1]], n))),\n",
    "        np.hstack((np.ones(n).reshape(n, 1), np.random.multivariate_normal([1, 4], [[1, .75],[.75, 1]], n)))\n",
    "    )).astype(np.float32)\n",
    "y = np.hstack((np.zeros(n), np.ones(n))).astype(np.float32)\n",
    "w = np.array([np.random.randn() for _ in range(X.shape[1])])"
   ]
  },
  {
   "cell_type": "code",
   "execution_count": 4,
   "metadata": {
    "ExecuteTime": {
     "end_time": "2018-04-25T23:18:26.490000Z",
     "start_time": "2018-04-25T23:18:26.443000Z"
    }
   },
   "outputs": [
    {
     "data": {
      "text/plain": [
       "array([ 0.        ,  0.        ,  0.        , ..., -0.43725146,\n",
       "        0.50606308,  0.08720334])"
      ]
     },
     "execution_count": 4,
     "metadata": {},
     "output_type": "execute_result"
    }
   ],
   "source": [
    "X.dot(w)*y"
   ]
  },
  {
   "cell_type": "code",
   "execution_count": 5,
   "metadata": {
    "ExecuteTime": {
     "end_time": "2018-04-25T23:18:28.278000Z",
     "start_time": "2018-04-25T23:18:28.211000Z"
    }
   },
   "outputs": [
    {
     "data": {
      "text/plain": [
       "-2.0686076832102254"
      ]
     },
     "execution_count": 5,
     "metadata": {},
     "output_type": "execute_result"
    }
   ],
   "source": [
    "sum(X.dot(w)*y - log(1. + exp(X.dot(w)))) / float(n)"
   ]
  },
  {
   "cell_type": "code",
   "execution_count": 6,
   "metadata": {
    "ExecuteTime": {
     "end_time": "2018-04-25T23:18:29.628000Z",
     "start_time": "2018-04-25T23:18:29.547000Z"
    }
   },
   "outputs": [
    {
     "data": {
      "text/plain": [
       "array([ 1.43415517,  1.38180315,  2.23350809, ...,  0.49823207,\n",
       "        0.97785532,  0.7376991 ])"
      ]
     },
     "execution_count": 6,
     "metadata": {},
     "output_type": "execute_result"
    }
   ],
   "source": [
    "log(1. + exp(X.dot(w)))"
   ]
  },
  {
   "cell_type": "code",
   "execution_count": 7,
   "metadata": {
    "ExecuteTime": {
     "end_time": "2018-04-25T23:18:32.485000Z",
     "start_time": "2018-04-25T23:18:32.453000Z"
    },
    "scrolled": true
   },
   "outputs": [],
   "source": [
    "# plt.figure(figsize=(10, 5))\n",
    "# plt.scatter(X[:, 1], X[:, 2], c=y, alpha=0.4)"
   ]
  },
  {
   "cell_type": "code",
   "execution_count": 38,
   "metadata": {
    "ExecuteTime": {
     "end_time": "2018-04-25T23:27:06.619000Z",
     "start_time": "2018-04-25T23:27:06.550000Z"
    }
   },
   "outputs": [],
   "source": [
    "def loss(w, X, y):\n",
    "    X_dot_w = np.dot(X, w)\n",
    "    t1 = X_dot_w * y\n",
    "    t2 = 1. + exp(X_dot_w)\n",
    "    t2 = log(t2)\n",
    "    \n",
    "    return np.sum(t1 - t2) / float(len(X))\n",
    "\n",
    "#the magic line that gives you the gradient of the loss function\n",
    "loss_grad = grad(loss) "
   ]
  },
  {
   "cell_type": "code",
   "execution_count": 39,
   "metadata": {
    "ExecuteTime": {
     "end_time": "2018-04-25T23:27:07.670000Z",
     "start_time": "2018-04-25T23:27:07.580000Z"
    }
   },
   "outputs": [
    {
     "data": {
      "text/plain": [
       "-1.0343038416051136"
      ]
     },
     "execution_count": 39,
     "metadata": {},
     "output_type": "execute_result"
    }
   ],
   "source": [
    "loss(w, X, y)"
   ]
  },
  {
   "cell_type": "code",
   "execution_count": 40,
   "metadata": {
    "ExecuteTime": {
     "end_time": "2018-04-25T23:27:09.062000Z",
     "start_time": "2018-04-25T23:27:08.993000Z"
    }
   },
   "outputs": [
    {
     "data": {
      "text/plain": [
       "array([-0.1396025 ,  0.35632208,  1.0291341 ])"
      ]
     },
     "execution_count": 40,
     "metadata": {},
     "output_type": "execute_result"
    }
   ],
   "source": [
    "loss_grad(w, X, y)"
   ]
  },
  {
   "cell_type": "code",
   "execution_count": 41,
   "metadata": {
    "ExecuteTime": {
     "end_time": "2018-04-25T23:27:33.454000Z",
     "start_time": "2018-04-25T23:27:32.038000Z"
    }
   },
   "outputs": [
    {
     "name": "stdout",
     "output_type": "stream",
     "text": [
      "intercept + weights: [ -1.11957303  -7.13506527 -21.77958787]\n"
     ]
    }
   ],
   "source": [
    "for i in range(1000):\n",
    "    w = w - loss_grad(w, X, y) * 0.01\n",
    "    \n",
    "print('intercept + weights: {}'.format(w))"
   ]
  },
  {
   "cell_type": "code",
   "execution_count": 45,
   "metadata": {
    "ExecuteTime": {
     "end_time": "2018-04-25T23:29:31.737000Z",
     "start_time": "2018-04-25T23:29:31.636000Z"
    }
   },
   "outputs": [
    {
     "data": {
      "text/plain": [
       "LogisticRegression(C=1.0, class_weight=None, dual=False, fit_intercept=True,\n",
       "          intercept_scaling=1, max_iter=100, multi_class='ovr', n_jobs=1,\n",
       "          penalty='l2', random_state=None, solver='liblinear', tol=0.0001,\n",
       "          verbose=0, warm_start=False)"
      ]
     },
     "execution_count": 45,
     "metadata": {},
     "output_type": "execute_result"
    }
   ],
   "source": [
    "from sklearn.linear_model import LogisticRegression\n",
    "\n",
    "lr = LogisticRegression()\n",
    "lr.fit(X[:, [1, 2]], y)"
   ]
  },
  {
   "cell_type": "code",
   "execution_count": 46,
   "metadata": {
    "ExecuteTime": {
     "end_time": "2018-04-25T23:29:32.870000Z",
     "start_time": "2018-04-25T23:29:32.826000Z"
    }
   },
   "outputs": [
    {
     "name": "stdout",
     "output_type": "stream",
     "text": [
      "[[-1.95468066  3.84431092]]\n"
     ]
    }
   ],
   "source": [
    "print(lr.coef_)"
   ]
  },
  {
   "cell_type": "code",
   "execution_count": 47,
   "metadata": {
    "ExecuteTime": {
     "end_time": "2018-04-25T23:29:35.704000Z",
     "start_time": "2018-04-25T23:29:35.647000Z"
    }
   },
   "outputs": [
    {
     "name": "stdout",
     "output_type": "stream",
     "text": [
      "[-6.38431868]\n"
     ]
    }
   ],
   "source": [
    "print(lr.intercept_)"
   ]
  },
  {
   "cell_type": "markdown",
   "metadata": {},
   "source": [
    "# References\n",
    "\n",
    "* http://scikit-learn.org/stable/modules/generated/sklearn.linear_model.LogisticRegression.html\n",
    "* https://en.wikipedia.org/wiki/Logit\n",
    "* http://people.seas.harvard.edu/~dduvenaud/papers/blackbox.pdf\n",
    "* keyonvafa.com/logistic-regression-bbvi/\n",
    "* https://beckernick.github.io/logistic-regression-from-scratch/"
   ]
  },
  {
   "cell_type": "code",
   "execution_count": null,
   "metadata": {},
   "outputs": [],
   "source": []
  }
 ],
 "metadata": {
  "kernelspec": {
   "display_name": "ds",
   "language": "python",
   "name": "ds"
  },
  "language_info": {
   "codemirror_mode": {
    "name": "ipython",
    "version": 2
   },
   "file_extension": ".py",
   "mimetype": "text/x-python",
   "name": "python",
   "nbconvert_exporter": "python",
   "pygments_lexer": "ipython2",
   "version": "2.7.14"
  },
  "toc": {
   "base_numbering": 1,
   "nav_menu": {},
   "number_sections": true,
   "sideBar": true,
   "skip_h1_title": false,
   "title_cell": "Table of Contents",
   "title_sidebar": "Contents",
   "toc_cell": false,
   "toc_position": {},
   "toc_section_display": true,
   "toc_window_display": false
  }
 },
 "nbformat": 4,
 "nbformat_minor": 2
}
