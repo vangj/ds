{
 "cells": [
  {
   "cell_type": "markdown",
   "metadata": {},
   "source": [
    "# Restricted Boltzman Machine (RBM), no tears"
   ]
  },
  {
   "cell_type": "code",
   "execution_count": 1,
   "metadata": {
    "ExecuteTime": {
     "end_time": "2018-05-24T10:47:23.699000Z",
     "start_time": "2018-05-24T10:47:23.669000Z"
    }
   },
   "outputs": [
    {
     "data": {
      "text/html": [
       "<svg height=\"300\" width=\"600\">\n",
       "    <!-- arcs from hidden unit 1 to visible units -->\n",
       "    <line x1=\"160\" y1=\"50\" x2=\"40\" y2=\"200\" style=\"stroke:rgb(0,0,0);stroke-width:1\" />\n",
       "    <line x1=\"160\" y1=\"50\" x2=\"120\" y2=\"200\" style=\"stroke:rgb(0,0,0);stroke-width:1\" />\n",
       "    <line x1=\"160\" y1=\"50\" x2=\"200\" y2=\"200\" style=\"stroke:rgb(0,0,0);stroke-width:1\" />\n",
       "    <line x1=\"160\" y1=\"50\" x2=\"280\" y2=\"200\" style=\"stroke:rgb(0,0,0);stroke-width:1\" />\n",
       "    <line x1=\"160\" y1=\"50\" x2=\"360\" y2=\"200\" style=\"stroke:rgb(0,0,0);stroke-width:1\" />\n",
       "    <line x1=\"160\" y1=\"50\" x2=\"440\" y2=\"200\" style=\"stroke:rgb(0,0,0);stroke-width:1\" />\n",
       "    \n",
       "    <!-- arcs from hidden unit 2 to visible units -->\n",
       "    <line x1=\"320\" y1=\"50\" x2=\"40\" y2=\"200\" style=\"stroke:rgb(180,180,180);stroke-width:1\" />\n",
       "    <line x1=\"320\" y1=\"50\" x2=\"120\" y2=\"200\" style=\"stroke:rgb(180,180,180);stroke-width:1\" />\n",
       "    <line x1=\"320\" y1=\"50\" x2=\"200\" y2=\"200\" style=\"stroke:rgb(180,180,180);stroke-width:1\" />\n",
       "    <line x1=\"320\" y1=\"50\" x2=\"280\" y2=\"200\" style=\"stroke:rgb(180,180,180);stroke-width:1\" />\n",
       "    <line x1=\"320\" y1=\"50\" x2=\"360\" y2=\"200\" style=\"stroke:rgb(180,180,180);stroke-width:1\" />\n",
       "    <line x1=\"320\" y1=\"50\" x2=\"440\" y2=\"200\" style=\"stroke:rgb(180,180,180);stroke-width:1\" />\n",
       "    \n",
       "    <line x1=\"540\" y1=\"120\" x2=\"160\" y2=\"50\" style=\"stroke:rgba(0,100,0, 0.5);stroke-width:0.5\" />\n",
       "    <line x1=\"540\" y1=\"120\" x2=\"320\" y2=\"50\" style=\"stroke:rgba(0,100,0, 0.5);stroke-width:0.5\" />\n",
       "    <line x1=\"540\" y1=\"120\" x2=\"40\" y2=\"200\" style=\"stroke:rgba(0,100,0, 0.5);stroke-width:0.5\" />\n",
       "    <line x1=\"540\" y1=\"120\" x2=\"120\" y2=\"200\" style=\"stroke:rgba(0,100,0, 0.5);stroke-width:0.5\" />\n",
       "    <line x1=\"540\" y1=\"120\" x2=\"200\" y2=\"200\" style=\"stroke:rgba(0,100,0, 0.5);stroke-width:0.5\" />\n",
       "    <line x1=\"540\" y1=\"120\" x2=\"280\" y2=\"200\" style=\"stroke:rgba(0,100,0, 0.5);stroke-width:0.5\" />\n",
       "    <line x1=\"540\" y1=\"120\" x2=\"360\" y2=\"200\" style=\"stroke:rgba(0,100,0, 0.5);stroke-width:0.5\" />\n",
       "    <line x1=\"540\" y1=\"120\" x2=\"440\" y2=\"200\" style=\"stroke:rgba(0,100,0, 0.5);stroke-width:0.5\" />\n",
       "    \n",
       "    <!-- hidden units -->\n",
       "    <circle cx=\"160\" cy=\"50\" r=\"20\" stroke=\"red\" stroke-width=\"2\" fill=\"white\" />\n",
       "    <circle cx=\"320\" cy=\"50\" r=\"20\" stroke=\"red\" stroke-width=\"2\" fill=\"white\" />\n",
       "    \n",
       "    <text x=\"154\" y=\"55\"><tspan>h<tspan dy=\"5\">1</tspan></tspan></text>\n",
       "    <text x=\"314\" y=\"55\"><tspan>h<tspan dy=\"5\">2</tspan></tspan></text>\n",
       "    \n",
       "    <!-- visible units-->\n",
       "    <circle cx=\"40\" cy=\"200\" r=\"20\" stroke=\"blue\" stroke-width=\"2\" fill=\"white\" />\n",
       "    <circle cx=\"120\" cy=\"200\" r=\"20\" stroke=\"blue\" stroke-width=\"2\" fill=\"white\" />\n",
       "    <circle cx=\"200\" cy=\"200\" r=\"20\" stroke=\"blue\" stroke-width=\"2\" fill=\"white\" />\n",
       "    <circle cx=\"280\" cy=\"200\" r=\"20\" stroke=\"blue\" stroke-width=\"2\" fill=\"white\" />\n",
       "    <circle cx=\"360\" cy=\"200\" r=\"20\" stroke=\"blue\" stroke-width=\"2\" fill=\"white\" />\n",
       "    <circle cx=\"440\" cy=\"200\" r=\"20\" stroke=\"blue\" stroke-width=\"2\" fill=\"white\" />\n",
       "    \n",
       "    <text x=\"34\" y=\"200\"><tspan>v<tspan dy=\"5\">1</tspan></tspan></text>\n",
       "    <text x=\"114\" y=\"200\"><tspan>v<tspan dy=\"5\">2</tspan></tspan></text>\n",
       "    <text x=\"194\" y=\"200\"><tspan>v<tspan dy=\"5\">3</tspan></tspan></text>\n",
       "    <text x=\"274\" y=\"200\"><tspan>v<tspan dy=\"5\">4</tspan></tspan></text>\n",
       "    <text x=\"354\" y=\"200\"><tspan>v<tspan dy=\"5\">5</tspan></tspan></text>\n",
       "    <text x=\"434\" y=\"200\"><tspan>v<tspan dy=\"5\">6</tspan></tspan></text>\n",
       "    \n",
       "    <!-- bias unit -->\n",
       "    <circle cx=\"540\" cy=\"120\" r=\"20\" stroke=\"black\" stroke-width=\"2\" fill=\"white\" />\n",
       "    <text x=\"535\" y=\"123\"><tspan>b</tspan></text>\n",
       "</svg> "
      ],
      "text/plain": [
       "<IPython.core.display.HTML object>"
      ]
     },
     "metadata": {},
     "output_type": "display_data"
    }
   ],
   "source": [
    "%%html\n",
    "<svg height=\"300\" width=\"600\">\n",
    "    <!-- arcs from hidden unit 1 to visible units -->\n",
    "    <line x1=\"160\" y1=\"50\" x2=\"40\" y2=\"200\" style=\"stroke:rgb(0,0,0);stroke-width:1\" />\n",
    "    <line x1=\"160\" y1=\"50\" x2=\"120\" y2=\"200\" style=\"stroke:rgb(0,0,0);stroke-width:1\" />\n",
    "    <line x1=\"160\" y1=\"50\" x2=\"200\" y2=\"200\" style=\"stroke:rgb(0,0,0);stroke-width:1\" />\n",
    "    <line x1=\"160\" y1=\"50\" x2=\"280\" y2=\"200\" style=\"stroke:rgb(0,0,0);stroke-width:1\" />\n",
    "    <line x1=\"160\" y1=\"50\" x2=\"360\" y2=\"200\" style=\"stroke:rgb(0,0,0);stroke-width:1\" />\n",
    "    <line x1=\"160\" y1=\"50\" x2=\"440\" y2=\"200\" style=\"stroke:rgb(0,0,0);stroke-width:1\" />\n",
    "    \n",
    "    <!-- arcs from hidden unit 2 to visible units -->\n",
    "    <line x1=\"320\" y1=\"50\" x2=\"40\" y2=\"200\" style=\"stroke:rgb(180,180,180);stroke-width:1\" />\n",
    "    <line x1=\"320\" y1=\"50\" x2=\"120\" y2=\"200\" style=\"stroke:rgb(180,180,180);stroke-width:1\" />\n",
    "    <line x1=\"320\" y1=\"50\" x2=\"200\" y2=\"200\" style=\"stroke:rgb(180,180,180);stroke-width:1\" />\n",
    "    <line x1=\"320\" y1=\"50\" x2=\"280\" y2=\"200\" style=\"stroke:rgb(180,180,180);stroke-width:1\" />\n",
    "    <line x1=\"320\" y1=\"50\" x2=\"360\" y2=\"200\" style=\"stroke:rgb(180,180,180);stroke-width:1\" />\n",
    "    <line x1=\"320\" y1=\"50\" x2=\"440\" y2=\"200\" style=\"stroke:rgb(180,180,180);stroke-width:1\" />\n",
    "    \n",
    "    <line x1=\"540\" y1=\"120\" x2=\"160\" y2=\"50\" style=\"stroke:rgba(0,100,0, 0.5);stroke-width:0.5\" />\n",
    "    <line x1=\"540\" y1=\"120\" x2=\"320\" y2=\"50\" style=\"stroke:rgba(0,100,0, 0.5);stroke-width:0.5\" />\n",
    "    <line x1=\"540\" y1=\"120\" x2=\"40\" y2=\"200\" style=\"stroke:rgba(0,100,0, 0.5);stroke-width:0.5\" />\n",
    "    <line x1=\"540\" y1=\"120\" x2=\"120\" y2=\"200\" style=\"stroke:rgba(0,100,0, 0.5);stroke-width:0.5\" />\n",
    "    <line x1=\"540\" y1=\"120\" x2=\"200\" y2=\"200\" style=\"stroke:rgba(0,100,0, 0.5);stroke-width:0.5\" />\n",
    "    <line x1=\"540\" y1=\"120\" x2=\"280\" y2=\"200\" style=\"stroke:rgba(0,100,0, 0.5);stroke-width:0.5\" />\n",
    "    <line x1=\"540\" y1=\"120\" x2=\"360\" y2=\"200\" style=\"stroke:rgba(0,100,0, 0.5);stroke-width:0.5\" />\n",
    "    <line x1=\"540\" y1=\"120\" x2=\"440\" y2=\"200\" style=\"stroke:rgba(0,100,0, 0.5);stroke-width:0.5\" />\n",
    "    \n",
    "    <!-- hidden units -->\n",
    "    <circle cx=\"160\" cy=\"50\" r=\"20\" stroke=\"red\" stroke-width=\"2\" fill=\"white\" />\n",
    "    <circle cx=\"320\" cy=\"50\" r=\"20\" stroke=\"red\" stroke-width=\"2\" fill=\"white\" />\n",
    "    \n",
    "    <text x=\"154\" y=\"55\"><tspan>h<tspan dy=\"5\">1</tspan></tspan></text>\n",
    "    <text x=\"314\" y=\"55\"><tspan>h<tspan dy=\"5\">2</tspan></tspan></text>\n",
    "    \n",
    "    <!-- visible units-->\n",
    "    <circle cx=\"40\" cy=\"200\" r=\"20\" stroke=\"blue\" stroke-width=\"2\" fill=\"white\" />\n",
    "    <circle cx=\"120\" cy=\"200\" r=\"20\" stroke=\"blue\" stroke-width=\"2\" fill=\"white\" />\n",
    "    <circle cx=\"200\" cy=\"200\" r=\"20\" stroke=\"blue\" stroke-width=\"2\" fill=\"white\" />\n",
    "    <circle cx=\"280\" cy=\"200\" r=\"20\" stroke=\"blue\" stroke-width=\"2\" fill=\"white\" />\n",
    "    <circle cx=\"360\" cy=\"200\" r=\"20\" stroke=\"blue\" stroke-width=\"2\" fill=\"white\" />\n",
    "    <circle cx=\"440\" cy=\"200\" r=\"20\" stroke=\"blue\" stroke-width=\"2\" fill=\"white\" />\n",
    "    \n",
    "    <text x=\"34\" y=\"200\"><tspan>v<tspan dy=\"5\">1</tspan></tspan></text>\n",
    "    <text x=\"114\" y=\"200\"><tspan>v<tspan dy=\"5\">2</tspan></tspan></text>\n",
    "    <text x=\"194\" y=\"200\"><tspan>v<tspan dy=\"5\">3</tspan></tspan></text>\n",
    "    <text x=\"274\" y=\"200\"><tspan>v<tspan dy=\"5\">4</tspan></tspan></text>\n",
    "    <text x=\"354\" y=\"200\"><tspan>v<tspan dy=\"5\">5</tspan></tspan></text>\n",
    "    <text x=\"434\" y=\"200\"><tspan>v<tspan dy=\"5\">6</tspan></tspan></text>\n",
    "    \n",
    "    <!-- bias unit -->\n",
    "    <circle cx=\"540\" cy=\"120\" r=\"20\" stroke=\"black\" stroke-width=\"2\" fill=\"white\" />\n",
    "    <text x=\"535\" y=\"123\"><tspan>b</tspan></text>\n",
    "</svg> "
   ]
  },
  {
   "cell_type": "code",
   "execution_count": 2,
   "metadata": {
    "ExecuteTime": {
     "end_time": "2018-05-24T10:47:25.348000Z",
     "start_time": "2018-05-24T10:47:23.707000Z"
    }
   },
   "outputs": [],
   "source": [
    "%matplotlib inline\n",
    "import numpy as np\n",
    "from scipy.special import expit\n",
    "import matplotlib.pyplot as plt\n",
    "from tqdm import tqdm\n",
    "import pandas as pd\n",
    "\n",
    "np.random.seed(37)    "
   ]
  },
  {
   "cell_type": "code",
   "execution_count": 3,
   "metadata": {
    "ExecuteTime": {
     "end_time": "2018-05-24T10:47:25.633000Z",
     "start_time": "2018-05-24T10:47:25.355000Z"
    }
   },
   "outputs": [],
   "source": [
    "def get_weight_matrix(n_visible, n_hidden, mean=0.0, stdev=0.1):\n",
    "    \"\"\"\n",
    "    Initializes a weight matrix specifying the links between the visible and hidden layers.\n",
    "    Note that the weight will not be of dimension n_visible x n_hidden, but instead,\n",
    "    n_visible + 1 x n_hidden + 1. The extra dimension is to account for the bias.\n",
    "    \n",
    "    :param n_visible: Number of visible nodes.\n",
    "    :param n_hidden: Number of hidden nodes.\n",
    "    :param mean: Mean of sampling distribution. Default value is 0.0.\n",
    "    :param stdev: Standard deviation of sampling distribution. Default value is 0.1.\n",
    "    :return: Weight matrix.\n",
    "    \"\"\"\n",
    "    w = np.random.normal(loc=mean, scale=stdev, size=n_visible * n_hidden).reshape(n_visible, n_hidden)\n",
    "    c = np.zeros((n_visible, 1))\n",
    "    r = np.zeros((1, n_hidden + 1))\n",
    "    m = np.hstack([c, w])\n",
    "    m = np.vstack([r, m])\n",
    "    return m\n",
    "\n",
    "def get_data_matrix(data):\n",
    "    \"\"\"\n",
    "    Converts data to a matrix with one with one extra column. The extra column is to \n",
    "    account for the bias.\n",
    "    \n",
    "    :param data: A matrix of data.\n",
    "    :return: Modified data matrix.\n",
    "    \"\"\"\n",
    "    c = np.ones((data.shape[0], 1))\n",
    "    m = np.hstack([c, data])\n",
    "    return m\n",
    "\n",
    "def positive_contrastive_divergence(X, W):\n",
    "    \"\"\"\n",
    "    Executes positive contrastive divergence (+CD) phase. \n",
    "    \n",
    "    :param X: Input data to visible layer.\n",
    "    :param W: Weights between connections of visible and hidden layers.\n",
    "    :return: A tuple of 1) positive hidden states and 2) positive associations.\n",
    "    \"\"\"\n",
    "    ph_activations = X.dot(W)\n",
    "    ph_probs = expit(ph_activations)\n",
    "    ph_probs[:, 0] = 1.0\n",
    "    ph_states = ph_probs > np.random.rand(ph_probs.shape[1])\n",
    "    p_associations = X.T.dot(ph_probs)\n",
    "    return ph_states, p_associations\n",
    "\n",
    "def negative_contrastive_divergence(ph_states, W):\n",
    "    \"\"\"\n",
    "    Executes negative contrastive divergence (-CD) phase.\n",
    "    \n",
    "    :param ph_states: Positive hidden states.\n",
    "    :param W: Weights between connections of visible and hidden layers.\n",
    "    :return: A tuple of 1) negative visible probabilities and 2) negative associations\n",
    "    \"\"\"\n",
    "    nv_activations = ph_states.dot(W.T)\n",
    "    nv_probs = expit(nv_activations)\n",
    "    nv_probs[:, 0] = 1.0\n",
    "    nh_activations = nv_probs.dot(W)\n",
    "    nh_probs = expit(nh_activations)\n",
    "    n_associations = nv_probs.T.dot(nh_probs)\n",
    "    return nv_probs, n_associations\n",
    "\n",
    "def update_weights(n, p_associations, n_associations, W, lr=0.1):\n",
    "    \"\"\"\n",
    "    Updates the weights after positive and negative associations have been learned.\n",
    "    \n",
    "    :param n: The total number of samples.\n",
    "    :param p_associations: Positive associations.\n",
    "    :param n_associations: Negative associations.\n",
    "    :param W: Weights between connections of visible and hidden layers.\n",
    "    :param lr: Learning rate. Default value is 0.1.\n",
    "    :return: The adjusted weights.\n",
    "    \"\"\"\n",
    "    M = W + lr * ((p_associations - n_associations) / float(n))\n",
    "    return M\n",
    "\n",
    "def query_hidden(v, n_hidden, W):\n",
    "    \"\"\"\n",
    "    Queries the hidden layer states given the states of the visible layer.\n",
    "    \n",
    "    :param v: The input values to the visible layer.\n",
    "    :param n_hidden: The number of hidden nodes.\n",
    "    :param W: Weights between connections of visible and hidden layers.\n",
    "    :return: The hidden states.\n",
    "    \"\"\"\n",
    "    n = v.shape[0]\n",
    "    h_states = np.ones((n, n_hidden + 1))\n",
    "    d = np.hstack([np.ones((n, 1)), v])\n",
    "    h_activations = d.dot(W)\n",
    "    h_probs = expit(h_activations)\n",
    "    h_states[:,:] = h_probs > np.random.rand(n, n_hidden + 1)\n",
    "    return h_states[:,1:]\n",
    "\n",
    "def query_visible(h, n_visible, W):\n",
    "    \"\"\"\n",
    "    Queries the visible layer states given the states of the hidden layer.\n",
    "    \n",
    "    :param h: The input values to the hidden layer.\n",
    "    :param n_visible: The number of visible nodes.\n",
    "    :param W: Weights between connections of visible and hidden layers.\n",
    "    :return: The visible states.\n",
    "    \"\"\"\n",
    "    n = h.shape[0]\n",
    "    v_states = np.ones((n, n_visible + 1))\n",
    "    d = np.hstack([np.ones((n, 1)), h])\n",
    "    v_activations = d.dot(W.T)\n",
    "    v_probs = expit(v_activations)\n",
    "    v_states[:,:] = v_probs > np.random.rand(n, n_visible + 1)\n",
    "    return v_states[:,1:]\n",
    "\n",
    "def daydream(n_samples, n_visible, n_hidden, W):\n",
    "    \"\"\"\n",
    "    Performs daydreaming or dreaming to generate samples.\n",
    "    \n",
    "    :param n_samples: The number of sampling to perform.\n",
    "    :param n_visible: The number of visible nodes.\n",
    "    :param n_hidden: The number of hidden nodes.\n",
    "    :param W: Weights between connections of visible and hidden layers.\n",
    "    :return: A single sample.\n",
    "    \"\"\"\n",
    "    samples = np.ones((n_samples, n_visible + 1))\n",
    "    samples[0,1:] = np.random.rand(n_visible)\n",
    "    \n",
    "    for i in range(1, n_samples):\n",
    "        visible = samples[i-1,:]\n",
    "        h_activations = visible.dot(W)\n",
    "        h_probs = expit(h_activations)\n",
    "        h_states = h_probs > np.random.rand(n_hidden + 1)\n",
    "        h_states[0] = 1\n",
    "        \n",
    "        v_activations = h_states.dot(W.T)\n",
    "        v_probs = expit(v_activations)\n",
    "        v_states = v_probs > np.random.rand(n_visible + 1)\n",
    "        \n",
    "        samples[i, :] = v_states\n",
    "    \n",
    "    return samples[-1, :]\n",
    "\n",
    "def train(X, W, max_iters=100, batch_size=1, shuffle=True):\n",
    "    \"\"\"\n",
    "    Trains the RBM model.\n",
    "    \n",
    "    :param X: The data matrix.\n",
    "    :param W: Weights between connections of visible and hidden layers.\n",
    "    :param max_iters: The maximum number of iterations. Default value is 100.\n",
    "    :param batch_size: The batch size.\n",
    "    :param shuffle: A boolean indicating if the data should be shuffled before each training epoch.\n",
    "    :return: Returns a tuple of 1) the learned weight matrix and 2) the losses (errors) during training iterations.\n",
    "    \"\"\"\n",
    "    b_size = batch_size\n",
    "    if b_size < 1:\n",
    "        b_size = 1\n",
    "    if b_size > X.shape[0]:\n",
    "        b_size = X.shape\n",
    "    \n",
    "    loss_trace = []\n",
    "    for epoch in tqdm(range(max_iters)):\n",
    "        S = np.copy(X)\n",
    "        if shuffle is True:\n",
    "            np.random.shuffle(S)\n",
    "        start = 0\n",
    "        while True:\n",
    "            stop = start + b_size\n",
    "            X_batch = S[start:stop, :]\n",
    "            ph_states, p_associations = positive_contrastive_divergence(X_batch, W)\n",
    "            nv_probs, n_associations = negative_contrastive_divergence(ph_states, W)\n",
    "            W = update_weights(X.shape[0], p_associations, n_associations, W)\n",
    "\n",
    "            error = np.sum((X_batch - nv_probs) ** 2) / float(b_size)\n",
    "            t = (epoch, error)\n",
    "            loss_trace.append(t)\n",
    "            \n",
    "            start = start + b_size\n",
    "            if start >= X.shape[0]:\n",
    "                break\n",
    "                \n",
    "    loss_df = pd.DataFrame(data=loss_trace, columns=['epoch', 'loss'])\n",
    "    return W, loss_df\n",
    "\n",
    "def plot_loss(loss, note=''):\n",
    "    \"\"\"\n",
    "    Plots the loss over training iterations.\n",
    "    \n",
    "    :param loss: A dataframe of loss. Should have 2 columns: epoch and loss.\n",
    "    :param note: A note to add to the title.\n",
    "    :return: None\n",
    "    \"\"\"\n",
    "    fig, ax = plt.subplots(figsize=(10, 5))\n",
    "    plt.plot(loss['epoch'], loss['loss'])\n",
    "    ax.set_title('Loss over time, {}'.format(note))\n",
    "    ax.set_xlabel(r'epoch')\n",
    "    ax.set_ylabel(r'loss')"
   ]
  },
  {
   "cell_type": "markdown",
   "metadata": {},
   "source": [
    "# Fake movies"
   ]
  },
  {
   "cell_type": "code",
   "execution_count": 4,
   "metadata": {
    "ExecuteTime": {
     "end_time": "2018-05-24T10:47:25.757000Z",
     "start_time": "2018-05-24T10:47:25.638000Z"
    }
   },
   "outputs": [
    {
     "name": "stdout",
     "output_type": "stream",
     "text": [
      "(6L, 7L) X shape\n",
      "(7L, 3L) W shape\n",
      "6 n_visible\n",
      "2 n_hidden\n"
     ]
    }
   ],
   "source": [
    "X = get_data_matrix(np.array([\n",
    "    [1, 1, 1, 0, 0, 0],\n",
    "    [1, 0, 1, 0, 0, 0],\n",
    "    [1, 1, 1, 0, 0, 0],\n",
    "    [0, 0, 1, 1, 1, 0],\n",
    "    [0, 0, 1, 1, 0, 0],\n",
    "    [0, 0, 1, 1, 1, 0]]))\n",
    "\n",
    "n_visible = 6\n",
    "n_hidden = 2\n",
    "W = get_weight_matrix(n_visible, n_hidden)\n",
    "\n",
    "print('{} X shape'.format(X.shape))\n",
    "print('{} W shape'.format(W.shape))\n",
    "print('{} n_visible'.format(n_visible))\n",
    "print('{} n_hidden'.format(n_hidden))"
   ]
  },
  {
   "cell_type": "code",
   "execution_count": 5,
   "metadata": {
    "ExecuteTime": {
     "end_time": "2018-05-24T10:47:26.166000Z",
     "start_time": "2018-05-24T10:47:25.761000Z"
    }
   },
   "outputs": [
    {
     "name": "stderr",
     "output_type": "stream",
     "text": [
      "100%|██████████████████████████████████████████████████████████████████████████████| 100/100 [00:00<00:00, 2857.16it/s]\n"
     ]
    },
    {
     "data": {
      "image/png": "[encoded data removed]",
      "text/plain": [
       "<Figure size 720x360 with 1 Axes>"
      ]
     },
     "metadata": {},
     "output_type": "display_data"
    }
   ],
   "source": [
    "W, loss = train(X, W, batch_size=X.shape[0], shuffle=False)\n",
    "plot_loss(loss, 'Batch Learning')"
   ]
  },
  {
   "cell_type": "code",
   "execution_count": 6,
   "metadata": {
    "ExecuteTime": {
     "end_time": "2018-05-24T10:47:26.539000Z",
     "start_time": "2018-05-24T10:47:26.171000Z"
    }
   },
   "outputs": [
    {
     "name": "stderr",
     "output_type": "stream",
     "text": [
      "100%|██████████████████████████████████████████████████████████████████████████████| 100/100 [00:00<00:00, 1492.54it/s]\n"
     ]
    },
    {
     "data": {
      "image/png": "[encoded data removed]",
      "text/plain": [
       "<Figure size 720x360 with 1 Axes>"
      ]
     },
     "metadata": {},
     "output_type": "display_data"
    }
   ],
   "source": [
    "W, loss = train(X, W, batch_size=1, shuffle=True)\n",
    "plot_loss(loss, 'Stochastic Learning')"
   ]
  },
  {
   "cell_type": "code",
   "execution_count": 7,
   "metadata": {
    "ExecuteTime": {
     "end_time": "2018-05-24T10:47:26.852000Z",
     "start_time": "2018-05-24T10:47:26.543000Z"
    }
   },
   "outputs": [
    {
     "name": "stderr",
     "output_type": "stream",
     "text": [
      "100%|██████████████████████████████████████████████████████████████████████████████| 100/100 [00:00<00:00, 3124.99it/s]\n"
     ]
    },
    {
     "data": {
      "image/png": "[encoded data removed]",
      "text/plain": [
       "<Figure size 720x360 with 1 Axes>"
      ]
     },
     "metadata": {},
     "output_type": "display_data"
    }
   ],
   "source": [
    "W, loss = train(X, W, batch_size=2, shuffle=True)\n",
    "plot_loss(loss, 'Mini-batch Learning')"
   ]
  },
  {
   "cell_type": "code",
   "execution_count": 8,
   "metadata": {
    "ExecuteTime": {
     "end_time": "2018-05-24T10:47:26.871000Z",
     "start_time": "2018-05-24T10:47:26.857000Z"
    }
   },
   "outputs": [
    {
     "data": {
      "text/plain": [
       "array([[1., 0.]])"
      ]
     },
     "execution_count": 8,
     "metadata": {},
     "output_type": "execute_result"
    }
   ],
   "source": [
    "query_hidden(np.array([[0, 0, 0, 1, 1, 0]]), n_hidden, W)"
   ]
  },
  {
   "cell_type": "code",
   "execution_count": 9,
   "metadata": {
    "ExecuteTime": {
     "end_time": "2018-05-24T10:47:26.958000Z",
     "start_time": "2018-05-24T10:47:26.877000Z"
    }
   },
   "outputs": [
    {
     "data": {
      "text/plain": [
       "array([[0., 1.]])"
      ]
     },
     "execution_count": 9,
     "metadata": {},
     "output_type": "execute_result"
    }
   ],
   "source": [
    "query_hidden(np.array([[1, 1, 0, 0, 0, 0]]), n_hidden, W)"
   ]
  },
  {
   "cell_type": "code",
   "execution_count": 10,
   "metadata": {
    "ExecuteTime": {
     "end_time": "2018-05-24T10:47:26.991000Z",
     "start_time": "2018-05-24T10:47:26.972000Z"
    }
   },
   "outputs": [
    {
     "data": {
      "text/plain": [
       "array([[0., 0., 1., 0., 1., 0.]])"
      ]
     },
     "execution_count": 10,
     "metadata": {},
     "output_type": "execute_result"
    }
   ],
   "source": [
    "query_visible(np.array([[1, 0]]), n_visible, W)"
   ]
  },
  {
   "cell_type": "code",
   "execution_count": 11,
   "metadata": {
    "ExecuteTime": {
     "end_time": "2018-05-24T10:47:27.024000Z",
     "start_time": "2018-05-24T10:47:27Z"
    }
   },
   "outputs": [
    {
     "data": {
      "text/plain": [
       "array([[1., 0., 1., 0., 1., 0.]])"
      ]
     },
     "execution_count": 11,
     "metadata": {},
     "output_type": "execute_result"
    }
   ],
   "source": [
    "query_visible(np.array([[0, 1]]), n_visible, W)"
   ]
  },
  {
   "cell_type": "code",
   "execution_count": 12,
   "metadata": {
    "ExecuteTime": {
     "end_time": "2018-05-24T10:47:27.262000Z",
     "start_time": "2018-05-24T10:47:27.045000Z"
    }
   },
   "outputs": [
    {
     "name": "stdout",
     "output_type": "stream",
     "text": [
      "[1. 1. 0. 1. 0. 0. 0.]\n",
      "[1. 1. 1. 1. 0. 0. 0.]\n",
      "[0. 0. 0. 1. 1. 1. 0.]\n",
      "[0. 0. 1. 1. 0. 0. 0.]\n",
      "[1. 1. 0. 1. 1. 0. 0.]\n",
      "[1. 1. 0. 1. 0. 0. 0.]\n",
      "[1. 0. 0. 1. 0. 0. 0.]\n",
      "[1. 1. 0. 1. 0. 0. 0.]\n",
      "[1. 0. 1. 1. 1. 1. 0.]\n",
      "[1. 0. 0. 1. 1. 0. 0.]\n"
     ]
    }
   ],
   "source": [
    "for i in range(10):\n",
    "    print(daydream(500, n_visible, n_hidden, W))"
   ]
  },
  {
   "cell_type": "markdown",
   "metadata": {},
   "source": [
    "# Popular English, Chinese, and Indian Names"
   ]
  },
  {
   "cell_type": "code",
   "execution_count": 13,
   "metadata": {
    "ExecuteTime": {
     "end_time": "2018-05-24T10:47:27.501000Z",
     "start_time": "2018-05-24T10:47:27.271000Z"
    }
   },
   "outputs": [],
   "source": [
    "import itertools\n",
    "\n",
    "def get_max_length(names):\n",
    "    \"\"\"\n",
    "    Utility method to get the maximum length of all the names.\n",
    "    \n",
    "    :param names: A dictionary of names. Keys are types and values are arrays of names.\n",
    "    :return: The maximum length of a name.\n",
    "    \"\"\"\n",
    "    max_length = 0\n",
    "    for k, v in names.iteritems():\n",
    "        length = max([len(name) for name in v])\n",
    "        if length > max_length:\n",
    "            max_length = length\n",
    "    return max_length\n",
    "\n",
    "def get_encoding():\n",
    "    \"\"\"\n",
    "    Gets the encoding from letter to indices. Note that space is replaced by the hash symbol/character.\n",
    "    \n",
    "    :return: A dictionary where keys are letters and values are indices.\n",
    "    \"\"\"\n",
    "    letters = 'abcdefghijklmnopqrstuvwxyz#'\n",
    "    d = {}\n",
    "    for i in range(len(letters)):\n",
    "        d[letters[i]] = i\n",
    "    return d\n",
    "\n",
    "def get_reverse_encoding():\n",
    "    \"\"\"\n",
    "    Gets the encoding from indices to letters. \n",
    "    \n",
    "    :return: A dictionary where keys are indices and values are letters.\n",
    "    \"\"\"\n",
    "    letters = 'abcdefghijklmnopqrstuvwxyz#'\n",
    "    d = {}\n",
    "    for i in range(len(letters)):\n",
    "        d[i] = letters[i]\n",
    "    return d\n",
    "\n",
    "def encode_letter(letter, encoding=get_encoding()):\n",
    "    \"\"\"\n",
    "    One-hot encodes a letter to a vector. The vector is all zero except one in the index\n",
    "    corresponding to the letter.\n",
    "    \n",
    "    :param letter: Letter.\n",
    "    :param encoding: The letter-index encoding.\n",
    "    :return: One-hot encoded vector representing a letter.\n",
    "    \"\"\"\n",
    "    n = len(encoding)\n",
    "    ohe = np.zeros(n)\n",
    "    idx = encoding[letter]\n",
    "    ohe[idx] = 1\n",
    "    return ohe\n",
    "\n",
    "def encode_name(name, max_letters, encoding=get_encoding()):\n",
    "    \"\"\"\n",
    "    One-hot encodes a name into a matrix (or tensor). Note that no matter the name,\n",
    "    the dimension will always be max_letters x 27. The max_letters is the maximum\n",
    "    letters (length) that can be in a name. The 27 is due to 26 alphabets plus 1 for\n",
    "    padding. \n",
    "    \n",
    "    :param name: A name.\n",
    "    :param max_letters: Maximum letters.\n",
    "    :param encoding: The letter-index encoding.\n",
    "    :return: A tensor representing a one-hot encoding of a name.\n",
    "    \"\"\"\n",
    "    name_length = len(name)\n",
    "    name_ohe = [encode_letter(name[i], encoding) for i in range(name_length)]\n",
    "    padd_ohe = [encode_letter('#', encoding) for _ in range(name_length, max_letters)]\n",
    "    \n",
    "    ohe = []\n",
    "    ohe.extend(name_ohe)\n",
    "    ohe.extend(padd_ohe)\n",
    "    ohe = np.hstack(ohe)\n",
    "    \n",
    "    return ohe\n",
    "\n",
    "def encode_names(names, max_letters, encoding=get_encoding()):\n",
    "    \"\"\"\n",
    "    Encodes all names. The names parameter is a dictionary where keys are\n",
    "    types (e.g. English, Chinese, Indian) and values are list of names.\n",
    "    \n",
    "    :param names: A dictionary of types with names.\n",
    "    :param max_letters: The maximum letters in a name.\n",
    "    :param encoding: The letter-index encoding.\n",
    "    :return: A list of tensors, where each tensor represents one-hot encoding of names.\n",
    "    \"\"\"\n",
    "    data = []\n",
    "    for k, names in names.iteritems():\n",
    "        for name in names:\n",
    "            ohe = encode_name(name, max_letters, encoding)\n",
    "            data.append(ohe)\n",
    "    return np.array(data)\n",
    "\n",
    "def flatten_names(names):\n",
    "    \"\"\"\n",
    "    Flatten out the names. The names parameter is a dictionary where keys are\n",
    "    types (e.g. English, Chinese, Indian) and values are list of names.\n",
    "    \n",
    "    :param names: A dictionary of types with names.\n",
    "    :return: A list of names.\n",
    "    \"\"\"\n",
    "    data = []\n",
    "    for k, names in names.iteritems():\n",
    "        data.extend(names)\n",
    "    return data\n",
    "\n",
    "def decode_ohe(v, max_letters, encoding=get_reverse_encoding()):\n",
    "    \"\"\"\n",
    "    Decodes one-hot encoded vector.\n",
    "    \n",
    "    :param v: One-hot encoded vector.\n",
    "    :param max_letters: The maximum letters in a name.\n",
    "    :param encoding: The index-letter encoding.\n",
    "    :return: A list of letter sets. e.g. ['ab', 'c', 'defg']\n",
    "    \"\"\"\n",
    "    def encode(row, vector, encoding):\n",
    "        codes = [encoding[i] for i, c in enumerate(vector[row, :]) if c > 0 and i < 26]\n",
    "        out = ''.join(codes).strip()\n",
    "        if len(out) == 0:\n",
    "            return None\n",
    "        else:\n",
    "            return out\n",
    "    \n",
    "    vector = v[0,:]\n",
    "    cols = v.shape[1] / max_letters\n",
    "    rows = max_letters\n",
    "    vector = vector.reshape(rows, cols)\n",
    "    d = []\n",
    "    for i, row in enumerate(range(rows)):\n",
    "        v_activations = encode(row, vector, encoding)\n",
    "        if v_activations is not None and len(v_activations) > 0:\n",
    "            d.append(v_activations)\n",
    "    return d\n",
    "\n",
    "def get_permutation(decoding):\n",
    "    \"\"\"\n",
    "    Gets all permutations of a list of letter sets. For example, if the\n",
    "    decoding is ['c', 'a', 'trp'] then the result will be ['cat', 'car' 'cap'].\n",
    "    \n",
    "    :param decoding: A list of letter sets. e.g. ['c', 'a', 'trp'].\n",
    "    :return: All permutations between the letter sets.\n",
    "    \"\"\"\n",
    "    return [''.join(t) for t in list(itertools.product(*decoding))]\n",
    "    \n",
    "names = {\n",
    "    'english': [\n",
    "        'jack', 'thomas', 'joshua', 'william', 'daniel',\n",
    "        'matthew', 'james', 'joseph', 'harry', 'samuel'\n",
    "    ],\n",
    "    'chinese': [\n",
    "        'wei', 'qiang', 'lei', 'jun', 'yong',\n",
    "        'jie', 'jin', 'taio', 'de', 'tao'\n",
    "    ],\n",
    "    'indian': [\n",
    "        'mohammed', 'reyansh', 'aarav', 'atharv', 'vivaan',\n",
    "        'advik', 'ansh', 'ishann', 'dhruv', 'siddharth'\n",
    "    ]\n",
    "}\n",
    "\n",
    "max_letters = get_max_length(names)\n",
    "encoding = get_encoding()\n",
    "rencoding = get_reverse_encoding()\n",
    "raw = encode_names(names, max_letters, encoding)"
   ]
  },
  {
   "cell_type": "code",
   "execution_count": 14,
   "metadata": {
    "ExecuteTime": {
     "end_time": "2018-05-24T10:47:27.537000Z",
     "start_time": "2018-05-24T10:47:27.505000Z"
    }
   },
   "outputs": [
    {
     "name": "stdout",
     "output_type": "stream",
     "text": [
      "(30L, 244L) X shape\n",
      "(244L, 4L) W shape\n",
      "243 n_visible\n",
      "3 n_hidden\n"
     ]
    }
   ],
   "source": [
    "X = get_data_matrix(raw)\n",
    "\n",
    "n_visible = raw.shape[1]\n",
    "n_hidden = 3\n",
    "W = get_weight_matrix(n_visible, n_hidden)\n",
    "\n",
    "print('{} X shape'.format(X.shape))\n",
    "print('{} W shape'.format(W.shape))\n",
    "print('{} n_visible'.format(n_visible))\n",
    "print('{} n_hidden'.format(n_hidden))"
   ]
  },
  {
   "cell_type": "code",
   "execution_count": 15,
   "metadata": {
    "ExecuteTime": {
     "end_time": "2018-05-24T10:47:27.840000Z",
     "start_time": "2018-05-24T10:47:27.543000Z"
    }
   },
   "outputs": [
    {
     "name": "stderr",
     "output_type": "stream",
     "text": [
      "100%|██████████████████████████████████████████████████████████████████████████████| 100/100 [00:00<00:00, 1515.15it/s]\n"
     ]
    },
    {
     "data": {
      "image/png": "[encoded data removed]",
      "text/plain": [
       "<Figure size 720x360 with 1 Axes>"
      ]
     },
     "metadata": {},
     "output_type": "display_data"
    }
   ],
   "source": [
    "W, loss = train(X, W, batch_size=X.shape[0], shuffle=False)\n",
    "plot_loss(loss, 'Batch Learning')"
   ]
  },
  {
   "cell_type": "code",
   "execution_count": 16,
   "metadata": {
    "ExecuteTime": {
     "end_time": "2018-05-24T10:47:39.125000Z",
     "start_time": "2018-05-24T10:47:27.844000Z"
    }
   },
   "outputs": [
    {
     "name": "stderr",
     "output_type": "stream",
     "text": [
      "100%|█████████████████████████████████████████████████████████████████████████████| 5000/5000 [00:10<00:00, 470.63it/s]\n"
     ]
    },
    {
     "data": {
      "image/png": "[encoded data removed]",
      "text/plain": [
       "<Figure size 720x360 with 1 Axes>"
      ]
     },
     "metadata": {},
     "output_type": "display_data"
    }
   ],
   "source": [
    "W, loss = train(X, W, max_iters=5000, batch_size=1, shuffle=True)\n",
    "plot_loss(loss, 'Stochastic Learning')"
   ]
  },
  {
   "cell_type": "code",
   "execution_count": 17,
   "metadata": {
    "ExecuteTime": {
     "end_time": "2018-05-24T10:47:47.908000Z",
     "start_time": "2018-05-24T10:47:39.131000Z"
    }
   },
   "outputs": [
    {
     "name": "stderr",
     "output_type": "stream",
     "text": [
      "100%|█████████████████████████████████████████████████████████████████████████████| 5000/5000 [00:07<00:00, 665.34it/s]\n"
     ]
    },
    {
     "data": {
      "image/png": "[encoded data removed]",
      "text/plain": [
       "<Figure size 720x360 with 1 Axes>"
      ]
     },
     "metadata": {},
     "output_type": "display_data"
    }
   ],
   "source": [
    "W, loss = train(X, W, max_iters=5000, batch_size=2, shuffle=True)\n",
    "plot_loss(loss, 'Mini-batch Learning')"
   ]
  },
  {
   "cell_type": "code",
   "execution_count": 18,
   "metadata": {
    "ExecuteTime": {
     "end_time": "2018-05-24T10:47:48.118000Z",
     "start_time": "2018-05-24T10:47:47.913000Z"
    }
   },
   "outputs": [
    {
     "name": "stdout",
     "output_type": "stream",
     "text": [
      "0: [[1. 0. 1.]] mohammed\n",
      "1: [[1. 1. 1.]] reyansh\n",
      "2: [[1. 1. 1.]] aarav\n",
      "3: [[1. 1. 1.]] atharv\n",
      "4: [[1. 1. 1.]] vivaan\n",
      "5: [[1. 1. 1.]] advik\n",
      "6: [[1. 1. 1.]] ansh\n",
      "7: [[1. 1. 1.]] ishann\n",
      "8: [[1. 1. 1.]] dhruv\n",
      "9: [[0. 0. 0.]] siddharth\n",
      "10: [[1. 1. 0.]] wei\n",
      "11: [[1. 1. 1.]] qiang\n",
      "12: [[1. 1. 0.]] lei\n",
      "13: [[1. 1. 0.]] jun\n",
      "14: [[1. 1. 0.]] yong\n",
      "15: [[1. 1. 0.]] jie\n",
      "16: [[1. 1. 0.]] jin\n",
      "17: [[1. 1. 0.]] taio\n",
      "18: [[1. 1. 0.]] de\n",
      "19: [[1. 1. 0.]] tao\n",
      "20: [[1. 1. 0.]] jack\n",
      "21: [[1. 1. 1.]] thomas\n",
      "22: [[1. 1. 1.]] joshua\n",
      "23: [[0. 1. 1.]] william\n",
      "24: [[1. 1. 1.]] daniel\n",
      "25: [[1. 0. 1.]] matthew\n",
      "26: [[1. 1. 1.]] james\n",
      "27: [[1. 1. 1.]] joseph\n",
      "28: [[1. 1. 1.]] harry\n",
      "29: [[1. 1. 1.]] samuel\n"
     ]
    }
   ],
   "source": [
    "flattened_names = flatten_names(names)\n",
    "\n",
    "for r in range(len(raw)):\n",
    "    h = query_hidden(raw[r,:].reshape(1, n_visible), n_hidden, W)\n",
    "    n = flattened_names[r]\n",
    "    print('{}: {} {}'.format(r, h, n))"
   ]
  },
  {
   "cell_type": "code",
   "execution_count": 19,
   "metadata": {
    "ExecuteTime": {
     "end_time": "2018-05-24T10:47:48.142000Z",
     "start_time": "2018-05-24T10:47:48.126000Z"
    }
   },
   "outputs": [
    {
     "data": {
      "text/plain": [
       "'wileiam, wiluiam'"
      ]
     },
     "execution_count": 19,
     "metadata": {},
     "output_type": "execute_result"
    }
   ],
   "source": [
    "', '.join(get_permutation(\n",
    "    decode_ohe(\n",
    "        query_visible(np.array([[0, 1, 1]]), n_visible, W), max_letters, rencoding)))"
   ]
  },
  {
   "cell_type": "code",
   "execution_count": 20,
   "metadata": {
    "ExecuteTime": {
     "end_time": "2018-05-24T10:47:48.167000Z",
     "start_time": "2018-05-24T10:47:48.151000Z"
    }
   },
   "outputs": [
    {
     "data": {
      "text/plain": [
       "'un'"
      ]
     },
     "execution_count": 20,
     "metadata": {},
     "output_type": "execute_result"
    }
   ],
   "source": [
    "', '.join(get_permutation(\n",
    "    decode_ohe(\n",
    "        query_visible(np.array([[1, 1, 0]]), n_visible, W), max_letters, rencoding)))"
   ]
  },
  {
   "cell_type": "code",
   "execution_count": 21,
   "metadata": {
    "ExecuteTime": {
     "end_time": "2018-05-24T10:47:48.248000Z",
     "start_time": "2018-05-24T10:47:48.175000Z"
    }
   },
   "outputs": [
    {
     "data": {
      "text/plain": [
       "'lahhvh, lahnvh, lanhvh, lannvh, lhhhvh, lhhnvh, lhnhvh, lhnnvh, mahhvh, mahnvh, manhvh, mannvh, mhhhvh, mhhnvh, mhnhvh, mhnnvh'"
      ]
     },
     "execution_count": 21,
     "metadata": {},
     "output_type": "execute_result"
    }
   ],
   "source": [
    "', '.join(get_permutation(\n",
    "    decode_ohe(\n",
    "        query_visible(np.array([[1, 0, 1]]), n_visible, W), max_letters, rencoding)))"
   ]
  },
  {
   "cell_type": "code",
   "execution_count": 22,
   "metadata": {
    "ExecuteTime": {
     "end_time": "2018-05-24T10:47:49.297000Z",
     "start_time": "2018-05-24T10:47:48.255000Z"
    },
    "scrolled": false
   },
   "outputs": [
    {
     "name": "stdout",
     "output_type": "stream",
     "text": [
      "daydream iteration 1\n",
      "baddearqh, baddearth, baddeerqh, baddeerth, baddharqh, baddharth, baddherqh, baddherth, baddrarqh, baddrarth, baddrerqh, baddrerth, badeearqh, badeearth, badeeerqh, badeeerth, badeharqh, badeharth, badeherqh, badeherth, baderarqh, baderarth, badererqh, badererth, biddearqh, biddearth, biddeerqh, biddeerth, biddharqh, biddharth, biddherqh, biddherth, biddrarqh, biddrarth, biddrerqh, biddrerth, bideearqh, bideearth, bideeerqh, bideeerth, bideharqh, bideharth, bideherqh, bideherth, biderarqh, biderarth, bidererqh, bidererth, saddearqh, saddearth, saddeerqh, saddeerth, saddharqh, saddharth, saddherqh, saddherth, saddrarqh, saddrarth, saddrerqh, saddrerth, sadeearqh, sadeearth, sadeeerqh, sadeeerth, sadeharqh, sadeharth, sadeherqh, sadeherth, saderarqh, saderarth, sadererqh, sadererth, siddearqh, siddearth, siddeerqh, siddeerth, siddharqh, siddharth, siddherqh, siddherth, siddrarqh, siddrarth, siddrerqh, siddrerth, sideearqh, sideearth, sideeerqh, sideeerth, sideharqh, sideharth, sideherqh, sideherth, siderarqh, siderarth, sidererqh, sidererth, waddearqh, waddearth, waddeerqh, waddeerth, waddharqh, waddharth, waddherqh, waddherth, waddrarqh, waddrarth, waddrerqh, waddrerth, wadeearqh, wadeearth, wadeeerqh, wadeeerth, wadeharqh, wadeharth, wadeherqh, wadeherth, waderarqh, waderarth, wadererqh, wadererth, widdearqh, widdearth, widdeerqh, widdeerth, widdharqh, widdharth, widdherqh, widdherth, widdrarqh, widdrarth, widdrerqh, widdrerth, wideearqh, wideearth, wideeerqh, wideeerth, wideharqh, wideharth, wideherqh, wideherth, widerarqh, widerarth, widererqh, widererth\n",
      "\n",
      "daydream iteration 2\n",
      "sadhagtd, sadhagth, sadhartd, sadharth, sadhavtd, sadhavth, sadhmgtd, sadhmgth, sadhmrtd, sadhmrth, sadhmvtd, sadhmvth, sanhagtd, sanhagth, sanhartd, sanharth, sanhavtd, sanhavth, sanhmgtd, sanhmgth, sanhmrtd, sanhmrth, sanhmvtd, sanhmvth, sidhagtd, sidhagth, sidhartd, sidharth, sidhavtd, sidhavth, sidhmgtd, sidhmgth, sidhmrtd, sidhmrth, sidhmvtd, sidhmvth, sinhagtd, sinhagth, sinhartd, sinharth, sinhavtd, sinhavth, sinhmgtd, sinhmgth, sinhmrtd, sinhmrth, sinhmvtd, sinhmvth\n",
      "\n",
      "daydream iteration 3\n",
      "ahlleam, ahlliam, ahmleam, ahmliam, ailleam, ailliam, aimleam, aimliam, ihlleam, ihlliam, ihmleam, ihmliam, iilleam, iilliam, iimleam, iimliam, shlleam, shlliam, shmleam, shmliam, silleam, silliam, simleam, simliam, whlleam, whlliam, whmleam, whmliam, willeam, william, wimleam, wimliam\n",
      "\n",
      "daydream iteration 4\n",
      "dilliam, dillkam, dilniam, dilnkam, diloiam, dilokam, dslliam, dsllkam, dslniam, dslnkam, dsloiam, dslokam, rilliam, rillkam, rilniam, rilnkam, riloiam, rilokam, rslliam, rsllkam, rslniam, rslnkam, rsloiam, rslokam, silliam, sillkam, silniam, silnkam, siloiam, silokam, sslliam, ssllkam, sslniam, sslnkam, ssloiam, sslokam, william, willkam, wilniam, wilnkam, wiloiam, wilokam, wslliam, wsllkam, wslniam, wslnkam, wsloiam, wslokam\n",
      "\n",
      "daydream iteration 5\n",
      "dalleam, dalliam, dallkam, dallpam, dilleam, dilliam, dillkam, dillpam, jalleam, jalliam, jallkam, jallpam, jilleam, jilliam, jillkam, jillpam, walleam, walliam, wallkam, wallpam, willeam, william, willkam, willpam\n",
      "\n"
     ]
    }
   ],
   "source": [
    "for i in range(5):\n",
    "    dd = daydream(5000, n_visible, n_hidden, W)\n",
    "    dd = dd.reshape(1, dd.shape[0])\n",
    "    dd = dd[:,1:]\n",
    "    dd = get_permutation(decode_ohe(dd, max_letters, rencoding))\n",
    "    dd = ', '.join(dd)\n",
    "    print('daydream iteration {}'.format(i + 1))\n",
    "    print(dd)\n",
    "    print('')"
   ]
  },
  {
   "cell_type": "markdown",
   "metadata": {},
   "source": [
    "# References\n",
    "\n",
    "* [Introduction to Restricted Boltzmann Machines](http://blog.echen.me/2011/07/18/introduction-to-restricted-boltzmann-machines/)\n",
    "* [Dreaming of names with RBMs](http://colinmorris.github.io/blog/dreaming-rbms)\n",
    "* [A Practical guide to training restricted Boltzmann machines](http://www.cs.toronto.edu/~hinton/absps/guideTR.pdf)\n",
    "* [Geometry of the Restricted Boltzmann Machine](http://arxiv.org/abs/0908.4425)\n",
    "* [Top 100 boy names in India 2017](https://www.babycenter.in/a25024464/top-100-boy-names-in-india-in-2017)\n",
    "* [The most popular names in China](http://www.theworldofchinese.com/2014/07/the-most-popular-names-in-china-not-a-john-smith-in-sight/)\n",
    "* [Most Popular Chinese Baby Boy Names ](https://www.mom365.com/baby-names/chinese-boys-names)\n",
    "* [The 10 Most Popular Babies' Names from English Speaking Countries](http://www.world-english.org/boys_names.htm)\n",
    "* [How to generate all permutations of a list in Python](https://stackoverflow.com/questions/104420/how-to-generate-all-permutations-of-a-list-in-python)"
   ]
  },
  {
   "cell_type": "code",
   "execution_count": null,
   "metadata": {},
   "outputs": [],
   "source": []
  }
 ],
 "metadata": {
  "kernelspec": {
   "display_name": "ds",
   "language": "python",
   "name": "ds"
  },
  "language_info": {
   "codemirror_mode": {
    "name": "ipython",
    "version": 2
   },
   "file_extension": ".py",
   "mimetype": "text/x-python",
   "name": "python",
   "nbconvert_exporter": "python",
   "pygments_lexer": "ipython2",
   "version": "2.7.14"
  }
 },
 "nbformat": 4,
 "nbformat_minor": 2
}
