{
 "cells": [
  {
   "cell_type": "code",
   "execution_count": 1,
   "metadata": {},
   "outputs": [],
   "source": [
    "%matplotlib inline\n",
    "from scipy.stats import multinomial, dirichlet, norm\n",
    "import numpy as np\n",
    "\n",
    "np.random.seed(37)\n",
    "n = 2000\n",
    "half = n / 2"
   ]
  },
  {
   "cell_type": "code",
   "execution_count": 2,
   "metadata": {},
   "outputs": [],
   "source": [
    "def print_mat(m):\n",
    "    rows = m.shape[0]\n",
    "    cols = m.shape[1]\n",
    "    for r in range(rows):\n",
    "       print(','.join(['{:.2f}'.format(m[r, c]) for c in range(cols)]))\n",
    "    print('{}x{}'.format(rows, cols))\n",
    "    \n",
    "def print_vec(v):\n",
    "    print(','.join(['{:.2f}'.format(c) for c in v])) \n",
    "    print('1x{}'.format(len(v)))"
   ]
  },
  {
   "cell_type": "markdown",
   "metadata": {},
   "source": [
    "$y = 5 + 3a + 0.8g_1 -2h_1 + 3h_2 + \\epsilon$"
   ]
  },
  {
   "cell_type": "code",
   "execution_count": 3,
   "metadata": {},
   "outputs": [],
   "source": [
    "intercept = np.ones(n).reshape(n, 1)\n",
    "age = norm.rvs(25, 1, size=n).reshape(n, 1)\n",
    "gender = multinomial.rvs(1, [0.2, 0.8], size=n)\n",
    "height = multinomial.rvs(1, [0.2, 0.6, 0.2], size=n)\n",
    "noise = norm.rvs(0, 1, size=1)\n",
    "\n",
    "X = np.hstack([intercept, age, gender, height])\n",
    "X_train = X[0:half, :]\n",
    "X_test = X[half:n, :]\n",
    "\n",
    "Z = np.delete(X, [2, 4], axis=1)\n",
    "Z_train = Z[0:half, :]\n",
    "Z_test = Z[half:n, :]\n",
    "\n",
    "w = np.array([5.0, 3.0, 0.0, 0.8, 0.0, -2.0, 3.0], dtype=np.float).reshape(X.shape[1], 1)\n",
    "\n",
    "y = np.dot(X, w) + noise\n",
    "y_train = y[0:half]\n",
    "y_test = y[half:n]"
   ]
  },
  {
   "cell_type": "code",
   "execution_count": 4,
   "metadata": {},
   "outputs": [
    {
     "name": "stdout",
     "output_type": "stream",
     "text": [
      "2.10,3.00,0.65,1.45,0.37,-1.63,3.37\n",
      "1x7\n",
      "0.00,3.12,-0.00,0.00,0.00,-0.00,0.00\n",
      "1x7\n",
      "1.58,3.04,0.39,1.19,0.20,-1.80,3.18\n",
      "1x7\n",
      "1.00000 ols R^2\n",
      "0.68525 lasso R^2\n",
      "0.99988 ridge R^2\n"
     ]
    }
   ],
   "source": [
    "from sklearn.linear_model import LinearRegression, Lasso, Ridge\n",
    "from sklearn.metrics import r2_score\n",
    "\n",
    "lr = LinearRegression(fit_intercept=False)\n",
    "la = Lasso(fit_intercept=False)\n",
    "ri = Ridge(fit_intercept=False)\n",
    "\n",
    "lr.fit(X_train, y_train)\n",
    "la.fit(X_train, y_train)\n",
    "ri.fit(X_train, y_train)\n",
    "\n",
    "print_mat(lr.coef_)\n",
    "print_vec(la.coef_)\n",
    "print_mat(ri.coef_)\n",
    "\n",
    "print('{:.5f} ols R^2'.format(r2_score(y_test, lr.predict(X_test))))\n",
    "print('{:.5f} lasso R^2'.format(r2_score(y_test, la.predict(X_test))))\n",
    "print('{:.5f} ridge R^2'.format(r2_score(y_test, ri.predict(X_test))))"
   ]
  },
  {
   "cell_type": "code",
   "execution_count": 5,
   "metadata": {},
   "outputs": [
    {
     "name": "stdout",
     "output_type": "stream",
     "text": [
      "3.12,3.00,0.80,-2.00,3.00\n",
      "1x5\n",
      "0.00,3.12,0.00,-0.00,0.00\n",
      "1x5\n",
      "1.93,3.05,0.80,-1.99,2.99\n",
      "1x5\n",
      "1.00000 ols R^2\n",
      "0.68525 lasso R^2\n",
      "0.99982 ridge R^2\n"
     ]
    }
   ],
   "source": [
    "lr = LinearRegression(fit_intercept=False)\n",
    "la = Lasso(fit_intercept=False)\n",
    "ri = Ridge(fit_intercept=False)\n",
    "\n",
    "lr.fit(Z_train, y_train)\n",
    "la.fit(Z_train, y_train)\n",
    "ri.fit(Z_train, y_train)\n",
    "\n",
    "print_mat(lr.coef_)\n",
    "print_vec(la.coef_)\n",
    "print_mat(ri.coef_)\n",
    "\n",
    "print('{:.5f} ols R^2'.format(r2_score(y_test, lr.predict(Z_test))))\n",
    "print('{:.5f} lasso R^2'.format(r2_score(y_test, la.predict(Z_test))))\n",
    "print('{:.5f} ridge R^2'.format(r2_score(y_test, ri.predict(Z_test))))"
   ]
  },
  {
   "cell_type": "code",
   "execution_count": 6,
   "metadata": {},
   "outputs": [
    {
     "data": {
      "text/plain": [
       "<matplotlib.axes._subplots.AxesSubplot at 0x156ef5f8>"
      ]
     },
     "execution_count": 6,
     "metadata": {},
     "output_type": "execute_result"
    },
    {
     "data": {
      "image/png": "[encoded data removed]",
      "text/plain": [
       "<Figure size 432x288 with 1 Axes>"
      ]
     },
     "metadata": {},
     "output_type": "display_data"
    }
   ],
   "source": [
    "import seaborn as sns\n",
    "\n",
    "sns.kdeplot(y.transpose()[0])"
   ]
  },
  {
   "cell_type": "code",
   "execution_count": 7,
   "metadata": {},
   "outputs": [
    {
     "data": {
      "text/plain": [
       "<matplotlib.axes._subplots.AxesSubplot at 0x168884e0>"
      ]
     },
     "execution_count": 7,
     "metadata": {},
     "output_type": "execute_result"
    },
    {
     "data": {
      "image/png": "[encoded data removed]",
      "text/plain": [
       "<Figure size 432x288 with 1 Axes>"
      ]
     },
     "metadata": {},
     "output_type": "display_data"
    }
   ],
   "source": [
    "sns.kdeplot(age.transpose()[0])"
   ]
  },
  {
   "cell_type": "code",
   "execution_count": null,
   "metadata": {},
   "outputs": [],
   "source": []
  }
 ],
 "metadata": {
  "kernelspec": {
   "display_name": "ds",
   "language": "python",
   "name": "ds"
  },
  "language_info": {
   "codemirror_mode": {
    "name": "ipython",
    "version": 2
   },
   "file_extension": ".py",
   "mimetype": "text/x-python",
   "name": "python",
   "nbconvert_exporter": "python",
   "pygments_lexer": "ipython2",
   "version": "2.7.14"
  }
 },
 "nbformat": 4,
 "nbformat_minor": 2
}
