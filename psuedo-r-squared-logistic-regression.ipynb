{
 "cells": [
  {
   "cell_type": "markdown",
   "metadata": {},
   "source": [
    "# Psuedo $R^2$ for logistic regression, no tears\n",
    "\n",
    "In ordinary least square (OLS) regression, the $R^2$ statistics measures the amount of variance explained by the regression model. The value of $R^2$ ranges in $[0, 1]$, with a larger value indicating more variance is explained by the model (higher value is better). For OLS regression, $R^2$ is defined as following.\n",
    "\n",
    "$R^2 = 1 - \\frac{ \\sum (y_i - \\hat{y}_i)^2 }{ \\sum (y_i - \\bar{y})^2 }$\n",
    "\n",
    "where\n",
    "\n",
    "* $y_i$ is the i-th label (0 or 1)\n",
    "* $\\hat{y}_i$ is the i-th predicted value\n",
    "* $\\bar{y}$ is the mean of $y$\n",
    "\n",
    "The three main ways to interpret $R^2$ is as follows.\n",
    "\n",
    "* explained variable: how much variability is explained by the model\n",
    "* goodness-of-fit: how well does the model fit the data\n",
    "* correlation: the correlations between the predictions and true values\n",
    "\n",
    "For logistic regression, there have been many proposed pseudo-$R^2$. A non-exhaustive list is shown below. \n",
    "\n",
    "* Efron's $R^2$\n",
    "* McFadden's $R^2$\n",
    "* McFadden's Adjusted $R^2$\n",
    "* Cox & Snell $R^2$\n",
    "* Nagelkerke/Cragg & Uhler's $R^2$\n",
    "* McKelvey & Zavoina $R^2$\n",
    "* Count $R^2$\n",
    "* Adjusted Count $R^2$\n",
    "\n",
    "In this notebook, we show how to compute some of these pseudo-$R^2$. We will not compute pseudo-$R^2$ that are based on raw likelihood since these may lead to underflow (Cox & Snell and Nagelkerke/Cragg & Uhler). Note the following.\n",
    "\n",
    "* these pseudo-$R^2$ values lie in $[0, 1]$ with values closer to 1 indicating better fit\n",
    "  * DL McFadden stated that a pseudo-$R^2$ higher than 0.2 represents an `excellent` fit\n",
    "  * Additionally, McFadden's $R^2$ can be negative\n",
    "* these pseudo-$R^2$ values may be wildly different from one another\n",
    "* these pseudo-$R^2$ values cannot be interpreted like OLS $R^2$"
   ]
  },
  {
   "cell_type": "markdown",
   "metadata": {},
   "source": [
    "# Simulate data for logistic regression analysis\n",
    "\n",
    "Here, we simulate data for logistic regression analysis. The functional form looks like the following.\n",
    "\n",
    "$\\log \\frac{p}{1-p} = 1.0 + 2.0 * x_1 + 3.0 * x_2$"
   ]
  },
  {
   "cell_type": "code",
   "execution_count": 1,
   "metadata": {},
   "outputs": [],
   "source": [
    "%matplotlib inline\n",
    "import numpy as np\n",
    "import matplotlib.pyplot as plt\n",
    "import seaborn as sns\n",
    "from numpy.random import binomial, normal\n",
    "from scipy.stats import bernoulli, binom\n",
    "\n",
    "np.random.seed(37)\n",
    "sns.set(color_codes=True)\n",
    "\n",
    "n = 10000\n",
    "X = np.hstack([\n",
    "    np.array([1 for _ in range(n)]).reshape(n, 1), \n",
    "    normal(0.0, 1.0, n).reshape(n, 1), \n",
    "    normal(0.0, 1.0, n).reshape(n, 1)\n",
    "])\n",
    "z = np.dot(X, np.array([1.0, 2.0, 3.0])) + normal(0.0, 1.0, n)\n",
    "p = 1.0 / (1.0 + np.exp(-z))\n",
    "y = binom.rvs(1, p)"
   ]
  },
  {
   "cell_type": "markdown",
   "metadata": {},
   "source": [
    "# Learn the logistic regression model parameters\n",
    "\n",
    "Now, we use Sckit-Learn's logistic regression solver to learn the model parameters (weights/coefficients). Note that we introduced some error during the simulation and so the coefficients of the learned model are not recovered to be exactly like the generating model."
   ]
  },
  {
   "cell_type": "code",
   "execution_count": 2,
   "metadata": {},
   "outputs": [
    {
     "name": "stdout",
     "output_type": "stream",
     "text": [
      "[[0.89307796 1.71431569 2.59083718]]\n"
     ]
    }
   ],
   "source": [
    "from sklearn.linear_model import LogisticRegression\n",
    "\n",
    "lr = LogisticRegression(fit_intercept=False)\n",
    "lr.fit(X, y)\n",
    "\n",
    "w = np.array(lr.coef_).transpose()\n",
    "y_pred = lr.predict_proba(X)[:, 1]\n",
    "\n",
    "print(lr.coef_)"
   ]
  },
  {
   "cell_type": "markdown",
   "metadata": {},
   "source": [
    "## Efron's $R^2$\n",
    "\n",
    "$R^2 = 1 - \\frac{\\sum (y_i - \\pi_i)^2}{\\sum (y_i - \\bar{y})^2}$\n",
    "\n",
    "* $y_i$ is the i-th outcome label (e.g. 1 or 0)\n",
    "* $\\pi_i$ is the i-th predicted outcome probability\n",
    "* $\\bar{y}$ is the expected value of the observed outcomes $y = [y_1, \\ldots, y_n]$ e.g. $\\bar{y} = \\frac{\\sum y_i}{n}$"
   ]
  },
  {
   "cell_type": "code",
   "execution_count": 3,
   "metadata": {},
   "outputs": [],
   "source": [
    "def efron_rsquare(y, y_pred):\n",
    "    n = float(len(y))\n",
    "    t1 = np.sum(np.power(y - y_pred, 2.0))\n",
    "    t2 = np.sum(np.power((y - (np.sum(y) / n)), 2.0))\n",
    "    return 1.0 - (t1 / t2)"
   ]
  },
  {
   "cell_type": "code",
   "execution_count": 4,
   "metadata": {},
   "outputs": [
    {
     "data": {
      "text/plain": [
       "0.5513984238650347"
      ]
     },
     "execution_count": 4,
     "metadata": {},
     "output_type": "execute_result"
    }
   ],
   "source": [
    "efron_rsquare(y, y_pred)"
   ]
  },
  {
   "cell_type": "markdown",
   "metadata": {},
   "source": [
    "## McFadden's $R^2$\n",
    "\n",
    "$R^2 = 1 - \\frac{\\ln \\hat{L}_{full}}{\\ln \\hat{L}_{null}}$\n",
    "\n",
    "* $\\hat{L}_{full}$ is the estimated likelihood of the full model\n",
    "* $\\hat{L}_{null}$ is the estimated likelihood of the null model (model with only intercept)"
   ]
  },
  {
   "cell_type": "code",
   "execution_count": 5,
   "metadata": {},
   "outputs": [],
   "source": [
    "def full_log_likelihood(w, X, y):\n",
    "    score = np.dot(X, w).reshape(1, X.shape[0])\n",
    "    return np.sum(-np.log(1 + np.exp(score))) + np.sum(y * score)\n",
    "\n",
    "def null_log_likelihood(w, X, y):\n",
    "    z = np.array([w if i == 0 else 0.0 for i, w in enumerate(w.reshape(1, X.shape[1])[0])]).reshape(X.shape[1], 1)\n",
    "    score = np.dot(X, z).reshape(1, X.shape[0])\n",
    "    return np.sum(-np.log(1 + np.exp(score))) + np.sum(y * score)\n",
    "\n",
    "def mcfadden_rsquare(w, X, y):\n",
    "    return 1.0 - (full_log_likelihood(w, X, y) / null_log_likelihood(w, X, y))\n",
    "\n",
    "def mcfadden_adjusted_rsquare(w, X, y):\n",
    "    k = float(X.shape[1])\n",
    "    return 1.0 - ((full_log_likelihood(w, X, y) - k) / null_log_likelihood(w, X, y))"
   ]
  },
  {
   "cell_type": "code",
   "execution_count": 6,
   "metadata": {},
   "outputs": [
    {
     "data": {
      "text/plain": [
       "0.5173802601449244"
      ]
     },
     "execution_count": 6,
     "metadata": {},
     "output_type": "execute_result"
    }
   ],
   "source": [
    "mcfadden_rsquare(w, X, y)"
   ]
  },
  {
   "cell_type": "markdown",
   "metadata": {},
   "source": [
    "## McFadden's Adjusted $R^2$\n",
    "\n",
    "$R^2 = 1 - \\frac{\\ln \\hat{L}_{full} - K}{\\ln \\hat{L}_{null}}$\n",
    "\n",
    "* $\\hat{L}_{full}$ is the estimated likelihood of the full model\n",
    "* $\\hat{L}_{null}$ is the estimated likelihood of the null model (model with only intercept)\n",
    "* $K$ is the number of parameters (e.g. number of covariates associated with non-zero coefficients)"
   ]
  },
  {
   "cell_type": "code",
   "execution_count": 7,
   "metadata": {},
   "outputs": [
    {
     "data": {
      "text/plain": [
       "0.516956038921871"
      ]
     },
     "execution_count": 7,
     "metadata": {},
     "output_type": "execute_result"
    }
   ],
   "source": [
    "mcfadden_adjusted_rsquare(w, X, y)"
   ]
  },
  {
   "cell_type": "markdown",
   "metadata": {},
   "source": [
    "## McKelvey & Zavoina $R^2$\n",
    "\n",
    "$R^2 = \\frac{ \\sigma^2(\\hat{y}) }{ \\sigma^2(\\hat{y}) + \\frac{\\pi^2}{3} }$\n",
    "\n",
    "* $\\sigma^2(\\hat{y})$ is the variance of the predicted probabilities"
   ]
  },
  {
   "cell_type": "code",
   "execution_count": 8,
   "metadata": {},
   "outputs": [],
   "source": [
    "def mz_rsquare(y_pred):\n",
    "    return np.var(y_pred) / (np.var(y_pred) + (np.power(np.pi, 2.0) / 3.0) )"
   ]
  },
  {
   "cell_type": "code",
   "execution_count": 9,
   "metadata": {},
   "outputs": [
    {
     "data": {
      "text/plain": [
       "0.03882289938631795"
      ]
     },
     "execution_count": 9,
     "metadata": {},
     "output_type": "execute_result"
    }
   ],
   "source": [
    "mz_rsquare(y_pred)"
   ]
  },
  {
   "cell_type": "markdown",
   "metadata": {},
   "source": [
    "## Count $R^2$\n",
    "\n",
    "$R^2=\\frac{C}{T}$\n",
    "\n",
    "* $C$ is the total number of correctly classified observations with treating a probability below 0.5 as a 0 and above as a 1\n",
    "* $T$ is the total number of observations"
   ]
  },
  {
   "cell_type": "code",
   "execution_count": 10,
   "metadata": {},
   "outputs": [],
   "source": [
    "def get_num_correct(y, y_pred, t=0.5):\n",
    "    y_correct = np.array([0.0 if p < t else 1.0 for p in y_pred])\n",
    "    return sum([1.0 for p, p_pred in zip(y, y_correct) if p == p_pred])\n",
    "\n",
    "def count_rsquare(y, y_pred, t=0.5):\n",
    "    n = float(len(y))\n",
    "    num_correct = get_num_correct(y, y_pred, t)\n",
    "    return num_correct / n"
   ]
  },
  {
   "cell_type": "code",
   "execution_count": 11,
   "metadata": {},
   "outputs": [
    {
     "data": {
      "text/plain": [
       "0.8469"
      ]
     },
     "execution_count": 11,
     "metadata": {},
     "output_type": "execute_result"
    }
   ],
   "source": [
    "count_rsquare(y, y_pred)"
   ]
  },
  {
   "cell_type": "markdown",
   "metadata": {},
   "source": [
    "## Adjust count $R^2$\n",
    "\n",
    "$R^2=\\frac{C - n}{T - n}$\n",
    "\n",
    "* $C$ is the total number of correctly classified observations with treating a probability below 0.5 as a 0 and above as a 1\n",
    "* $T$ is the total number of observations\n",
    "* $n$ is the count of the most frequent outcome"
   ]
  },
  {
   "cell_type": "code",
   "execution_count": 12,
   "metadata": {},
   "outputs": [],
   "source": [
    "def get_count_most_freq_outcome(y):\n",
    "    num_0 = 0\n",
    "    num_1 = 0\n",
    "    for p in y:\n",
    "        if p == 1.0:\n",
    "            num_1 += 1\n",
    "        else:\n",
    "            num_0 += 1\n",
    "    return float(max(num_0, num_1))\n",
    "\n",
    "def count_adjusted_rsquare(y, y_pred, t=0.5):\n",
    "    correct = get_num_correct(y, y_pred, t)\n",
    "    total = float(len(y))\n",
    "    n = get_count_most_freq_outcome(y)\n",
    "    return (correct - n) / (total - n)"
   ]
  },
  {
   "cell_type": "code",
   "execution_count": 13,
   "metadata": {},
   "outputs": [
    {
     "data": {
      "text/plain": [
       "0.6243866535819431"
      ]
     },
     "execution_count": 13,
     "metadata": {},
     "output_type": "execute_result"
    }
   ],
   "source": [
    "count_adjusted_rsquare(y, y_pred)"
   ]
  },
  {
   "cell_type": "markdown",
   "metadata": {},
   "source": [
    "## Comparison with other model performance metrics\n",
    "\n",
    "Here, we show other performance metrics to see how these might compare to pseudo-$R^2$."
   ]
  },
  {
   "cell_type": "code",
   "execution_count": 14,
   "metadata": {},
   "outputs": [
    {
     "name": "stdout",
     "output_type": "stream",
     "text": [
      "average_precision_score : 0.94774298783\n",
      "brier_score_loss : 0.108320341441\n",
      "log_loss : 0.341298157868\n",
      "roc_auc_score : 0.924788240182\n",
      "explained_variance_score : 0.551398459201\n",
      "mean_absolute_error : 0.216918595946\n",
      "mean_squared_error : 0.108320341441\n",
      "median_absolute_error : 0.110908104626\n",
      "r2_score : 0.551398423865\n"
     ]
    }
   ],
   "source": [
    "from sklearn.metrics import average_precision_score, brier_score_loss, log_loss, roc_auc_score\n",
    "from sklearn.metrics import explained_variance_score, mean_absolute_error, mean_squared_error, median_absolute_error, r2_score\n",
    "\n",
    "m_names = [\n",
    "    'average_precision_score', 'brier_score_loss', 'log_loss', 'roc_auc_score', \n",
    "    'explained_variance_score', 'mean_absolute_error', 'mean_squared_error', 'median_absolute_error', 'r2_score'\n",
    "]\n",
    "metrics = [average_precision_score, brier_score_loss, log_loss, roc_auc_score, \n",
    "           explained_variance_score, mean_absolute_error, mean_squared_error, median_absolute_error, r2_score]\n",
    "for n, m in zip(m_names, metrics):\n",
    "    print('{} : {}'.format(n, m(y, y_pred)))\n"
   ]
  },
  {
   "cell_type": "markdown",
   "metadata": {},
   "source": [
    "# References\n",
    "\n",
    "* [FAQ: What are pseudo r-squareds?](https://stats.idre.ucla.edu/other/mult-pkg/faq/general/faq-what-are-pseudo-r-squareds/)\n",
    "* [Logistic Regression](http://www.stat.cmu.edu/~cshalizi/uADA/12/lectures/ch12.pdf)\n",
    "* [Measures of fit for logistic regression](https://support.sas.com/resources/papers/proceedings14/1485-2014.pdf)\n",
    "* [A comparison of logistic pseudo $R^2$ indices](http://www.glmj.org/archives/articles/Smith_v39n2.pdf)\n",
    "* [Urban Travel Demand: A Behavioral Analysis ](https://eml.berkeley.edu/~mcfadden/travel.html)\n",
    "* [R squared in logistic regression](http://thestatsgeek.com/2014/02/08/r-squared-in-logistic-regression/)"
   ]
  },
  {
   "cell_type": "markdown",
   "metadata": {},
   "source": [
    "# Take a Look!\n",
    "\n",
    "Take a look at [Dr. George Dantzig](https://en.wikipedia.org/wiki/George_Dantzig)."
   ]
  },
  {
   "cell_type": "code",
   "execution_count": null,
   "metadata": {},
   "outputs": [],
   "source": []
  }
 ],
 "metadata": {
  "kernelspec": {
   "display_name": "ds",
   "language": "python",
   "name": "ds"
  },
  "language_info": {
   "codemirror_mode": {
    "name": "ipython",
    "version": 2
   },
   "file_extension": ".py",
   "mimetype": "text/x-python",
   "name": "python",
   "nbconvert_exporter": "python",
   "pygments_lexer": "ipython2",
   "version": "2.7.14"
  },
  "toc": {
   "base_numbering": 1,
   "nav_menu": {},
   "number_sections": true,
   "sideBar": true,
   "skip_h1_title": false,
   "title_cell": "Table of Contents",
   "title_sidebar": "Contents",
   "toc_cell": false,
   "toc_position": {},
   "toc_section_display": true,
   "toc_window_display": false
  }
 },
 "nbformat": 4,
 "nbformat_minor": 2
}
