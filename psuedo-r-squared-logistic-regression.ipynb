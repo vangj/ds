{
 "cells": [
  {
   "cell_type": "markdown",
   "metadata": {},
   "source": [
    "# Psuedo $R^2$ for logistic regression, no tears"
   ]
  },
  {
   "cell_type": "code",
   "execution_count": 1,
   "metadata": {},
   "outputs": [],
   "source": [
    "%matplotlib inline\n",
    "import numpy as np\n",
    "import matplotlib.pyplot as plt\n",
    "import seaborn as sns\n",
    "from numpy.random import binomial, normal\n",
    "from scipy.stats import bernoulli, binom\n",
    "\n",
    "np.random.seed(37)\n",
    "sns.set(color_codes=True)\n",
    "\n",
    "n = 10000\n",
    "X = np.hstack([\n",
    "    np.array([1 for _ in range(n)]).reshape(n, 1), \n",
    "    normal(0.0, 1.0, n).reshape(n, 1), \n",
    "    normal(0.0, 1.0, n).reshape(n, 1)\n",
    "])\n",
    "z = np.dot(X, np.array([1.0, 2.0, 3.0])) + normal(0.0, 1.0, n)\n",
    "p = 1.0 / (1.0 + np.exp(-z))\n",
    "y = binom.rvs(1, p)"
   ]
  },
  {
   "cell_type": "code",
   "execution_count": 2,
   "metadata": {},
   "outputs": [
    {
     "name": "stdout",
     "output_type": "stream",
     "text": [
      "[[0.89307796 1.71431569 2.59083718]]\n"
     ]
    }
   ],
   "source": [
    "from sklearn.linear_model import LogisticRegression\n",
    "\n",
    "lr = LogisticRegression(fit_intercept=False)\n",
    "lr.fit(X, y)\n",
    "\n",
    "w = np.array(lr.coef_).transpose()\n",
    "y_pred = lr.predict_proba(X)[:, 1]\n",
    "\n",
    "print(lr.coef_)"
   ]
  },
  {
   "cell_type": "markdown",
   "metadata": {},
   "source": [
    "$R^2 = 1 - \\frac{\\sum (y_i - \\pi_i)^2}{\\sum (y_i - \\bar{y})^2}$\n",
    "\n",
    "* $y_i$ is the i-th outcome label (e.g. 1 or 0)\n",
    "* $\\pi_i$ is the i-th predicted outcome probability\n",
    "* $\\bar{y}$ is the expected value of the observed outcomes $y = [y_1, \\ldots, y_n]$"
   ]
  },
  {
   "cell_type": "code",
   "execution_count": 3,
   "metadata": {},
   "outputs": [],
   "source": [
    "def efron_rsquare(y, y_pred):\n",
    "    n = float(len(y))\n",
    "    t1 = np.sum(np.power(y - y_pred, 2.0))\n",
    "    t2 = np.sum(np.power((y - (np.sum(y) / n)), 2.0))\n",
    "    return 1.0 - (t1 / t2)"
   ]
  },
  {
   "cell_type": "code",
   "execution_count": 4,
   "metadata": {},
   "outputs": [
    {
     "data": {
      "text/plain": [
       "0.5513984238650347"
      ]
     },
     "execution_count": 4,
     "metadata": {},
     "output_type": "execute_result"
    }
   ],
   "source": [
    "efron_rsquare(y, y_pred)"
   ]
  },
  {
   "cell_type": "markdown",
   "metadata": {},
   "source": [
    "$R^2 = 1 - \\frac{\\ln \\hat{L}_{full}}{\\ln \\hat{L}_{null}}$\n",
    "\n",
    "* $\\hat{L}_{full}$ is the estimated likelihood of the full model\n",
    "* $\\hat{L}_{null}$ is the estimated likelihood of the null model (model with only intercept)"
   ]
  },
  {
   "cell_type": "code",
   "execution_count": 7,
   "metadata": {},
   "outputs": [],
   "source": [
    "def log_likelihood(w, X, y):\n",
    "    score = np.dot(X, w).reshape(1, X.shape[0])\n",
    "    return np.sum(-np.log(1 + np.exp(score))) + np.sum(y * score)\n",
    "\n",
    "def null_log_likelihood(w, X, y):\n",
    "    z = np.array([w if i == 0 else 0.0 for i, w in enumerate(w.reshape(1, X.shape[1])[0])]).reshape(X.shape[1], 1)\n",
    "    score = np.dot(X, z).reshape(1, X.shape[0])\n",
    "    return np.sum(-np.log(1 + np.exp(score))) + np.sum(y * score)\n",
    "\n",
    "def mcfadden_rsquare(w, X, y):\n",
    "    return 1.0 - (log_likelihood(w, X, y) / null_log_likelihood(w, X, y))\n",
    "\n",
    "def mcfadden_adjusted_rsquare(w, X, y):\n",
    "    k = float(X.shape[1])\n",
    "    return 1.0 - ((log_likelihood(w, X, y) - k) / null_log_likelihood(w, X, y))"
   ]
  },
  {
   "cell_type": "code",
   "execution_count": 8,
   "metadata": {},
   "outputs": [
    {
     "data": {
      "text/plain": [
       "0.5173802601449244"
      ]
     },
     "execution_count": 8,
     "metadata": {},
     "output_type": "execute_result"
    }
   ],
   "source": [
    "mcfadden_rsquare(w, X, y)"
   ]
  },
  {
   "cell_type": "markdown",
   "metadata": {},
   "source": [
    "$R^2 = 1 - \\frac{\\ln \\hat{L}_{full} - K}{\\ln \\hat{L}_{null}}$\n",
    "\n",
    "* $\\hat{L}_{full}$ is the estimated likelihood of the full model\n",
    "* $\\hat{L}_{null}$ is the estimated likelihood of the null model (model with only intercept)\n",
    "* $K$ is the number of parameters (e.g. number of covariates associated with non-zero coefficients)"
   ]
  },
  {
   "cell_type": "code",
   "execution_count": 9,
   "metadata": {},
   "outputs": [
    {
     "data": {
      "text/plain": [
       "0.516956038921871"
      ]
     },
     "execution_count": 9,
     "metadata": {},
     "output_type": "execute_result"
    }
   ],
   "source": [
    "mcfadden_adjusted_rsquare(w, X, y)"
   ]
  },
  {
   "cell_type": "code",
   "execution_count": 45,
   "metadata": {},
   "outputs": [],
   "source": [
    "def get_num_correct(y, y_pred, t=0.5):\n",
    "    y_correct = np.array([0.0 if p < t else 1.0 for p in y_pred])\n",
    "    return sum([1.0 for p, p_pred in zip(y, y_correct) if p == p_pred])\n",
    "\n",
    "def count_rsquare(y, y_pred, t=0.5):\n",
    "    n = float(len(y))\n",
    "    num_correct = get_num_correct(y, y_pred, t)\n",
    "    return num_correct / n"
   ]
  },
  {
   "cell_type": "code",
   "execution_count": 46,
   "metadata": {},
   "outputs": [
    {
     "data": {
      "text/plain": [
       "0.8469"
      ]
     },
     "execution_count": 46,
     "metadata": {},
     "output_type": "execute_result"
    }
   ],
   "source": [
    "count_rsquare(y, y_pred)"
   ]
  },
  {
   "cell_type": "code",
   "execution_count": 49,
   "metadata": {},
   "outputs": [],
   "source": [
    "def get_count_most_freq_outcome(y):\n",
    "    num_0 = 0\n",
    "    num_1 = 0\n",
    "    for p in y:\n",
    "        if p == 1.0:\n",
    "            num_1 += 1\n",
    "        else:\n",
    "            num_0 += 1\n",
    "    return float(max(num_0, num_1))\n",
    "\n",
    "def count_adjusted_rsquare(y, y_pred, t=0.5):\n",
    "    correct = get_num_correct(y, y_pred, t)\n",
    "    total = float(len(y))\n",
    "    n = get_count_most_freq_outcome(y)\n",
    "    return (correct - n) / (total - n)"
   ]
  },
  {
   "cell_type": "code",
   "execution_count": 51,
   "metadata": {},
   "outputs": [
    {
     "data": {
      "text/plain": [
       "0.6243866535819431"
      ]
     },
     "execution_count": 51,
     "metadata": {},
     "output_type": "execute_result"
    }
   ],
   "source": [
    "count_adjusted_rsquare(y, y_pred)"
   ]
  },
  {
   "cell_type": "markdown",
   "metadata": {},
   "source": [
    "# References\n",
    "\n",
    "* [FAQ: What are pseudo r-squareds?](https://stats.idre.ucla.edu/other/mult-pkg/faq/general/faq-what-are-pseudo-r-squareds/)\n",
    "* [Logistic Regression](http://www.stat.cmu.edu/~cshalizi/uADA/12/lectures/ch12.pdf)\n",
    "* [Measures of fit for logistic regression](https://support.sas.com/resources/papers/proceedings14/1485-2014.pdf)\n",
    "* [A comparison of logistic pseudo $R^2$ indices](http://www.glmj.org/archives/articles/Smith_v39n2.pdf)"
   ]
  },
  {
   "cell_type": "markdown",
   "metadata": {},
   "source": [
    "# Take a Look!\n",
    "\n",
    "Take a look at []()."
   ]
  },
  {
   "cell_type": "code",
   "execution_count": null,
   "metadata": {},
   "outputs": [],
   "source": []
  }
 ],
 "metadata": {
  "kernelspec": {
   "display_name": "ds",
   "language": "python",
   "name": "ds"
  },
  "language_info": {
   "codemirror_mode": {
    "name": "ipython",
    "version": 2
   },
   "file_extension": ".py",
   "mimetype": "text/x-python",
   "name": "python",
   "nbconvert_exporter": "python",
   "pygments_lexer": "ipython2",
   "version": "2.7.14"
  }
 },
 "nbformat": 4,
 "nbformat_minor": 2
}
