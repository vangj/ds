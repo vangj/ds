{
 "cells": [
  {
   "cell_type": "markdown",
   "metadata": {},
   "source": [
    "# Sampling from density functions using them to compute the probabilities of sample points"
   ]
  },
  {
   "cell_type": "code",
   "execution_count": 1,
   "metadata": {
    "ExecuteTime": {
     "end_time": "2018-04-19T07:30:07.154000Z",
     "start_time": "2018-04-19T07:30:06.788000Z"
    }
   },
   "outputs": [],
   "source": [
    "import numpy as np\n",
    "\n",
    "np.random.seed(37)\n",
    "\n",
    "def factorial(x):\n",
    "    if x <= 0.0:\n",
    "        return 1\n",
    "    \n",
    "    # typically stirling's approximation would be (x / e)^x\n",
    "    # for large values of x, this creates an overflow\n",
    "    # we use 1 here, which doesn't seem to affect the sampling or probability estimations\n",
    "    g = np.sqrt(2 * np.pi * x) * np.power(x / 2.718281, 1)\n",
    "    return g\n",
    "\n",
    "def gamma(n):\n",
    "    return factorial(n - 1)\n",
    "\n",
    "def beta(alphas):\n",
    "    k = len(alphas)\n",
    "    b = 1.\n",
    "    for i in range(k):\n",
    "        b *= gamma(alphas[i])\n",
    "    b = b / gamma(np.sum(alphas))\n",
    "    return b\n",
    "\n",
    "def rgama(a):\n",
    "    d = a - 1. / 3.\n",
    "    c = 1. / np.sqrt(9. * d)\n",
    "    \n",
    "    while True:\n",
    "        x = None\n",
    "        v = -1\n",
    "        \n",
    "        while v <= 0:\n",
    "            x = np.random.normal(0, 1)\n",
    "            v = 1. + c * x\n",
    "            \n",
    "        v = np.power(v, 3)\n",
    "        u = np.random.uniform()\n",
    "        \n",
    "        if u < 1 - 0.0331 * (x * x) * (x * x):\n",
    "            return d * v\n",
    "        \n",
    "        if np.log(u) < 0.5 * x * x + d * (1 - v + np.log(v)):\n",
    "            return d * v\n",
    "\n",
    "def dgama(x, alpha):\n",
    "    d = np.log(np.power(x, alpha - 1)) + np.log(2.718281) - np.log(gamma(alpha))\n",
    "    return d\n",
    "\n",
    "def rdirch(alphas):\n",
    "    k = len(alphas)\n",
    "    x = np.array([rgama(alphas[i]) for i in range(k)])\n",
    "    total = np.sum(x)\n",
    "    x = [s / total for s in x]\n",
    "    return x\n",
    "\n",
    "def ddirch(x, alphas):\n",
    "    k = len(x)\n",
    "    d = 0.\n",
    "    for i in range(k):\n",
    "        d += np.log(np.power(x[i], alphas[i] - 1))\n",
    "    d -= np.log(1. / beta(alphas))\n",
    "    return d\n",
    "\n",
    "def rmultnomial(p):\n",
    "    k = len(p)\n",
    "    probs = [prob / np.sum(p) for prob in p]\n",
    "    x = np.random.uniform()\n",
    "    cummulative_p = 0\n",
    "    for i, prob in enumerate(probs):\n",
    "        cummulative_p += prob\n",
    "        if cummulative_p - x >= 0:\n",
    "            return i\n",
    "    return k - 1\n",
    "\n",
    "def dmultinomial(x, p):\n",
    "    k = len(x)\n",
    "    d = np.log(gamma(np.sum(x + 1)))\n",
    "    for i in range(k):\n",
    "        d += np.log(np.power(p[i], x[i]))\n",
    "    for i in range(k):\n",
    "        d -= np.log(gamma(x[i] + 1))\n",
    "    return d\n",
    "\n",
    "def rdirmultinom(alphas):\n",
    "    p = rdirch(alphas)\n",
    "    m = rmultnomial(p)\n",
    "    return m\n",
    "\n",
    "def ddirmultinom(x, alphas):\n",
    "    k = len(x)\n",
    "    n = np.sum(x)\n",
    "    sum_alphas = np.sum(alphas)\n",
    "    \n",
    "    d = np.log(factorial(n))\n",
    "    d += np.log(gamma(sum_alphas))\n",
    "    d -= np.log(gamma(n + sum_alphas))\n",
    "    \n",
    "    for i in range(k):\n",
    "        d += np.log(gamma(x[i] + alphas[i]))\n",
    "        d -= np.log(factorial(x[i]))\n",
    "        d -= np.log(gamma(alphas[i]))\n",
    "        \n",
    "    return d"
   ]
  },
  {
   "cell_type": "code",
   "execution_count": 2,
   "metadata": {
    "ExecuteTime": {
     "end_time": "2018-04-19T07:30:07.281000Z",
     "start_time": "2018-04-19T07:30:07.187000Z"
    }
   },
   "outputs": [
    {
     "name": "stdout",
     "output_type": "stream",
     "text": [
      "estimating probability of 0.623178746832 with gamma density functions of different parameters\n",
      "0.999999695226903\n",
      "0.6081389689561665\n",
      "-0.9045036901767185\n",
      "-1.9856232406319319\n"
     ]
    }
   ],
   "source": [
    "x = rgama(1)\n",
    "\n",
    "print('estimating probability of {} with gamma density functions of different parameters'.format(x))\n",
    "\n",
    "print(dgama(x, 1))\n",
    "print(dgama(x, 2))\n",
    "print(dgama(x, 3))\n",
    "print(dgama(x, 4))"
   ]
  },
  {
   "cell_type": "code",
   "execution_count": 3,
   "metadata": {
    "ExecuteTime": {
     "end_time": "2018-04-19T07:30:07.397000Z",
     "start_time": "2018-04-19T07:30:07.331000Z"
    }
   },
   "outputs": [
    {
     "name": "stdout",
     "output_type": "stream",
     "text": [
      "[0.23520067902113242, 0.7647993209788675]\n",
      "-1.3078625759266966\n",
      "-2.48703694680714\n",
      "-2.321808994178804\n",
      "-11.755203961222351\n",
      "-6.079846868882889\n"
     ]
    }
   ],
   "source": [
    "alphas = np.array([1, 2])\n",
    "x = rdirch(alphas)\n",
    "\n",
    "print(x)\n",
    "print(ddirch(x, np.array([1, 2])))\n",
    "print(ddirch(x, np.array([2, 1])))\n",
    "print(ddirch(x, np.array([1, 9])))\n",
    "print(ddirch(x, np.array([9, 1])))\n",
    "print(ddirch(x, np.array([5, 5])))"
   ]
  },
  {
   "cell_type": "code",
   "execution_count": 4,
   "metadata": {
    "ExecuteTime": {
     "end_time": "2018-04-19T07:30:07.632000Z",
     "start_time": "2018-04-19T07:30:07.465000Z"
    }
   },
   "outputs": [
    {
     "name": "stdout",
     "output_type": "stream",
     "text": [
      "k = 2, p = [0.1, 0.9]\n",
      "0.907\n",
      "\n",
      "k = 3, p = [0.1, 0.8, 0.1]\n",
      "0.106\n",
      "0.798\n",
      "0.096\n"
     ]
    }
   ],
   "source": [
    "num_ones = 0\n",
    "for i in range(1000):\n",
    "    v = rmultnomial(np.array([0.1, 0.9]))\n",
    "    if v == 1:\n",
    "        num_ones += 1\n",
    "        \n",
    "print('k = 2, p = [0.1, 0.9]')\n",
    "print(num_ones / 1000.)\n",
    "\n",
    "num_zeros = 0\n",
    "num_ones = 0\n",
    "num_twos = 0\n",
    "\n",
    "for i in range(1000):\n",
    "    v = rmultnomial(np.array([0.1, 0.8, 0.1]))\n",
    "    if v == 0:\n",
    "        num_zeros += 1\n",
    "    elif v == 1:\n",
    "        num_ones += 1\n",
    "    else:\n",
    "        num_twos += 1\n",
    "\n",
    "print('')\n",
    "print('k = 3, p = [0.1, 0.8, 0.1]')\n",
    "print(num_zeros / 1000.)\n",
    "print(num_ones / 1000.)\n",
    "print(num_twos / 1000.)"
   ]
  },
  {
   "cell_type": "code",
   "execution_count": 5,
   "metadata": {
    "ExecuteTime": {
     "end_time": "2018-04-19T07:30:07.692000Z",
     "start_time": "2018-04-19T07:30:07.648000Z"
    }
   },
   "outputs": [
    {
     "name": "stdout",
     "output_type": "stream",
     "text": [
      "p_1 = 0.0, p_2 = 1.0, prob = -inf\n",
      "p_1 = 0.1, p_2 = 0.9, prob = -5.92903332339\n",
      "p_1 = 0.2, p_2 = 0.8, prob = -5.48500324752\n",
      "p_1 = 0.3, p_2 = 0.7, prob = -5.7423241723\n",
      "p_1 = 0.4, p_2 = 0.6, prob = -6.40016546602\n",
      "p_1 = 0.5, p_2 = 0.5, prob = -7.41245081774\n",
      "p_1 = 0.6, p_2 = 0.4, prob = -8.83295611467\n",
      "p_1 = 0.7, p_2 = 0.3, prob = -10.8261113346\n",
      "p_1 = 0.8, p_2 = 0.2, prob = -13.8027694142\n",
      "p_1 = 0.9, p_2 = 0.1, prob = -19.1123807874\n",
      "p_1 = 1.0, p_2 = 0.0, prob = -inf\n"
     ]
    },
    {
     "name": "stderr",
     "output_type": "stream",
     "text": [
      "C:\\Users\\super\\Anaconda3\\envs\\ds\\lib\\site-packages\\ipykernel_launcher.py:81: RuntimeWarning: divide by zero encountered in log\n"
     ]
    }
   ],
   "source": [
    "for p in np.linspace(0, 1, 11):\n",
    "    q = 1.0 - p\n",
    "    d = dmultinomial(np.array([2, 8]), np.array([p, q]))\n",
    "    print('p_1 = {}, p_2 = {}, prob = {}'.format(p, q, d))"
   ]
  },
  {
   "cell_type": "code",
   "execution_count": 6,
   "metadata": {
    "ExecuteTime": {
     "end_time": "2018-04-19T07:30:07.808000Z",
     "start_time": "2018-04-19T07:30:07.712000Z"
    }
   },
   "outputs": [
    {
     "name": "stdout",
     "output_type": "stream",
     "text": [
      "count_0 = 22, count_1 = 78\n",
      "alpha = [0.0, 10.0], prob = -0.0352476298664\n",
      "alpha = [1.0, 9.0], prob = 0.193865713469\n",
      "alpha = [2.0, 8.0], prob = 0.524357548639\n",
      "alpha = [3.0, 7.0], prob = -0.238049467302\n",
      "alpha = [4.0, 6.0], prob = -0.529496089063\n",
      "alpha = [5.0, 5.0], prob = -0.585654841838\n",
      "alpha = [6.0, 4.0], prob = -0.450641707045\n",
      "alpha = [7.0, 3.0], prob = -0.0800086938153\n",
      "alpha = [8.0, 2.0], prob = 0.76225486369\n",
      "alpha = [9.0, 1.0], prob = 0.512640401579\n",
      "alpha = [10.0, 0.0], prob = 0.365795475075\n"
     ]
    }
   ],
   "source": [
    "count_0 = 0\n",
    "count_1 = 0\n",
    "\n",
    "for i in range(100):\n",
    "    v = rdirmultinom(np.array([2, 8]))\n",
    "    if v == 0:\n",
    "        count_0 += 1\n",
    "    else:\n",
    "        count_1 += 1\n",
    "\n",
    "print('count_0 = {}, count_1 = {}'.format(count_0, count_1))\n",
    "\n",
    "for alpha_0 in np.linspace(0, 10, 11):\n",
    "    alpha_1 = 10 - alpha_0\n",
    "    d = ddirmultinom(np.array([count_0, count_1]), np.array([alpha_0, alpha_1]))\n",
    "    print('alpha = [{}, {}], prob = {}'.format(alpha_0, alpha_1, d))"
   ]
  },
  {
   "cell_type": "markdown",
   "metadata": {},
   "source": [
    "# References\n",
    "\n",
    "* [Dirichlet distribution](https://en.wikipedia.org/wiki/Dirichlet_distribution)\n",
    "* [How to generate gamma random variables](http://www.hongliangjie.com/2012/12/19/how-to-generate-gamma-random-variables/)\n",
    "* [Stirling's approximation](https://en.wikipedia.org/wiki/Stirling%27s_approximation)"
   ]
  },
  {
   "cell_type": "code",
   "execution_count": null,
   "metadata": {},
   "outputs": [],
   "source": []
  }
 ],
 "metadata": {
  "kernelspec": {
   "display_name": "ds",
   "language": "python",
   "name": "ds"
  },
  "language_info": {
   "codemirror_mode": {
    "name": "ipython",
    "version": 2
   },
   "file_extension": ".py",
   "mimetype": "text/x-python",
   "name": "python",
   "nbconvert_exporter": "python",
   "pygments_lexer": "ipython2",
   "version": "2.7.14"
  },
  "toc": {
   "base_numbering": 1,
   "nav_menu": {},
   "number_sections": true,
   "sideBar": true,
   "skip_h1_title": false,
   "title_cell": "Table of Contents",
   "title_sidebar": "Contents",
   "toc_cell": false,
   "toc_position": {},
   "toc_section_display": true,
   "toc_window_display": false
  }
 },
 "nbformat": 4,
 "nbformat_minor": 2
}
