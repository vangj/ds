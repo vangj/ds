{
 "cells": [
  {
   "cell_type": "code",
   "execution_count": 1,
   "metadata": {},
   "outputs": [],
   "source": [
    "import numpy as np"
   ]
  },
  {
   "cell_type": "markdown",
   "metadata": {},
   "source": [
    "$\n",
    "X_0 = \\left[ {\\begin{array}{ccc}\n",
    "0.5403 & -0.4161\\\\\n",
    "-0.9900 & -0.6536\\\\\n",
    "0.2837 & 0.9602\\\\\n",
    "\\end{array} } \\right]\n",
    "$\n",
    "\n",
    "$\n",
    "X = \\left[ {\\begin{array}{ccc}\n",
    "1 & 0.5403 & -0.4161\\\\\n",
    "1 & -0.9900 & -0.6536\\\\\n",
    "1 & 0.2837 & 0.9602\\\\\n",
    "\\end{array} } \\right]\n",
    "$\n",
    "\n",
    "$\n",
    "\\theta_1 = \\left[ {\\begin{array}{ccc}\n",
    "0.1 & 0.3 & 0.5\\\\\n",
    "0.2 & 0.4 & 0.6\n",
    "\\end{array} } \\right]\n",
    "$\n",
    "\n",
    "$\n",
    "\\theta_2 = \\left[ {\\begin{array}{ccc}\n",
    "0.7 & 1.1 & 1.5\\\\\n",
    "0.8 & 1.2 & 1.6\\\\\n",
    "0.9 & 1.3 & 1.7\\\\\n",
    "1.0 & 1.4 & 1.8\n",
    "\\end{array} } \\right]\n",
    "$\n",
    "\n",
    "$\n",
    "y_0 = \\left[ {\\begin{array}{c}\n",
    "4\\\\\n",
    "2\\\\\n",
    "3\n",
    "\\end{array} } \\right]\n",
    "$\n",
    "\n",
    "$\n",
    "y = \\left[ {\\begin{array}{cccc}\n",
    "0 & 0 & 0 & 1\\\\\n",
    "0 & 1 & 0 & 0\\\\\n",
    "0 & 0 & 1 & 0\n",
    "\\end{array} } \\right]\n",
    "$\n",
    "\n",
    "$z_2 = \\theta_1 X' = \n",
    "\\left[ {\\begin{array}{ccc}\n",
    "0.1 & 0.3 & 0.5\\\\\n",
    "0.2 & 0.4 & 0.6\n",
    "\\end{array} } \\right]\n",
    "\\left[ {\\begin{array}{ccc}\n",
    "1 & 1 & 1\\\\\n",
    "0.5403 & -0.9900 & 0.2837\\\\\n",
    "-0.4161 & -0.6536 & 0.9602\n",
    "\\end{array} } \\right]\n",
    "$\n",
    "\n",
    "$a_2 = \\sigma(z_2) =\n",
    "\\left[ {\\begin{array}{ccc}\n",
    "1 & 1 & 1\\\\\n",
    "0.51350671 & 0.3719641 & 0.66042977\\\\\n",
    "0.54151917 & 0.35705715 & 0.70880762\n",
    "\\end{array} } \\right]\n",
    "$\n",
    "\n",
    "$z_3 = \\theta_2 a_2 =\n",
    "\\left[ {\\begin{array}{ccc}\n",
    "0.7 & 1.1 & 1.5\\\\\n",
    "0.8 & 1.2 & 1.6\\\\\n",
    "0.9 & 1.3 & 1.7\\\\\n",
    "1.0 & 1.4 & 1.8\n",
    "\\end{array} } \\right]\n",
    "\\left[ {\\begin{array}{ccc}\n",
    "1 & 1 & 1\\\\\n",
    "0.51350671 & 0.3719641 & 0.66042977\\\\\n",
    "0.54151917 & 0.35705715 & 0.70880762\n",
    "\\end{array} } \\right]\n",
    "$\n",
    "\n",
    "$\n",
    "a_3 = \\sigma(z_3) =\n",
    "\\left[ {\\begin{array}{ccc}\n",
    "0.88866099 & 0.83817972 & 0.92341547\\\\\n",
    "0.90742894 & 0.86028371 & 0.93857858\\\\\n",
    "0.92330629 & 0.87980136 & 0.95089915\\\\\n",
    "0.93665054 & 0.8969192 & 0.96085141\n",
    "\\end{array} } \\right]\n",
    "$\n",
    "\n",
    "$\n",
    "\\begin{split}\n",
    "L & = \\frac{1}{m} \\sum -y  \\log(a3) - (1.0 - y) \\log(1.0 - a3)\\\\\n",
    "  & = \\frac{1}{m} \\sum \\left[ {\\begin{array}{ccc}-0.0 & -0.0 & -0.0 & -1.0\\\\ -0.0 & -1.0 & -0.0 & -0.0\\\\ -0.0 & -0.0 & -1.0 & -0.0 \\end{array} } \\right] \\left[ {\\begin{array}{cccc}-0.12 & -0.18 & -0.08\\\\-0.10 & -0.15 & -0.06\\\\-0.08 & -0.13 & -0.05\\\\-0.07 & -0.11 & -0.04\\end{array} } \\right] - \\left[ {\\begin{array}{ccc}1.00 & 1.00 & 1.00 & 0.00\\\\1.00 & 0.00 & 1.00 & 1.00\\\\1.00 & 1.00 & 0.00 & 1.00\\end{array} } \\right] \\left[ {\\begin{array}{cccc}-2.20 & -1.82 & -2.57\\\\-2.38 & -1.97 & -2.79\\\\-2.57 & -2.12 & -3.01\\\\-2.76 & -2.27 & -3.24\\end{array} } \\right]\\\\\n",
    "  & = \\frac{1}{m} \\sum \\left[ {\\begin{array}{ccc}0.07 & 0.11 & 0.04\\\\0.10 & 0.15 & 0.06\\\\0.08 & 0.13 & 0.05\\end{array} } \\right] \\left[ {\\begin{array}{ccc}-7.14 & -5.91 & -8.37\\\\-7.52 & -6.21 & -8.82\\\\-7.33 & -6.06 & -8.60\\end{array} } \\right]\\\\\n",
    "  &= \\frac{1}{m} \\sum \\left[ {\\begin{array}{ccc}7.21 & 6.02 & 8.41\\\\7.62 & 6.36 & 8.89\\\\7.41 & 6.19 & 8.65\\end{array} } \\right]\\\\\n",
    "  &= \\frac{1}{3} 66.76\\\\\n",
    "  &= 22.25\n",
    "\\end{split}\n",
    "$"
   ]
  },
  {
   "cell_type": "code",
   "execution_count": 49,
   "metadata": {},
   "outputs": [],
   "source": [
    "def add_bias(m, horizontal=True):\n",
    "    if horizontal is True:\n",
    "        num_rows = m.shape[0]\n",
    "        ones = np.ones(num_rows).reshape(num_rows, 1)\n",
    "        return np.hstack([ones, m])\n",
    "    else:\n",
    "        num_cols = m.shape[1]\n",
    "        ones = np.ones(num_cols).reshape(1, num_cols)\n",
    "        return np.vstack([ones, m])\n",
    "\n",
    "def sigmoid(d):\n",
    "    return 1.0 / (1.0 + np.exp(-d))\n",
    "\n",
    "X = np.matrix([\n",
    "    [0.5403, -0.4161],\n",
    "    [-0.9900, -0.6536],\n",
    "    [0.2837, 0.9602]\n",
    "], dtype=np.float)\n",
    "\n",
    "theta1 = np.matrix([\n",
    "    [0.1, 0.3, 0.5],\n",
    "    [0.2, 0.4, 0.6]\n",
    "], dtype=np.float)\n",
    "\n",
    "theta2 = np.matrix([\n",
    "    [0.7, 1.1, 1.5],\n",
    "    [0.8, 1.2, 1.6],\n",
    "    [0.9, 1.3, 1.7],\n",
    "    [1.0, 1.4, 1.8]\n",
    "], dtype=np.float)\n",
    "\n",
    "y = np.matrix([\n",
    "    [0, 0, 0, 1],\n",
    "    [0, 1, 0, 0],\n",
    "    [0, 0, 1, 0]\n",
    "], dtype=np.float)\n",
    "\n",
    "m = X.shape[0]"
   ]
  },
  {
   "cell_type": "code",
   "execution_count": 50,
   "metadata": {},
   "outputs": [],
   "source": [
    "a1 = add_bias(X)\n",
    "z2 = np.dot(theta1, a1.transpose())"
   ]
  },
  {
   "cell_type": "code",
   "execution_count": 51,
   "metadata": {},
   "outputs": [
    {
     "data": {
      "text/plain": [
       "matrix([[ 0.05404, -0.5238 ,  0.66521],\n",
       "        [ 0.16646, -0.58816,  0.8896 ]])"
      ]
     },
     "execution_count": 51,
     "metadata": {},
     "output_type": "execute_result"
    }
   ],
   "source": [
    "z2"
   ]
  },
  {
   "cell_type": "code",
   "execution_count": 52,
   "metadata": {},
   "outputs": [
    {
     "name": "stdout",
     "output_type": "stream",
     "text": [
      "(4L, 3L)\n",
      "(3L, 3L)\n",
      "(4L, 3L)\n"
     ]
    }
   ],
   "source": [
    "a2 = add_bias(sigmoid(z2), horizontal=False)\n",
    "z3 = np.dot(theta2, a2)\n",
    "\n",
    "print(theta2.shape)\n",
    "print(a2.shape)\n",
    "print(z3.shape)"
   ]
  },
  {
   "cell_type": "code",
   "execution_count": 53,
   "metadata": {},
   "outputs": [
    {
     "data": {
      "text/plain": [
       "matrix([[1.        , 1.        , 1.        ],\n",
       "        [0.51350671, 0.3719641 , 0.66042977],\n",
       "        [0.54151917, 0.35705715, 0.70880762]])"
      ]
     },
     "execution_count": 53,
     "metadata": {},
     "output_type": "execute_result"
    }
   ],
   "source": [
    "a2"
   ]
  },
  {
   "cell_type": "code",
   "execution_count": 43,
   "metadata": {},
   "outputs": [],
   "source": [
    "a3 = sigmoid(z3)"
   ]
  },
  {
   "cell_type": "code",
   "execution_count": 44,
   "metadata": {},
   "outputs": [
    {
     "data": {
      "text/plain": [
       "matrix([[0.88866099, 0.83817972, 0.92341547],\n",
       "        [0.90742894, 0.86028371, 0.93857858],\n",
       "        [0.92330629, 0.87980136, 0.95089915],\n",
       "        [0.93665054, 0.8969192 , 0.96085141]])"
      ]
     },
     "execution_count": 44,
     "metadata": {},
     "output_type": "execute_result"
    }
   ],
   "source": [
    "a3"
   ]
  },
  {
   "cell_type": "code",
   "execution_count": 48,
   "metadata": {},
   "outputs": [],
   "source": [
    "loss = (1 / float(m)) * np.sum(np.dot(-y, np.log(a3)) - np.dot(1.0 - y, np.log(1.0 - a3)))"
   ]
  },
  {
   "cell_type": "code",
   "execution_count": 46,
   "metadata": {},
   "outputs": [
    {
     "data": {
      "text/plain": [
       "22.25364409037751"
      ]
     },
     "execution_count": 46,
     "metadata": {},
     "output_type": "execute_result"
    }
   ],
   "source": [
    "loss"
   ]
  },
  {
   "cell_type": "code",
   "execution_count": 76,
   "metadata": {},
   "outputs": [
    {
     "name": "stdout",
     "output_type": "stream",
     "text": [
      "\\left[ {\\begin{array}{ccc}-0.00 & -0.00 & -0.00 & -1.00\\\\-0.00 & -1.00 & -0.00 & -0.00\\\\-0.00 & -0.00 & -1.00 & -0.00\\end{array} } \\right]\n",
      ">\n",
      "\\left[ {\\begin{array}{cccc}-0.12 & -0.18 & -0.08\\\\-0.10 & -0.15 & -0.06\\\\-0.08 & -0.13 & -0.05\\\\-0.07 & -0.11 & -0.04\\end{array} } \\right]\n",
      "-\n",
      "\\left[ {\\begin{array}{ccc}1.00 & 1.00 & 1.00 & 0.00\\\\1.00 & 0.00 & 1.00 & 1.00\\\\1.00 & 1.00 & 0.00 & 1.00\\end{array} } \\right]\n",
      ">\n",
      "\\left[ {\\begin{array}{cccc}-2.20 & -1.82 & -2.57\\\\-2.38 & -1.97 & -2.79\\\\-2.57 & -2.12 & -3.01\\\\-2.76 & -2.27 & -3.24\\end{array} } \\right]\n"
     ]
    }
   ],
   "source": [
    "def latex_print(m, pretty=False):\n",
    "    num_rows = m.shape[0]\n",
    "    num_cols = m.shape[1]\n",
    "    s = ''\n",
    "    c = '{' + ''.join(['c' for _ in range(num_rows)]) + '}'\n",
    "    s = s + '\\left[ {\\\\begin{array}' + c\n",
    "    if pretty is True:\n",
    "        s = s + '\\n'\n",
    "    for r in range(num_rows):\n",
    "        o = ' & '.join(['{:.2f}'.format(m[r, c]) for c in range(num_cols)])\n",
    "        if r < num_rows - 1:\n",
    "            o = o + '\\\\\\\\'\n",
    "        s = s + o\n",
    "        if pretty is True:\n",
    "            s = s + '\\n'\n",
    "    s = s + '\\end{array} } \\\\right]'\n",
    "    print(s)\n",
    "    \n",
    "latex_print(-y)\n",
    "print('>')\n",
    "latex_print(np.log(a3))\n",
    "print('-')\n",
    "latex_print(1 - y)\n",
    "print('>')\n",
    "latex_print(np.log(1 - a3))"
   ]
  },
  {
   "cell_type": "code",
   "execution_count": 77,
   "metadata": {},
   "outputs": [
    {
     "name": "stdout",
     "output_type": "stream",
     "text": [
      "\\left[ {\\begin{array}{ccc}0.07 & 0.11 & 0.04\\\\0.10 & 0.15 & 0.06\\\\0.08 & 0.13 & 0.05\\end{array} } \\right]\n",
      ">\n",
      "\\left[ {\\begin{array}{ccc}-7.14 & -5.91 & -8.37\\\\-7.52 & -6.21 & -8.82\\\\-7.33 & -6.06 & -8.60\\end{array} } \\right]\n"
     ]
    }
   ],
   "source": [
    "latex_print(np.dot(-y, np.log(a3)))\n",
    "print('>')\n",
    "latex_print(np.dot(1.0 - y, np.log(1.0 - a3)))"
   ]
  },
  {
   "cell_type": "code",
   "execution_count": 78,
   "metadata": {},
   "outputs": [
    {
     "name": "stdout",
     "output_type": "stream",
     "text": [
      "\\left[ {\\begin{array}{ccc}7.21 & 6.02 & 8.41\\\\7.62 & 6.36 & 8.89\\\\7.41 & 6.19 & 8.65\\end{array} } \\right]\n"
     ]
    }
   ],
   "source": [
    "latex_print(np.dot(-y, np.log(a3)) - np.dot(1.0 - y, np.log(1.0 - a3)))"
   ]
  },
  {
   "cell_type": "code",
   "execution_count": 79,
   "metadata": {},
   "outputs": [
    {
     "data": {
      "text/plain": [
       "66.76093227113253"
      ]
     },
     "execution_count": 79,
     "metadata": {},
     "output_type": "execute_result"
    }
   ],
   "source": [
    "np.sum(np.dot(-y, np.log(a3)) - np.dot(1.0 - y, np.log(1.0 - a3)))"
   ]
  },
  {
   "cell_type": "markdown",
   "metadata": {},
   "source": [
    "# References\n",
    "\n",
    "* [Under the Hood of Neural Network Forward Propagation -- The Dreaded Matrix Multiplication](https://towardsdatascience.com/under-the-hood-of-neural-network-forward-propagation-the-dreaded-matrix-multiplication-a5360b33426)"
   ]
  },
  {
   "cell_type": "code",
   "execution_count": null,
   "metadata": {},
   "outputs": [],
   "source": []
  }
 ],
 "metadata": {
  "kernelspec": {
   "display_name": "ds",
   "language": "python",
   "name": "ds"
  },
  "language_info": {
   "codemirror_mode": {
    "name": "ipython",
    "version": 2
   },
   "file_extension": ".py",
   "mimetype": "text/x-python",
   "name": "python",
   "nbconvert_exporter": "python",
   "pygments_lexer": "ipython2",
   "version": "2.7.14"
  }
 },
 "nbformat": 4,
 "nbformat_minor": 2
}
